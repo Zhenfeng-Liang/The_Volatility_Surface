{
 "cells": [
  {
   "cell_type": "markdown",
   "metadata": {
    "slideshow": {
     "slide_type": "slide"
    }
   },
   "source": [
    "# MTH 9875 The Volatility Surface:    Fall 2015\n",
    "\n",
    "<p>\n",
    "### Lecture 10: Variance swaps and all that\n",
    "<p>\n",
    "\n",
    "Jim Gatheral   \n",
    "Department of Mathematics   \n",
    "  \n",
    "  \n",
    "<h3><img src=\"http://mfe.baruch.cuny.edu/wp-content/uploads/2014/07/BaruchLogo2.png\" align = \"left\" width=160></h3>  \n",
    "\n",
    "<h3><img src=\"http://mfe.baruch.cuny.edu/wp-content/uploads/2014/07/MFElogo.png\" align = \"right\" width=100></h3>"
   ]
  },
  {
   "cell_type": "markdown",
   "metadata": {
    "slideshow": {
     "slide_type": "slide"
    }
   },
   "source": [
    "### Outline of lecture\n",
    "\n",
    "* Spanning generalized European payoffs\n",
    "\n",
    "\n",
    "* The log contract\n",
    "\n",
    "\n",
    "* The variance swap\n",
    "\n",
    "    * Dependence on skew and curvature\n",
    "    \n",
    "    * The impact of jumps"
   ]
  },
  {
   "cell_type": "markdown",
   "metadata": {
    "slideshow": {
     "slide_type": "subslide"
    }
   },
   "source": [
    "* Weighted variance swaps\n",
    "\n",
    "    * The gamma swap\n",
    "\n",
    "    * The leverage swap\n",
    "\n",
    "\n",
    "* Volatility swaps\n",
    "\n",
    "    * The convexity adjustment"
   ]
  },
  {
   "cell_type": "markdown",
   "metadata": {
    "slideshow": {
     "slide_type": "slide"
    }
   },
   "source": [
    "### Volatility derivatives\n",
    "\n",
    "* In this lecture, we will investigate the pricing and hedging of claims that have realized volatility or variance (quadratic variation) as underlying.\n",
    "\n",
    "\n",
    "* We might expect volatility derivatives be very exotic and therefore hard to price and hedge\n",
    "\n",
    "    * It turns out that in some respects, they are amongst the safest and easiest.\n",
    "    \n",
    "\n",
    "* In our survey of volatility derivatives, we will encounter some of the most elegant constructions in financial mathematics."
   ]
  },
  {
   "cell_type": "markdown",
   "metadata": {
    "slideshow": {
     "slide_type": "slide"
    }
   },
   "source": [
    "### Spanning generalized European payoffs\n",
    "\n",
    "* As usual, we assume that European options with all possible strikes and expirations are traded.  \n",
    "\n",
    "\n",
    "* We will show that any twice-differentiable payoff at time $T$ may be statically hedged using a portfolio of European options expiring at time $T$.  "
   ]
  },
  {
   "cell_type": "markdown",
   "metadata": {
    "slideshow": {
     "slide_type": "subslide"
    }
   },
   "source": [
    "$$\n",
    "\\newcommand{\\bea}{\\begin{eqnarray}}\n",
    "\\newcommand{\\eea}{\\end{eqnarray}}\n",
    "\\newcommand{\\supp}{\\mathrm{supp}}\n",
    "\\newcommand{\\E}{\\mathbb{E} }\n",
    "\\def\\Cov{{ \\mbox{Cov} }}\n",
    "\\def\\Var{{ \\mbox{Var} }}\n",
    "\\newcommand{\\1}{\\mathbf{1} }\n",
    "\\newcommand{\\PP}{\\mathbb{P} }\n",
    "\\newcommand{\\QQ}{\\mathbb{Q} }\n",
    "\\newcommand{\\RR}{\\mathbb{R} }\n",
    "\\newcommand{\\DD}{\\mathbb{D} }\n",
    "\\newcommand{\\HH}{\\mathbb{H} }\n",
    "\\newcommand{\\spn}{\\mathrm{span} }\n",
    "\\newcommand{\\cov}{\\mathrm{cov} }\n",
    "\\newcommand{\\HS}{\\mathcal{L}_{\\mathrm{HS}} }\n",
    "\\newcommand{\\trace}{\\mathrm{trace} }\n",
    "\\newcommand{\\LL}{\\mathcal{L} }\n",
    "\\newcommand{\\s}{\\mathcal{S} }\n",
    "\\newcommand{\\ee}{\\mathcal{E} }\n",
    "\\newcommand{\\ff}{\\mathcal{F} }\n",
    "\\newcommand{\\hh}{\\mathcal{H} }\n",
    "\\newcommand{\\bb}{\\mathcal{B} }\n",
    "\\newcommand{\\dd}{\\mathcal{D} }\n",
    "\\newcommand{\\g}{\\mathcal{G} }\n",
    "\\newcommand{\\half}{\\frac{1}{2} }\n",
    "\\newcommand{\\T}{\\mathcal{T} }\n",
    "\\newcommand{\\bi}{\\begin{itemize}}\n",
    "\\newcommand{\\ei}{\\end{itemize}}\n",
    "\\newcommand{\\beq}{\\begin{equation}}\n",
    "\\newcommand{\\eeq}{\\end{equation}}\n",
    "\\newcommand{\\cV}{\\mathcal{V}}\n",
    "\\newcommand{\\cG}{\\mathcal{G}}\n",
    "\\newcommand{\\cL}{\\mathcal{L}}\n",
    "\\newcommand{\\cO}{\\mathcal{O}}\n",
    "$$\n",
    "\n",
    "### Proof from [Carr and Madan]<sup id=\"cite_ref-CarrMadan\" class=\"reference\"><a href=\"#cite_note-CarrMadan\"><span>[</span>2<span>]</span></a></sup>\n",
    "\n",
    "The value of a claim with a generalized payoff $g(S_T)$ at time $T$ is\n",
    "given by \n",
    "\n",
    "\\begin{eqnarray*}\n",
    " g(S_T)&=&\\int_0^\\infty\\,g(K)\\,\\delta(S_T-K)\\,dK\\\\\n",
    " &=&\\int_0^F\\,g(K)\\,\\delta(S_T-K)\\,dK + \\int_F^\\infty\\,g(K)\\,\\delta(S_T-K)\\,dK.\n",
    "\\end{eqnarray*}\n",
    "\n",
    "Integrating by parts gives\n",
    "\\begin{eqnarray*}\n",
    " g(S_T)&=&g(F)-\\int_0^F\\,g'(K)\\,\\theta(K-S_T)\\,dK \\\\&&+ \\int_F^\\infty\\,g'(K)\\,\\theta(S_T-K)\\,dK.\n",
    "\\end{eqnarray*}"
   ]
  },
  {
   "cell_type": "markdown",
   "metadata": {
    "slideshow": {
     "slide_type": "subslide"
    }
   },
   "source": [
    "... and integrating by parts again gives\n",
    "\n",
    "<a name=\"eq:spanning\"></a>(1)\n",
    "\\begin{eqnarray*}\n",
    " g(S_T)&=&\\int_0^F\\,g''(K)\\,(K-S_T)^+\\,dK + \\int_F^\\infty\\,g''(K)\\,(S_T-K)^+\\,dK\\nonumber\\\\\n",
    " &&+ g(F) - g'(F)\\,\\left[ (F-S_T)^+ - (S_T-F)^+ \\right]\\nonumber\\\\\n",
    " &=&\\int_0^F\\,g''(K)\\,(K-S_T)^+\\,dK + \\int_F^\\infty\\,g''(K)\\,(S_T-K)^+\\,dK\\nonumber\\\\\n",
    " &&+ g(F)  + g'(F)\\,(S_T-F).\n",
    "\\end{eqnarray*}"
   ]
  },
  {
   "cell_type": "markdown",
   "metadata": {
    "slideshow": {
     "slide_type": "subslide"
    }
   },
   "source": [
    "Then, with $F=\\E[S_T]$, \n",
    "\n",
    "<a name=\"eq:generalizedpayoff\"></a>(2)\n",
    "\\begin{eqnarray*}\n",
    " \\mathbb{E} \\left[ g(S_T)\\right]\n",
    " =g(F)\\,+\\,\\int _0 ^F \\, dK \\, \\tilde\n",
    " P(K)\\,g''(K)\\,+\\,\\int _F ^\\infty \\, dK \\,\n",
    "  \\tilde C(K)\\,g''(K)\n",
    "\\end{eqnarray*}\n",
    "\n",
    "* Equation [(1)](#eq:spanning) shows how to build any curve using hockey-stick payoffs (if $g(\\cdot)$ is twice-differentiable)."
   ]
  },
  {
   "cell_type": "markdown",
   "metadata": {
    "slideshow": {
     "slide_type": "slide"
    }
   },
   "source": [
    "### Remarks on spanning of European-style payoffs\n",
    "\n",
    "* From equation [(1)](#eq:spanning) we see that any European-style twice-differentiable payoff may be replicated using a portfolio of European options with strikes from $0$ to $\\infty$.\n",
    "\n",
    "    * The weight of each option equal to the second derivative of the payoff at the strike price of the option.   "
   ]
  },
  {
   "cell_type": "markdown",
   "metadata": {
    "slideshow": {
     "slide_type": "subslide"
    }
   },
   "source": [
    "* This portfolio of European options is a static hedge because the weight of an option with a particular strike depends only on the strike price and the form of the payoff function and not on time or the level of the stock price.  \n",
    "\n",
    "\n",
    "* Note further that equation [(1)](#eq:spanning) is *completely model-independent*."
   ]
  },
  {
   "cell_type": "markdown",
   "metadata": {
    "slideshow": {
     "slide_type": "slide"
    }
   },
   "source": [
    "### Example: European options\n",
    "\n",
    "* In fact, using Dirac delta-functions, we can extend the above result to payoffs which are not twice-differentiable.\n",
    "\n",
    "\n",
    "* For example with $g(S_T)=(S_T-L)^+$, $g''(K)=\\delta(K-L)$ and equation [(2)](#eq:generalizedpayoff) gives:"
   ]
  },
  {
   "cell_type": "markdown",
   "metadata": {
    "slideshow": {
     "slide_type": "subslide"
    }
   },
   "source": [
    "$$\\begin{eqnarray*}\n",
    " \\mathbb{E} \\left[ (S_T-L)^+ \\right]\n",
    " &=&(F-L)^+\\,+\\,\\int _0 ^F \\, dK \\, \\tilde\n",
    " P(K)\\,\\delta(K-L)\\,\\nonumber\\\\\n",
    " &\\,&+\\,\\int _F ^\\infty \\, dK \\,\n",
    "  \\tilde C(K)\\,\\delta(K-L)\\nonumber\\\\\n",
    " &=&\\left\\{ \\begin{array} {r@{\\quad \\rm{if} \\quad}l}\n",
    " (F-L)\\,+\\,\\tilde P(L) & L<F\\\\ \\tilde C(L) & L\\geq F \\end{array}\n",
    " \\right.\\nonumber\\\\\n",
    " &=& \\tilde C(L)\\end{eqnarray*}$$\n",
    "\n",
    "with the last step following from put-call parity as before.\n",
    "\n",
    "* The replicating portfolio for a European option is just the option itself.  "
   ]
  },
  {
   "cell_type": "markdown",
   "metadata": {
    "slideshow": {
     "slide_type": "slide"
    }
   },
   "source": [
    "### Example: Amortizing options\n",
    "\n",
    "* A variation on the payoff of the standard European option is given by the amortizing option with strike $L$ with payoff\n",
    "\n",
    "    $$g(S_T)=\\frac{(S_T-L)^+}{S_T}.$$  \n",
    "\n",
    "    * Such options look particularly attractive when the volatility of the underlying stock is very high and the price of a standard European option is prohibitive.   \n",
    "\n",
    "\n",
    "* The payoff is effectively that of a European option whose notional amount declines as the option goes in-the-money.  "
   ]
  },
  {
   "cell_type": "markdown",
   "metadata": {
    "slideshow": {
     "slide_type": "subslide"
    }
   },
   "source": [
    "* Then,\n",
    "    $$g''(K)\\,=\\,\\left. \\left\\{-\\frac{2L}{{S_T}^3}\\,\\theta(S_T-L) \\,+\\,\\frac{\\delta(S_T-L)}{S_T}\\right\\}\\right|_{S_T=K}$$   \n",
    "\n",
    "\n",
    "* Without loss of generality (but to make things easier), suppose $L>F$.   \n",
    "\n",
    "\n",
    "* Substituting into equation [(2)](#eq:generalizedpayoff) gives\n",
    "\n",
    "    $$\\begin{eqnarray*}\n",
    "     \\mathbb{E} \\left[ \\frac{(S_T-L)^+}{S_T}\\right]\n",
    "      &=&\\int _F ^\\infty\\,dK \\,  \\tilde C(K)\\,g''(K)\\nonumber\\\\\n",
    "      &=&\\frac{\\tilde C(L)}{L}\\,-2 L \\,\\int _L ^\\infty\\,\\frac{dK}{K^3} \\,  \\tilde C(K).\\end{eqnarray*}$$"
   ]
  },
  {
   "cell_type": "markdown",
   "metadata": {
    "slideshow": {
     "slide_type": "subslide"
    }
   },
   "source": [
    "* We see that an Amortizing call option struck at $L$ is equivalent to a European call option struck at $L$ minus an infinite strip of European call options with strikes from $L$ to $\\infty$.  "
   ]
  },
  {
   "cell_type": "markdown",
   "metadata": {
    "slideshow": {
     "slide_type": "slide"
    }
   },
   "source": [
    "### The log contract\n",
    "\n",
    "Now consider a contract whose payoff at time $T$ is $\\log ({S_T}/{F})$.\n",
    "Then $g''(K)=-\\left.{1}/{{S_T}^2}\\right|_{S_T=K}$ and it follows from\n",
    "equation [(2)](#eq:generalizedpayoff) that\n",
    "\n",
    "$$\\begin{eqnarray*}\n",
    " \\mathbb{E} \\left[\\log\n",
    "\\left(\\frac{S_T}{F}\\right)\\right]\n",
    "  &=&\\,-\\int _0 ^F \\, \\frac{dK}{K^2} \\, \\tilde\n",
    " P(K)\\,-\\,\\int _F ^\\infty \\, \\frac{dK}{K^2} \\,\n",
    "  \\tilde C(K)\\end{eqnarray*}$$\n",
    "\n",
    "Rewriting this equation in terms of the log-strike variable $k := \\log \\left( {K}/{F} \\right)$, we get the promising-looking expression"
   ]
  },
  {
   "cell_type": "markdown",
   "metadata": {
    "slideshow": {
     "slide_type": "subslide"
    }
   },
   "source": [
    "<a name=\"eq:varfairval\"></a>(3)\n",
    "$$\\begin{eqnarray*}\n",
    " \\mathbb{E} \\left[\\log\n",
    "\\left(\\frac{S_T}{F}\\right)\\right]\n",
    "  &=&\\,-\\int _{-\\infty} ^0 \\, dk \\,\n",
    " p(k)\\,-\\,\\int _0 ^\\infty \\, dk \\,\n",
    "  c(k)\n",
    "\\end{eqnarray*}$$\n",
    "\n",
    "with\n",
    "$$c(y) :=  \\frac{ \\tilde C(F e^y)}{F e^y}; \\, p(y) := \\frac{\\tilde P(F\n",
    "e^y)}{F e^y}$$ \n",
    "\n",
    "representing option prices expressed in terms of\n",
    "percentage of the strike price."
   ]
  },
  {
   "cell_type": "markdown",
   "metadata": {
    "slideshow": {
     "slide_type": "slide"
    }
   },
   "source": [
    "### Variance swaps\n",
    "\n",
    "Assume zero interest rates and dividends. Then $F=S_0$ and applying\n",
    "Itô’s Lemma, path-by-path\n",
    "\n",
    "<a name=\"eq:logcontract\"></a>(4)\n",
    "$$\\begin{eqnarray*}\n",
    " \\log\\left(\\frac{S_T}{F}\\right)\n",
    " &=&\n",
    " \\log\\left(\\frac{S_T}{S_0}\\right)\\nonumber\\\\\n",
    " &=& \\int _0 ^T \\, d\n",
    " \\log\\left({S_t}\\right)\\nonumber\\\\\n",
    " &=& \\int _0 ^T \\, \\frac {d S_t}{S_t}\\,-\\,\\int _0 ^T \\, \\frac {{\\sigma_t}^2}{2}dt\n",
    "\\end{eqnarray*}$$\n",
    "\n",
    "* The second term on the RHS of equation [(4)](#eq:logcontract) is immediately recognizable as half the total variance (or quadratic variation) $W_T:=\\langle x \\rangle_T$ over the interval $[ 0,T]$.\n",
    "  "
   ]
  },
  {
   "cell_type": "markdown",
   "metadata": {
    "slideshow": {
     "slide_type": "subslide"
    }
   },
   "source": [
    "* The first term on the RHS represents the payoff of a hedging strategy which involves maintaining a constant dollar amount in stock (if the stock price increases, sell stock; if the stock price decreases, buy stock so as to maintain a constant dollar value of stock).   \n",
    "\n",
    "\n",
    "* Since the log payoff on the LHS can be hedged using a portfolio of European options as noted earlier, it follows that the total variance $W_T$ may be replicated in a completely model-independent way so long as the stock price process is a diffusion.   \n",
    "\n",
    "    * In particular, volatility may be stochastic or deterministic and equation [(4)](#eq:logcontract) still applies.   "
   ]
  },
  {
   "cell_type": "markdown",
   "metadata": {
    "slideshow": {
     "slide_type": "slide"
    }
   },
   "source": [
    "### The log-strip hedge for a variance swap\n",
    "\n",
    "Now taking the risk-neutral expectation of [(4)](#eq:logcontract) and\n",
    "comparing with equation [(3)](#eq:varfairval), we obtain\n",
    "\n",
    "<a name=\"eq:varstrip\"></a>(5)\n",
    "$$\\mathbb{E}\\left[\\int _0 ^T \\,{\\sigma_{t}^2}dt\\right] =-\n",
    "2\\,\\mathbb{E}\\left[ \\log\\left(\\frac{S_T}{S_0}\\right)\\right]\\\\= 2\\left\\{\n",
    "\\int _{-\\infty} ^0 dk \\,\n",
    " p(k)\\,+\\,\\int _0 ^\\infty  dk \\,c(k)\\right\\}$$\n",
    "\n",
    "* We see that the fair value of total variance is given by the value of an infinite strip of European options in a completely *model-independent* way so long as the underlying process is a diffusion.  "
   ]
  },
  {
   "cell_type": "markdown",
   "metadata": {
    "slideshow": {
     "slide_type": "slide"
    }
   },
   "source": [
    "### Weighted variance swaps\n",
    "\n",
    "Consider the weighted variance swap with payoff\n",
    "\n",
    "$$\\int_0^T\\,\\alpha(S_t)\\,v_t\\,dt.$$ \n",
    "\n",
    "An application of Itô’s Lemma gives\n",
    "the quasi-static hedge: \n",
    "\n",
    "<a name=\"eq:genVarSwap\"></a>(6)\n",
    "\\begin{equation}\n",
    "\\int_0^T\\,\\alpha(S_t)\\,v_t\\,dt = A(S_T)-A(S_0) - \\int_0^T\\,A'(S_u)\\,dS_u\n",
    "\\end{equation}\n",
    "\n",
    "with\n",
    "\n",
    "$$A(x) = 2\\,\\int_1^x\\,dy\\,\\int_1^y \\frac{\\alpha(z)}{z^2}\\,dz.$$"
   ]
  },
  {
   "cell_type": "markdown",
   "metadata": {
    "slideshow": {
     "slide_type": "subslide"
    }
   },
   "source": [
    "* The LHS of [(6)](#eq:genVarSwap) is the payoff to be hedged. The last term on the RHS of [(6)](#eq:genVarSwap) corresponds to rebalancing in the underlying. The first term on the RHS corresponds to a static position in options given by the spanning formula [(1)](#eq:spanning)."
   ]
  },
  {
   "cell_type": "markdown",
   "metadata": {
    "slideshow": {
     "slide_type": "slide"
    }
   },
   "source": [
    "### Example: Gamma swaps\n",
    "\n",
    "The payoff of a gamma swap is\n",
    "\n",
    "$$\\frac 1 {S_0} \\,\\int_0^T\\,S_t\\,v_t\\,dt.$$ \n",
    "\n",
    "Thus $\\alpha(x)=x$ and\n",
    "\n",
    "$$A(x) = \\frac{2}{S_0}\\,\\int_1^x\\,dy\\,\\int_1^y \\frac{z}{z^2}\\,dz = \\frac{2}{S_0}\\,\\left\\{1 -x + x \\, \\log x\\right\\}.$$\n",
    "\n",
    "The static options hedge is the spanning strip for $\\frac{2}{S_0}\\,S_T\\,\\log S_T$.\n",
    "\n",
    "* Gamma swaps are marketed as “less dangerous” because higher variances are associated with lower stock prices."
   ]
  },
  {
   "cell_type": "markdown",
   "metadata": {
    "slideshow": {
     "slide_type": "slide"
    }
   },
   "source": [
    "### Variance swaps and gamma swaps as traded assets\n",
    "\n",
    "Denote the time $t$ value of the option strip for a variance swap\n",
    "maturing at $T$ by $\\cV_t(T)$. That is\n",
    "\n",
    "$$\\cV_t(T)=-2\\,\\E\\left[\\log \\frac{S_T}{S_t}\\right]={\\mathbb{E} }\\left [\\left. \\int_t^T\\,v_u\\,du \\right| {\\mathcal{F} }_t\\right].$$\n",
    "\n",
    "Similarly, for a gamma swap\n",
    "\n",
    "$$\\cG_t(T) =2\\,\\E\\left[\\frac{S_T}{S_t}\\,\\log \\frac{S_T}{S_t}\\right]= {\\mathbb{E} }\\left [\\left. \\int_t^T\\,\\frac{S_u}{S_t}\\,v_u\\,du \\right| {\\mathcal{F} }_t\\right].$$"
   ]
  },
  {
   "cell_type": "markdown",
   "metadata": {
    "slideshow": {
     "slide_type": "subslide"
    }
   },
   "source": [
    "* Both $\\cV_t(T)$ and $\\cG_t(T)$ are random variables representing the prices of traded assets.\n",
    "\n",
    "    * Specifically, values of portfolios of options appropriately weighted by strike.\n",
    "        * $\\cV_t(T)$ is given by the expectation $\\E_t[\\log S_T]$ of the log contract.\n",
    "        * $\\cG_t(T)$ is given by the expectation $\\E_t[S_T \\log S_T]$ of the entropy contract.\n",
    "    "
   ]
  },
  {
   "cell_type": "markdown",
   "metadata": {
    "slideshow": {
     "slide_type": "slide"
    }
   },
   "source": [
    "### The leverage swap\n",
    "\n",
    "Following [Fukasawa]<sup id=\"cite_ref-FukasawaMFIL\" class=\"reference\"><a href=\"#cite_note-FukasawaMFIL\"><span>[</span>5<span>]</span></a></sup>, consider the expected quadratic covariation of the underlying and the variance swap:\n",
    "\n",
    "$$\\E\\left[\\langle S,\\cV(T) \\rangle_T \\right]:= {\\mathbb{E} }\\left[\\int_0^T\\,dS_t\\,d\\cV_t(T) \\right].$$\n",
    "\n",
    "Itô’s Lemma gives\n",
    "\n",
    "$$d(S_t\\,\\cV_t(T))=S_t\\,d\\cV_t(T) + \\cV_t(T)\\,dS_t + dS_t \\,d\\cV_t(T)$$ \n",
    "\n",
    "so\n",
    "\n",
    "$$\n",
    "\\E\\left[\\langle S,\\cV(T) \\rangle_T \\right]= \\E[S_T\\,\\cV_T(T)] - S_0\\,\\cV_0(T) - \\E\\left[ \\int_0^T\\,S_t\\,d\\cV_t(T)\\right].\n",
    "$$"
   ]
  },
  {
   "cell_type": "markdown",
   "metadata": {
    "slideshow": {
     "slide_type": "subslide"
    }
   },
   "source": [
    "Noting that $\\cV_T(T)=0$ and that $d\\cV_t(T) = -v_t\\,dt$, we obtain\n",
    "\n",
    "<a name=\"eq:covarianceSwap\"></a>(7)\n",
    "\\begin{eqnarray*}\n",
    "\\E\\left[\\langle S,\\cV(T) \\rangle_T \\right]&=& \\E\\left[ \\int_0^T\\,S_t\\,v_t\\,dt \\right]-  S_0\\,\\cV_0(T) \\nonumber\\\\\n",
    "&=& S_0\\,\\left(\\cG_0(T)- \\cV_0(T)\\right)\\\\\n",
    "&=&S_0\\, \\cL_0(T) \n",
    "\\end{eqnarray*}\n",
    "\n",
    "where $\\cL_0(T) = \\cG_0(T)- \\cV_0(T)$ is the *leverage* swap.\n",
    "\n",
    "Thus the leverage swap gives us the expected quadratic covariation between the underlying and the variance swap.\n",
    "\n",
    "   * This result is completely  *model independent*   (assuming diffusion), just as in the variance swap and gamma swap cases.\n",
    "   "
   ]
  },
  {
   "cell_type": "markdown",
   "metadata": {
    "slideshow": {
     "slide_type": "subslide"
    }
   },
   "source": [
    "#### Expression in terms of log and entropy contracts\n",
    "\n",
    "Going back to the expression of the variance and gamma swaps in terms of log and entropy contracts respectively,\n",
    "\n",
    "$$\n",
    "\\cL_t(T) = \\cG_t(T)- \\cV_t(T) = 2\\,\\E\\left[\\left(\\frac{S_T}{S_t}+1\\right)\\,\\log \\frac{S_T}{S_t}\\right].\n",
    "$$"
   ]
  },
  {
   "cell_type": "markdown",
   "metadata": {
    "slideshow": {
     "slide_type": "slide"
    }
   },
   "source": [
    "### Bergomi-Guyon again\n",
    "\n",
    "Recall from Lecture 3 that Bergomi-Guyon (BG) dynamics are:\n",
    "\n",
    "\\begin{eqnarray*}\n",
    "\\frac{dS_t}{S_t} &=&\\sqrt{\\xi_t(t)}\\,dZ_t^{(1)}\\\\\n",
    "d\\xi_t(u) &=& \\lambda(t,u,\\xi_t).dZ_t.\n",
    "\\end{eqnarray*}\n",
    "\n",
    "Here, the instantaneous forward variance curve at time $t$ is represented by\n",
    "\n",
    "$$\n",
    "\\xi_t := \\left\\{\\xi_t(u): \\,u \\geq t \\right\\}\n",
    "$$\n",
    "\n",
    "and $Z=\\left\\{Z^{(1)},...,Z^{(d)}\\right\\}$ is a $d-$dimensional Brownian motion."
   ]
  },
  {
   "cell_type": "markdown",
   "metadata": {
    "slideshow": {
     "slide_type": "subslide"
    }
   },
   "source": [
    "To first order in volatility of volatility, the Bergomi-Guyon expansion takes the form\n",
    "\n",
    "$$\n",
    "\\sigma_\\text{BS}(k,t)=\\hat\\sigma_T + \\mathcal{S}_T\\,k  +O(\\epsilon^2)\n",
    "$$ \n",
    "\n",
    "with \n",
    "\n",
    "\\begin{eqnarray*}\n",
    "\\hat\\sigma_T &=& \\sqrt{\\frac w T} \\,\\left\\{ 1 + \\frac{1}{4\\,w}\\,C^{x \\xi}  \\right\\}\\\\\n",
    "\\mathcal{S}_T &=&  \\sqrt{\\frac w T} \\,\\left\\{\\frac{1}{2\\,w^2}\\,C^{x\\,\\xi} \\right\\}\n",
    "\\end{eqnarray*}\n",
    "\n",
    "where\n",
    "$\n",
    "w = \\int_0^T\\,\\xi_0(s)\\,ds = \\cV_0(T)\n",
    "$\n",
    "is total variance to expiration $T$."
   ]
  },
  {
   "cell_type": "markdown",
   "metadata": {
    "slideshow": {
     "slide_type": "subslide"
    }
   },
   "source": [
    "Moreover, from the definition of $C^{x \\xi}$,\n",
    "\\begin{eqnarray*}\n",
    "C^{x\\,\\xi} &=& \\int_0^T\\,dt\\,\\int_t^T\\,du\\,\\frac{\\E \\left[dx_t\\,d\\xi_t(u)\\right]}{dt}\\\\\n",
    "&=& \\int_0^T\\,dt\\,\\frac{\\E \\left[dx_t\\,d\\cV_t(T)\\right]}{dt}\\\\\n",
    "&=& \\E\\left[\\langle \\log S,\\cV(T) \\rangle_T \\right].\n",
    "\\end{eqnarray*}"
   ]
  },
  {
   "cell_type": "markdown",
   "metadata": {
    "slideshow": {
     "slide_type": "subslide"
    }
   },
   "source": [
    "But $C^{x \\xi}$ is $\\cO(\\epsilon)$ and $\\cV(T) = \\cG(T) + \\cO(\\epsilon)$ so \n",
    "\n",
    "$$\n",
    "C^{x\\,\\xi} = \\E\\left[\\langle \\log S,\\cV(T) \\rangle_T \\right] = \\E\\left[\\langle \\log S,\\cG(T) \\rangle_T \\right] + \\cO(\\epsilon) = \\cL_0(T) + \\cO(\\epsilon).\n",
    "$$\n",
    "\n",
    "where we further used the fact that (see Fukasawa) $\\cL_0(T)=\\E\\left[\\langle \\log S,\\cG(T) \\rangle_T \\right]$.  Then\n",
    "\n",
    "\\begin{eqnarray*}\n",
    "\\sigma_\\text{BS}^2(k,t)\\, T &=& \\hat\\sigma_T^2\\,T + 2\\,\\hat\\sigma_T^2\\,\\mathcal{S}_T\\,k  +O(\\epsilon^2)\\\\\n",
    "&=& w + \\frac12\\,C^{x \\xi} + C^{x \\xi}\\,\\frac{k}{w}+O(\\epsilon^2).\n",
    "\\end{eqnarray*}"
   ]
  },
  {
   "cell_type": "markdown",
   "metadata": {
    "slideshow": {
     "slide_type": "subslide"
    }
   },
   "source": [
    "Noting that $w=\\cV_0(T)$, we find the following first order approximation to the at-the-money total variance skew in terms of the leverage swap:\n",
    "\n",
    "$$\n",
    "\\left.\\partial_k \\sigma_\\text{BS}^2(k,t)\\, T \\right|_k=0 = \\frac{\\cL_0(T)}{\\cV_0(T)} + \\cO(\\epsilon^2).\n",
    "$$\n",
    "\n",
    "Thus the leverage swap gives a model-free approximation to the ATM implied volatility skew to first order in volatility of volatility."
   ]
  },
  {
   "cell_type": "markdown",
   "metadata": {
    "slideshow": {
     "slide_type": "slide"
    }
   },
   "source": [
    "### Variance swap contracts in practice\n",
    "\n",
    "* A variance swap is not really a swap at all but a forward contract on the realized annualized variance. The payoff at time $T$ is\n",
    "\n",
    "    $$N\\times A \\times \\left\\{ \\frac{1}{N}\\sum _{i=1} ^N \\left\\{\\log\n",
    "    \\left(\\frac{S_i}{S_{i-1}} \\right)\\right\\}^2\n",
    "    \\,-\\,\\left\\{\\frac{1}{N}\\log \\left(\\frac{S_N}{S_0} \\right)\\right\\}^2\n",
    "     \\right\\}\\,-\\,N\\times K_{var}$$ \n",
    "     \n",
    "     where $N$ is the notional amount of the swap, $A$ is the annualization factor and $K_{var}$ is the strike price.\n",
    "  "
   ]
  },
  {
   "cell_type": "markdown",
   "metadata": {
    "slideshow": {
     "slide_type": "subslide"
    }
   },
   "source": [
    "  \n",
    "* Annualized variance may or may not be defined as mean-adjusted in practice.  \n",
    "\n",
    "\n",
    "* From a theoretical perspective, the beauty of a variance swap is that it may be replicated perfectly assuming a diffusion process for the stock price as shown in the previous section.\n",
    "\n",
    "\n",
    "* From a practical perspective, traders may express views on volatility using variance swaps without having to delta hedge.  "
   ]
  },
  {
   "cell_type": "markdown",
   "metadata": {
    "slideshow": {
     "slide_type": "slide"
    }
   },
   "source": [
    "### History of variance swaps\n",
    "\n",
    "* Variance swaps took off as a product in the aftermath of the LTCM meltdown in late 1998 when implied stock index volatility levels rose to unprecedented levels.   \n",
    "\n",
    "\n",
    "*  Hedge funds took advantage of this by paying variance in swaps (selling the realized volatility at high implied levels).  \n",
    "\n",
    "    * The key to their willingness to pay on a variance swap rather than sell options was that a variance swap is a pure play on realized volatility – no labor-intensive delta hedging or other path dependency is involved.  "
   ]
  },
  {
   "cell_type": "markdown",
   "metadata": {
    "slideshow": {
     "slide_type": "subslide"
    }
   },
   "source": [
    "* Dealers were happy to buy vega at these high levels because they were structurally short vega (in the aggregate) through sales of guaranteed equity-linked investments to retail investors and were getting badly hurt by high implied volatility levels.  "
   ]
  },
  {
   "cell_type": "markdown",
   "metadata": {
    "slideshow": {
     "slide_type": "slide"
    }
   },
   "source": [
    "### Variance swaps in the Heston model\n",
    "\n",
    "Recall that $v$ follows the process:\n",
    "\n",
    "$$dv(t) =  - \\lambda (v_{t} - \\bar v)dt + \\eta \\,\\sqrt {v_{t}}\\, dZ$$\n",
    "\n",
    "Then\n",
    "\n",
    "$$\\begin{eqnarray*}\n",
    " \\mathbb{E} \\left[W_T \\right]\n",
    " &=&\\mathbb{E} \\left[\\int_0 ^T \\, v_t \\,dt \\right]\\nonumber\\\\\n",
    " &=&\\int_0 ^T \\,\\hat v_t \\,dt \\nonumber\\\\\n",
    " &=&\\frac{1-e^{-\\lambda T}}{\\lambda}\\,(v-\\bar v)\\,+\\,\\bar v T\\end{eqnarray*}$$"
   ]
  },
  {
   "cell_type": "markdown",
   "metadata": {
    "slideshow": {
     "slide_type": "subslide"
    }
   },
   "source": [
    "The expected annualized variance is given by\n",
    "\n",
    "$$\\frac{1}{T}\\mathbb{E} \\left[W_T \\right] \\,=\\,\\frac{1-e^{-\\lambda\n",
    "T}}{\\lambda T}\\,(v-\\bar v)\\,+\\,\\bar v$$"
   ]
  },
  {
   "cell_type": "markdown",
   "metadata": {
    "slideshow": {
     "slide_type": "slide"
    }
   },
   "source": [
    "### Model-independence of variance swap\n",
    "\n",
    "* Expected variance in the Heston model depends only on $v$, $\\bar v$ and $\\lambda$.   \n",
    "\n",
    "    * It does not depend on the volatility of volatility $\\eta$.  \n",
    "\n",
    "    * Since the value of a variance swap depends only on the prices of European options, it cannot depend on the specific dynamics assumed (local or stochastic volatility for example).   "
   ]
  },
  {
   "cell_type": "markdown",
   "metadata": {
    "slideshow": {
     "slide_type": "slide"
    }
   },
   "source": [
    "### Dependence of variance swap on skew and curvature\n",
    "\n",
    "* In practice, we start with a strip of European options of a given expiration and we would like to know how we should expect the price of a variance swap to relate to the at-the-money-forward implied volatility, the volatility skew and the volatility curvature (smile).  "
   ]
  },
  {
   "cell_type": "markdown",
   "metadata": {
    "slideshow": {
     "slide_type": "slide"
    }
   },
   "source": [
    "### A cool formula for the variance swap\n",
    "\n",
    "Define\n",
    "\n",
    "$$z(k)=d_2=-\\frac{k}{\\sigma_{BS}(k)\\sqrt{T}}-\\frac{\\sigma_{BS}(k)\\sqrt{T}}{2}$$\n",
    "\n",
    "Intuitively, $z$ measures the log-moneyness of an option in implied\n",
    "standard deviations. Then,\n",
    "\n",
    "<a name=\"eq:vard2\"></a>(8)\n",
    "$$\\mathbb{E}[W_T]=-2\\,\\mathbb{E}\\left[\\log\\frac{S_T}{F}\\right]=\\int\\limits_{-\\infty}^{\\infty}dz \\,N'(z)\\,\n",
    "\\sigma_{BS}^2(z,T) T$$\n",
    "\n",
    "To see this formula is plausible, it is obviously correct in the flat-volatility Black-Scholes case. We now proceed to prove it."
   ]
  },
  {
   "cell_type": "markdown",
   "metadata": {
    "slideshow": {
     "slide_type": "subslide"
    }
   },
   "source": [
    "### Proof of equation [(8)](#eq:vard2)\n",
    "\n",
    "As usual, the undiscounted European call option price is given by\n",
    "\n",
    "$$\n",
    "C = F\\left\\{ N(  d_+ ) - e^k N (d_-)\\right\\}\n",
    "$$ \n",
    "where $k:=\\log(K/F)$ is the log-strike and \n",
    "\n",
    "$$\n",
    "d_\\pm  =  - \\frac{k}{{\\sqrt w }} \\pm \\frac{{\\sqrt\n",
    "w }}{2}.\n",
    "$$\n",
    "\n",
    "Differentiating wrt the strike $K$ we obtain\n",
    "\n",
    "$$\\frac{{\\partial C}}{{\\partial K}} = \\frac{1}{K}\\frac{{\\partial\n",
    "C}}{{\\partial k}} =  - N\\left( d_- \\right) + N'\\left( d_- \\right)\\frac{{\\partial \\sqrt w }}{{\\partial\n",
    "k}}$$ "
   ]
  },
  {
   "cell_type": "markdown",
   "metadata": {
    "slideshow": {
     "slide_type": "subslide"
    }
   },
   "source": [
    "Now introduce the notation\n",
    "\n",
    "$$d_1  =  - \\frac{k}{{\\sqrt w }} + \\frac{{\\sqrt\n",
    "w }}{2}; \\,d_2  =  - \\frac{k}{{\\sqrt w }} - \\frac{{\\sqrt w }}{2}.$$\n",
    "\n",
    "Differentiating again wrt $K$, we obtain\n",
    "\n",
    "$$\\begin{eqnarray*}\n",
    " \\frac{{\\partial ^2 C}}{{\\partial K^2 }} &=& \\frac{1}{K}\\frac{\\partial }{{\\partial k}}\\left\\{ { - N\\left( d_- \\right) + N'\\left( d_- \\right)\\frac{{\\partial \\sqrt w }}{{\\partial k}}} \\right\\}.\n",
    " \\end{eqnarray*}$$\n",
    "\n",
    "As discussed earlier, the fair value of a variance swap under diffusion\n",
    "may be obtained by valuing a contract that pays $ 2 \\,\\log\n",
    "\\left( {S_T/F} \\right)$ at maturity $T$.  "
   ]
  },
  {
   "cell_type": "markdown",
   "metadata": {
    "slideshow": {
     "slide_type": "subslide"
    }
   },
   "source": [
    "Brute-force calculation leads to\n",
    "\n",
    "$$\\begin{eqnarray*}\n",
    " 2{\\mathbb{E}}\\left[ {\\log \\frac{S_T}{F}} \\right] &=& 2\\int_{0 }^\\infty  {dK\\log\\left( \\frac{K}{F}\\right)\\,\\frac{{\\partial ^2 C}}{{\\partial K^2 }}}  \\nonumber\\\\\n",
    "  &=& 2\\int_{ - \\infty }^\\infty  dk\\,k\\,\\frac{\\partial }{{\\partial k}}\\left\\{ { - N\\left( d_- \\right) + N'\\left( d_- \\right)\\frac{{\\partial \\sqrt w }}{{\\partial k}}} \\right\\} \\nonumber\\\\\n",
    "  &=& 2\\int_{ - \\infty }^\\infty  {dk\\,N'\\left( {d_- } \\right)\\left\\{ { - k\\frac{{\\partial d_- }}{{\\partial k}} - \\frac{{\\partial \\sqrt w }}{{\\partial k}}} \\right\\}}  \\nonumber\\\\\n",
    "  &=& 2\\int_{ - \\infty }^\\infty  dk\\,\\left\\{\\partial_k\\left[-N'\\left( d_-  \\right)\\,\\sqrt{w}\\right] { +\\frac w 2 \\,N'(d_-) \\frac{{\\partial d_- }}{{\\partial k}}} \\right\\} \\nonumber\\\\\n",
    "  &=& \\int_{ - \\infty }^\\infty  {dk\\,N'\\left( {d_- } \\right)\\,\\frac{{\\partial d_- }}{{\\partial k}}\\,w}\\end{eqnarray*}$$\n",
    "\n",
    "which recovers equation [(8)](#eq:vard2) as required."
   ]
  },
  {
   "cell_type": "markdown",
   "metadata": {
    "slideshow": {
     "slide_type": "slide"
    }
   },
   "source": [
    "### A generalization due to Fukusawa\n",
    "\n",
    "[Fukasawa]<sup id=\"cite_ref-Fukasawa\" class=\"reference\"><a href=\"#cite_note-Fukasawa\"><span>[</span>4<span>]</span></a></sup> derives an expression for the value of a generalized European\n",
    "payoff in terms of implied volatilities.\n",
    "\n",
    "As one application, he derives an expression for the value of a gamma\n",
    "swap. Define\n",
    "\n",
    "$$z(k)=d_1=-\\frac{k}{\\sigma_{BS}(k)\\sqrt{T}}+\\frac{\\sigma_{BS}(k)\\sqrt{T}}{2}$$\n",
    "(note $d_1$ instead of $d_2$ before). Then,\n",
    "\n",
    "<a name=\"eq:vard1\"></a>(9)\n",
    "$$2\\,\\mathbb{E}\\left[\\frac{S_T}{F}\\log\\frac{S_T}{F}\\right]=\\int\\limits_{-\\infty}^{\\infty}dz \\,N'(z)\\,\n",
    "\\sigma_{BS}^2(z) T$$"
   ]
  },
  {
   "cell_type": "markdown",
   "metadata": {
    "slideshow": {
     "slide_type": "subslide"
    }
   },
   "source": [
    "* In particular, if we have a parameterization of the volatility smile (such as SVI), computing the fair value of the leverage swap is straightforward."
   ]
  },
  {
   "cell_type": "markdown",
   "metadata": {
    "slideshow": {
     "slide_type": "slide"
    }
   },
   "source": [
    "### Dependence on skew and curvature again\n",
    "\n",
    "Now consider the following simple parameterization of the BS implied\n",
    "variance skew:\n",
    "\n",
    "$$\\sigma_{BS}^2(z)\\,=\\sigma_{0}^2 +\\alpha\\, z \\,+\\, \\beta\\, z^2$$\n",
    "\n",
    "Substituting into equation [(8)](#eq:vard2) and integrating, we obtain\n",
    "\n",
    "$$\\mathbb{E}[W_T]=\\sigma_{0}^2 T + \\beta T$$"
   ]
  },
  {
   "cell_type": "markdown",
   "metadata": {
    "slideshow": {
     "slide_type": "subslide"
    }
   },
   "source": [
    "* Skew makes no contribution to this expression, only the curvature contributes.  \n",
    "\n",
    "\n",
    "* The intuition for this is simply that increasing the skew does not change the average level of volatility but increasing the curvature $\\beta$ increases the prices of puts and calls in equation [(3)](#eq:varfairval) and always increases the fair value of variance.\n",
    "  "
   ]
  },
  {
   "cell_type": "markdown",
   "metadata": {
    "slideshow": {
     "slide_type": "slide"
    }
   },
   "source": [
    "### The impact of jumps\n",
    "\n",
    "Let $x_t$ denote the return of a compound Poisson process so that\n",
    "\n",
    "$$x_T=\\sum_i^{N_T}\\,y_i$$ \n",
    "\n",
    "with the $y_i$ *iid* and $N_T$ a Poisson\n",
    "process with mean $\\lambda\\,T$. Define the quadratic variation as\n",
    "\n",
    "$$\\langle x \\rangle _T = \\sum_i^{N_T}\\,\\left|y_i\\right|^2$$ "
   ]
  },
  {
   "cell_type": "markdown",
   "metadata": {
    "slideshow": {
     "slide_type": "subslide"
    }
   },
   "source": [
    "Then\n",
    "\n",
    "$${\\mathbb{E} }\\left[ \\langle x \\rangle _T \\right]={\\mathbb{E} }\\left[ N_T \\right]\\,{\\mathbb{E} }\\left[\n",
    "\\left|y_i\\right|^2 \\right]=\\lambda\\,T\\,\\int_{\\mathbb{R} }\\,y^2\\,\\mu(y)\\,dy.$$\n",
    "\n",
    "\n",
    "\n",
    "Also,\n",
    "\n",
    "$${\\mathbb{E} }\\left[ x_T \\right]=\\lambda\\,T\\,\\int_{\\mathbb{R} }\\,y\\,\\mu(y)\\,dy$$\n",
    "\n",
    "and\n",
    "\n",
    "$${\\mathbb{E} }\\left[ {x_T}^2 \\right]=\\lambda\\,T\\,\\int_{\\mathbb{R} }\\,y^2\\,\\mu(y)\\,dy\n",
    "+(\\lambda\\,T)^2\\,\\left(\\int_{\\mathbb{R} }\\,y\\,\\mu(y)\\,dy\\right)^2.$$"
   ]
  },
  {
   "cell_type": "markdown",
   "metadata": {
    "slideshow": {
     "slide_type": "subslide"
    }
   },
   "source": [
    "So\n",
    "\n",
    "$${\\mathbb{E} }\\left[ \\langle x \\rangle _T \\right]={\\mathbb{E} }\\left[ {x_T}^2\n",
    "\\right]-{\\mathbb{E} }\\left[ x_T \\right]^2=\\Var\\left[x_T\\right].$$\n",
    "\n",
    "\n",
    "* Expected quadratic variation is just the variance of the terminal distribution for compound Poisson processes!  \n",
    "\n",
    "    * We know this result is correct for Black-Scholes with constant volatility but obviously it’s not true in general (for example in the Heston model).  "
   ]
  },
  {
   "cell_type": "markdown",
   "metadata": {
    "slideshow": {
     "slide_type": "slide"
    }
   },
   "source": [
    "### Expected quadratic variation for a compound Poisson process\n",
    "\n",
    "We can express the first two moments of the final distribution in terms\n",
    "of strips of European options using equation [(2)](#eq:generalizedpayoff) as\n",
    "follows:\n",
    "\n",
    "$$\\begin{eqnarray*}\n",
    "{\\mathbb{E} }\\left[x_T\\right]={\\mathbb{E} }\\left[\\log(S_T/F)\\right]&=&-\\int _{-\\infty} ^0\n",
    "\\, dk \\, p(k)\\,-\\,\\int _0 ^\\infty \\, dk \\,  c(k)\\\\\n",
    "{\\mathbb{E} }\\left[{x_T}^2\\right]={\\mathbb{E} }\\left[\\log^2(S_T/F)\\right]&=&-\\int\n",
    "_{-\\infty} ^0\n",
    "\\, dk \\,2\\,k\\, p(k)\\,-\\,\\int _0 ^\\infty \\, dk \\, 2\\,k\\, c(k)\\\\\\end{eqnarray*}$$\n",
    "\n",
    "\n",
    "* For a compound Poisson process, if we know European option prices, we may compute expected quadratic variation (*i.e.* compute the value of a variance swap) by computing the variance of the terminal distribution.  "
   ]
  },
  {
   "cell_type": "markdown",
   "metadata": {
    "slideshow": {
     "slide_type": "slide"
    }
   },
   "source": [
    "### Compare with diffusion process\n",
    "\n",
    "On the other hand, if the underlying process is a diffusion, we may\n",
    "compute expected quadratic variation using equation [(5)](#eq:varstrip) in\n",
    "terms of the log-strip\n",
    "\n",
    "$${\\mathbb{E} }\\left[ \\langle x \\rangle _T \\right]=-2\\,{\\mathbb{E} }\\left[ x_T\n",
    "\\right]=2\\,\\left\\{\\int _{-\\infty} ^0 \\, dk \\, p(k)\\,+\\,\\int _0\n",
    "^\\infty \\, dk \\,  c(k)\\right\\}$$"
   ]
  },
  {
   "cell_type": "markdown",
   "metadata": {
    "slideshow": {
     "slide_type": "subslide"
    }
   },
   "source": [
    "* So, if the underlying process is compound Poisson, we have one way of computing ${\\mathbb{E} }\\left[ \\langle x \\rangle _T \\right]$ and if the underlying process is a diffusion, we have another.   \n",
    "\n",
    "\n",
    "* In reality, we’re not sure what the underlying process is so we would like to know how much difference the choice of underlying process makes.  "
   ]
  },
  {
   "cell_type": "markdown",
   "metadata": {
    "slideshow": {
     "slide_type": "slide"
    }
   },
   "source": [
    "### Computing the difference\n",
    "\n",
    "To compute the difference, we first note that from the definition of\n",
    "characteristic function,\n",
    "\n",
    "$$\\mathbb{E}\\left[\\log\\left({S_T}/{F}\\right)\\right]=-i\\,\\left.\\frac{\\partial\n",
    "}{\\partial u }\\phi_T(u)\\right|_{u=0}$$\n",
    "\n",
    "Also, note that if jumps are independent of the continuous process as\n",
    "they are in both the Merton and SVJ models, the characteristic function\n",
    "may be written as the product of a continuous part and a jump part\n",
    "\n",
    "$$\\phi_T(u)=\\phi_T^C(u)\\,\\phi_T^J(u)$$ \n",
    "\n",
    "where the superscripts $C$ and $J$ refer to the continuous and jump parts respectively."
   ]
  },
  {
   "cell_type": "markdown",
   "metadata": {
    "slideshow": {
     "slide_type": "subslide"
    }
   },
   "source": [
    "From the Lévy-Khintchine representation,\n",
    "\n",
    "$$-i\\,\\left.\\frac{\\partial }{\\partial u\n",
    "}\\,\\phi_T^J(u)\\right|_{u=0}=\\lambda\\,T\\,\\int_{\\mathbb{R} }\\,\\left(1+y-e^y\n",
    "\\right)\\,\\mu(y)\\,dy$$ \n",
    "\n",
    "On the other hand, we already showed above that\n",
    "\n",
    "$${\\mathbb{E} }\\left[ \\langle x^J \\rangle _T\n",
    "\\right]=\\lambda\\,T\\,\\int_{\\mathbb{R} }\\,y^2\\,\\mu(y)\\,dy$$ \n",
    "\n",
    "It follows\n",
    "that the difference between the fair value of a variance swap and the\n",
    "value of the log-strip is given by\n",
    "\n",
    "$${\\mathbb{E} }\\left[ \\langle x \\rangle _T \\right]+2\\,{\\mathbb{E} }\\left[ x_T\n",
    "\\right]=2\\,\\lambda\\,T\\,\\int_{\\mathbb{R} }\\,\\left(1+y+y^2/2-e^y\n",
    "\\right)\\,\\mu(y)\\,dy$$"
   ]
  },
  {
   "cell_type": "markdown",
   "metadata": {
    "slideshow": {
     "slide_type": "slide"
    }
   },
   "source": [
    "### The effect of jumps is of order jump$^3$.\n",
    "\n",
    "* The expression $1+y+y^2/2$ is just the first three terms in the Taylor expansion of $e^y$, so the error introduced by valuing a variance swap using the log-strip of equation [(5)](#eq:varstrip) is of the order of the jump-size cubed.  \n",
    "\n",
    "    * If there are no jumps of course, the log-strip values the variance swap correctly.  "
   ]
  },
  {
   "cell_type": "markdown",
   "metadata": {
    "slideshow": {
     "slide_type": "slide"
    }
   },
   "source": [
    "### Example: lognormally distributed jumps with mean $\\alpha$ and standard deviation $\\delta$\n",
    "\n",
    "In this case\n",
    "\n",
    "$$\\begin{eqnarray*}\n",
    "{\\mathbb{E} }\\left[ \\langle x \\rangle _T \\right]+2\\,{\\mathbb{E} }\\left[x_T \\right]\n",
    "&=&\\lambda T \\left(\\alpha^2+\\delta^2\\right)+ 2 \\lambda T\n",
    "\\left(1+\\alpha-e^{\\alpha+\\delta^2/2}\\right)\\\\\n",
    "&=&- \\frac{1}{3}\\lambda\n",
    "T\\alpha\\,\\left(\\alpha^2+3\\delta^2\\right)+\\textrm{higher order terms}\\end{eqnarray*}$$\n",
    "\n",
    "Putting $\\alpha=-0.09$, $\\delta=0.14$ and $\\lambda=0.61$ (from BCC\n",
    "again), we get an error of only $0.00122427$ per year on a one-year\n",
    "variance swap which at $20\\%$ vol. corresponds to $0.30\\%$ in volatility\n",
    "terms."
   ]
  },
  {
   "cell_type": "markdown",
   "metadata": {
    "slideshow": {
     "slide_type": "slide"
    }
   },
   "source": [
    "### Volatility swaps\n",
    "\n",
    "* Realized volatility $\\Sigma_T$ is the square root of realized variance $V_T:=\\langle x \\rangle_T/T$.  \n",
    "\n",
    "    * We know that the expectation of the square root of a random variable is less than (or equal to) the square root of its expectation.  \n",
    "\n",
    "    * The difference between $\\sqrt {V_T}$ and ${\\Sigma_T}$ is known as the *convexity adjustment*.  "
   ]
  },
  {
   "cell_type": "markdown",
   "metadata": {
    "slideshow": {
     "slide_type": "subslide"
    }
   },
   "source": [
    "* Intuitively, the magnitude of the convexity adjustment must depend on the volatility of realized volatility.  \n",
    "\n",
    "    * Note that volatility does not have to be stochastic for realized volatility to be volatile; realized volatility $\\Sigma_T$ varies according to the path of the stock price even in a local volatility model.  "
   ]
  },
  {
   "cell_type": "markdown",
   "metadata": {
    "slideshow": {
     "slide_type": "slide"
    }
   },
   "source": [
    "### Variance swap and volatility swap payoffs compared"
   ]
  },
  {
   "cell_type": "code",
   "execution_count": 1,
   "metadata": {
    "collapsed": false,
    "slideshow": {
     "slide_type": "fragment"
    }
   },
   "outputs": [
    {
     "data": {
      "image/png": "[encoded data removed]"
     },
     "metadata": {},
     "output_type": "display_data"
    }
   ],
   "source": [
    "curve(x-.3,from=0.1,to=.5,col=\"red\",ylab=\"Payoff\",xlab=expression(Sigma[T]))\n",
    "curve((x^2-.3^2)/.6,from=0.1,to=4,col=\"blue\",lty=2,add=T)"
   ]
  },
  {
   "cell_type": "markdown",
   "metadata": {
    "slideshow": {
     "slide_type": "fragment"
    }
   },
   "source": [
    "<a name=\"fig:VolVar\"></a> Figure 1: Payoff of a variance swap (dashed line) and volatility swap (solid\n",
    "line) as a function of realized volatility $\\Sigma_T$. Both swaps are\n",
    "struck at 30% volatility."
   ]
  },
  {
   "cell_type": "markdown",
   "metadata": {
    "slideshow": {
     "slide_type": "slide"
    }
   },
   "source": [
    "### Convexity Adjustment in the Heston Model\n",
    "\n",
    "In general, there is no replicating portfolio for a volatility swap and\n",
    "the magnitude of the convexity adjustment is model-dependent. We will\n",
    "now compute the convexity adjustment in the Heston model.\n",
    "\n",
    "To proceed, we use the following trick:\n",
    "\n",
    "<a name=\"eq:ExpectedVol\"></a>(10)\n",
    "$$\\mathbb{E} \\left[\\sqrt{W_T} \\right]\n",
    " \\,=\\,\\frac{1}{2 \\sqrt{\\pi}} \\int _0 ^\\infty\n",
    " \\frac{1-\\mathbb{E} \\left[e^{-\\psi W_T} \\right]}{\\psi^{3/2}}\\, d\\psi$$\n",
    "\n",
    "We recognize that\n",
    "\n",
    "$$\\mathbb{E} \\left[e^{-\\psi W_T} \\right]=\\mathbb{E}\n",
    "\\left[\\exp\\left\\{-\\psi \\int_0^T\\,v_t\\,dt\\right\\} \\right]$$ \n",
    "\n",
    "is formally to the value of a bond in the CIR model."
   ]
  },
  {
   "cell_type": "markdown",
   "metadata": {
    "slideshow": {
     "slide_type": "slide"
    }
   },
   "source": [
    "### The CIR bond formula\n",
    "\n",
    "From the well-known CIR bond formula, the Laplace transform of the total\n",
    "variance $W_T = \\int _0 ^T \\, v_t \\, dt$ is given by\n",
    "\n",
    "$$\\mathbb{E} \\left[e^{-\\psi W_T} \\right]\n",
    " \\,=\\,A\\, e^{- \\psi v B}$$ \n",
    " \n",
    " where\n",
    "$$\\begin{eqnarray*}\n",
    " A&=&\\left\\{\\frac{2 \\phi\\, e^{(\\phi+\\lambda) T/2}}{(\\phi+\\lambda)\n",
    " (e^{\\phi T}-1)+2 \\phi}\\right\\}^{2 \\lambda \\bar v / {\\eta ^2}}\\nonumber\\\\\n",
    " B&=&\\frac{2\\,(e^{\\phi T}-1)}{(\\phi+\\lambda)\n",
    " (e^{\\phi T}-1)+2 \\phi}\\end{eqnarray*}$$\n",
    "\n",
    "with $\\phi = \\sqrt {\\lambda^2 + 2 \\psi \\eta^2}$."
   ]
  },
  {
   "cell_type": "markdown",
   "metadata": {
    "slideshow": {
     "slide_type": "slide"
    }
   },
   "source": [
    "### Plausibility check\n",
    "\n",
    "It is easy but tedious to verify that\n",
    "\n",
    "$$\\begin{eqnarray*}\n",
    " \\mathbb{E} \\left[W_T \\right]&=&\\left.\n",
    " -\\frac{\\partial }{\\partial \\psi} \\mathbb{E} \\left[e^{-\\psi\n",
    " W_T} \\right]\\right|_{\\psi=0}\\nonumber\\\\\n",
    " &=&\\frac{1-e^{-\\lambda T}}{\\lambda}\\,(v-\\bar v)\\,+\\,\\bar v T\\end{eqnarray*}$$\n",
    "\n",
    "as we found earlier by direct integration of the Heston SDE.\n",
    "\n",
    "Computing the integral in equation [(10)](#eq:ExpectedVol) numerically using\n",
    "the HN parameters ($v= 0.04, \\bar v =\n",
    "0.04, \\lambda=10.0, \\eta=1.0$), we get the graph of the convexity\n",
    "adjustment as a function of time to expiration shown in [Figure 2](#fig:convadj1)."
   ]
  },
  {
   "cell_type": "markdown",
   "metadata": {
    "slideshow": {
     "slide_type": "slide"
    }
   },
   "source": [
    "### Convexity adjustment with HN parameters"
   ]
  },
  {
   "cell_type": "code",
   "execution_count": 2,
   "metadata": {
    "collapsed": false,
    "slideshow": {
     "slide_type": "fragment"
    }
   },
   "outputs": [],
   "source": [
    "laplaceT <- function(params){\n",
    "  \n",
    "  lambda <- params$lambda \n",
    "  rho <- params$rho \n",
    "  eta <- params$eta \n",
    "  vbar <- params$vbar \n",
    "  v0 <- params$v \n",
    "  \n",
    "  function(psi,t){\n",
    "    phi <- sqrt(lambda^2+2*psi*eta^2) \n",
    "    denom <- (phi+lambda)*(exp(phi*t)-1)+2*phi \n",
    "    a <- (2*phi*exp((phi+lambda)*t/2)/denom)^(2*lambda*vbar/eta^2) \n",
    "    b <- (2*(exp(phi*t)-1))/denom \n",
    "    return(a*exp(-psi*v0*b)) \n",
    "  }\n",
    "} \n",
    "\n",
    "convexityAdj <- function(params){\n",
    "  function(t){\n",
    "    \n",
    "    integrand <- function(psi){1/2/sqrt(pi)*(1-laplaceT(params)(psi,t))/psi^(3/2)} \n",
    "    res <- .2 - integrate(integrand,lower=0.01,upper=Inf,subdivisions=10000)$value/sqrt(t) \n",
    "    return(res) \n",
    "  }\n",
    "} \n",
    "\n",
    "# Vectorize\n",
    "ca <- function(params){function(x){sapply(x,convexityAdj(params))}} "
   ]
  },
  {
   "cell_type": "code",
   "execution_count": 5,
   "metadata": {
    "collapsed": false,
    "slideshow": {
     "slide_type": "subslide"
    }
   },
   "outputs": [
    {
     "data": {
      "image/png": "[encoded data removed]"
     },
     "metadata": {},
     "output_type": "display_data"
    }
   ],
   "source": [
    "# Figure 2. with HN parameters\n",
    "paramsHN <- list(lambda = 1,rho = -1,eta = 1,vbar = 0.04,v = 0.04) \n",
    "curve(ca(paramsHN)(x),from=0.01,to=.7,col=\"red\",ylab=\"Convexity adjustment\",xlab=\"T\",n=500) "
   ]
  },
  {
   "cell_type": "markdown",
   "metadata": {
    "slideshow": {
     "slide_type": "fragment"
    }
   },
   "source": [
    " <a name=\"fig:convadj1\"></a>Figure 2: Annualized Heston convexity adjustment as a function of $T$ with Heston-Nandi parameters."
   ]
  },
  {
   "cell_type": "markdown",
   "metadata": {
    "slideshow": {
     "slide_type": "slide"
    }
   },
   "source": [
    "### Convexity adjustment with BCC parameters\n",
    "\n",
    "Using Bakshi, Cao and Chen parameters ($v= 0.04, \\bar v = 0.04,\n",
    "\\lambda=1.15, \\eta=0.39$), we get the graph of the convexity adjustment\n",
    "as a function of time to expiration shown in [Figure 3](#fig:convadj2)."
   ]
  },
  {
   "cell_type": "code",
   "execution_count": 6,
   "metadata": {
    "collapsed": false,
    "slideshow": {
     "slide_type": "fragment"
    }
   },
   "outputs": [
    {
     "data": {
      "image/png": "[encoded data removed]"
     },
     "metadata": {},
     "output_type": "display_data"
    }
   ],
   "source": [
    "# Figure 3. with BCC parameters\n",
    "paramsBCC <- list(lambda = 1.15,rho = -0.64,eta = 0.39,vbar = 0.04,v = 0.04) \n",
    "curve(ca(paramsBCC)(x),from=0,to=5,col=\"red\",ylab=\"Convexity adjustment\",xlab=\"t\") "
   ]
  },
  {
   "cell_type": "markdown",
   "metadata": {
    "slideshow": {
     "slide_type": "fragment"
    }
   },
   "source": [
    " <a name=\"fig:convadj2\"></a>Figure 3: Annualized Heston convexity adjustment as a function of $T$ with Bakshi, Cao and Chen parameters."
   ]
  },
  {
   "cell_type": "markdown",
   "metadata": {
    "slideshow": {
     "slide_type": "slide"
    }
   },
   "source": [
    "### Intuition\n",
    "\n",
    "With $v=\\bar v$, as $T \\to \\infty$,\n",
    "\n",
    "$$\\begin{eqnarray*}\n",
    " \\rm{var} \\left[{W_T} \\right]\n",
    " &=& \\mathbb{E} \\left[{W_T}^2 \\right]-\\left\\{ \\mathbb{E} \\left[{W_T} \\right]\\right\\}^2\\nonumber\\\\\n",
    " &=&\\left. \\frac{\\partial^2 }{\\partial \\psi^2} \\mathbb{E} \\left[e^{-\\psi\n",
    " W_T} \\right]\\right|_{\\psi=0}\\,-\\,\\left\\{\\left. \\frac{\\partial }{\\partial \\psi} \\mathbb{E} \\left[e^{-\\psi\n",
    " W_T} \\right]\\right|_{\\psi=0}\\right\\}^2\\nonumber\\\\\n",
    " &=& \\bar v T \\frac {\\eta^2}{\\lambda^2}+O(T^0).\\end{eqnarray*}$$"
   ]
  },
  {
   "cell_type": "markdown",
   "metadata": {
    "slideshow": {
     "slide_type": "subslide"
    }
   },
   "source": [
    "* The convexity adjustment should be of the order of the standard deviation of annualized volatility over the life of the contract.  \n",
    "\n",
    "    * This scales roughly as ${\\eta}/{\\lambda}$.  \n",
    "\n",
    "\n",
    "* Comparing BCC with HN parameters, the BCC convexity adjustment should be roughly 3.39 times greater.  "
   ]
  },
  {
   "cell_type": "markdown",
   "metadata": {
    "slideshow": {
     "slide_type": "slide"
    }
   },
   "source": [
    "### Valuing volatility derivatives\n",
    "\n",
    "* Suppose the underlying process is a diffusion and that there is zero correlation between moves in the underlying and moves in volatility.   \n",
    "\n",
    "\n",
    "* With these assumptions, [Carr and Lee]<sup id=\"cite_ref-CarrLee:2009\" class=\"reference\"><a href=\"#cite_note-CarrLee:2009\"><span>[</span>1<span>]</span></a></sup> show that any volatility derivative whose payoff is a function of the quadratic variation $\\langle x \\rangle_T$ may in principle be valued in terms of European options with expiration $T$.  \n",
    "\n",
    "    * A practical algorithm for doing this is to be found in [Friz and Gatheral]<sup id=\"cite_ref-FrizGatheral:2005\" class=\"reference\"><a href=\"#cite_note-FrizGatheral:2005\"><span>[</span>3<span>]</span></a></sup>.  "
   ]
  },
  {
   "cell_type": "markdown",
   "metadata": {
    "slideshow": {
     "slide_type": "slide"
    }
   },
   "source": [
    "### Fair value of the power payoff\n",
    "\n",
    "Recall the spanning formula [(2)](#eq:generalizedpayoff):\n",
    "\n",
    " <a name=\"eq:discretemax\"></a>(11)\n",
    "\\begin{equation}\n",
    " \\mathbb{E} \\left[ \\left. g(S_T)\\right.\\right]\n",
    " =g(F)\\,+\\,\\int _0 ^F \\, dK \\, \\tilde\n",
    " P(K,T)\\,g''(K)\\,+\\,\\int _F ^\\infty \\, dK \\,\n",
    "  \\tilde C(K,T)\\,g''(K)\n",
    "\\end{equation}\n",
    "\n",
    "where $\\tilde C$ and $\\tilde P$ represent undiscounted call and put\n",
    "prices respectively and $F$ represents the time-$T$ forward price of the\n",
    "stock."
   ]
  },
  {
   "cell_type": "markdown",
   "metadata": {
    "slideshow": {
     "slide_type": "subslide"
    }
   },
   "source": [
    "With the substitution $g(S_T)=S_T^p$, we obtain the replicating\n",
    "portfolio for a power payoff: \n",
    "\n",
    "\\begin{eqnarray*}\n",
    " \\mathbb{E} \\left[ \\left. S_T^p\\right.\\right]\n",
    " &=&F^p+p\\,(p-1)\\,\\int _0 ^F \\, dK \\, \\tilde\n",
    " P(K,T)\\,K^{p-2}\\\\&&\\quad\\quad\\quad+p\\,(p-1)\\,\\int _F ^\\infty \\, dK \\,\n",
    "  \\tilde C(K,T)\\,K^{p-2}\n",
    "\\end{eqnarray*}"
   ]
  },
  {
   "cell_type": "markdown",
   "metadata": {
    "slideshow": {
     "slide_type": "slide"
    }
   },
   "source": [
    "### The option strip for the power payoff\n",
    "\n",
    "Define the log-strike $k := \\log(K/F)$. Then\n",
    "\n",
    " <a name=\"eq:powerpayoff\"></a>(12)\n",
    "$$\\mathbb{E} \\left[ \\left. S_T^p\\right.\\right]\n",
    " =F^p\\,\\left\\{1+p\\,(p-1)\\,\\int _{-\\infty} ^0 \\, dk \\, \\hat\n",
    " p(k)\\,e^{p\\,k}\\\\+p\\,(p-1)\\,\\int _0 ^\\infty \\, dk \\,\n",
    "  \\hat c(k)\\,e^{p\\,k}\\right\\}\n",
    "$$\n",
    "\n",
    "where $\\hat p(k)$ and $\\hat c(k)$ denote the prices of puts and calls\n",
    "respectively in terms of percentage of strike."
   ]
  },
  {
   "cell_type": "markdown",
   "metadata": {
    "slideshow": {
     "slide_type": "subslide"
    }
   },
   "source": [
    "If there is zero correlation between moves in the underlying and\n",
    "volatility moves, put-call symmetry holds, so that $\\hat\n",
    "p(k)=e^{-k}\\,\\hat c(-k)$. We can then rewrite equation\n",
    "[(12)](#eq:powerpayoff) as \n",
    "\n",
    "$$\\mathbb{E} \\left[ \\left. S_T^p\\right.\\right]\n",
    " =F^p\\,\\left\\{1+2\\,p\\,(p-1)\\,\\int _0 ^\\infty \\, dk \\,\n",
    "  e^{k/2}\\,\\hat c(k)\\,\\cosh{(p-1/2)\\,k}\\right\\}$$"
   ]
  },
  {
   "cell_type": "markdown",
   "metadata": {
    "slideshow": {
     "slide_type": "slide"
    }
   },
   "source": [
    "### The Laplace transform of quadratic variation under zero correlation\n",
    "\n",
    "Following [Carr and Lee]<sup id=\"cite_ref-CarrLee:2009\" class=\"reference\"><a href=\"#cite_note-CarrLee:2009\"><span>[</span>1<span>]</span></a></sup>, assume diffusion and zero correlation between\n",
    "spot moves and volatility moves.\n",
    "\n",
    "We derive an expression for the Laplace transform (moment generating\n",
    "function) of the quadratic variation $W_T := \\langle x \\rangle _T$ in\n",
    "terms of the fair value [(12)](#eq:powerpayoff) of the power payoff.\n",
    "\n",
    "* Since we know the replicating strip for the power payoff, it follows that we know the replicating strip for quadratic variation.  "
   ]
  },
  {
   "cell_type": "markdown",
   "metadata": {
    "slideshow": {
     "slide_type": "slide"
    }
   },
   "source": [
    "### Derivation of MGF of quadratic variation\n",
    "\n",
    "Under these Carr-Lee assumptions, conditional on a particular\n",
    "realization of the volatility process (volatility path), the log-stock\n",
    "price \n",
    "\n",
    "$$x_T=\\int_0^T\\,\\sigma_t\\,dW_t-\\frac{1}{2}\\,\\langle x \\rangle_T$$\n",
    "\n",
    "\n",
    "is normally distributed with mean $-\\langle x \\rangle_T /2$ and variance\n",
    "$\\langle x \\rangle_T$.\n",
    "\n",
    "It follows that \n",
    "\n",
    "$${\\mathbb{E} }\\left[\n",
    " e^{p\\,x_T}\\right]={\\mathbb{E} }\\left[\n",
    " e^{(p^2/2-p/2)\\,\\langle x \\rangle_T }\\right]=:{\\mathbb{E} }\\left[\n",
    " e^{\\lambda\\,\\langle x \\rangle_T }\\right]$$ \n",
    " \n",
    " with $\\lambda=p^2/2-p/2$."
   ]
  },
  {
   "cell_type": "markdown",
   "metadata": {
    "slideshow": {
     "slide_type": "subslide"
    }
   },
   "source": [
    "Inverting this, we obtain the moment generating function as\n",
    "\n",
    "$$\\mathbb{E} \\left[ \\left. e^{\\lambda \\langle x \\rangle_T}\\right.\\right]\n",
    " =\\mathbb{E} \\left[ \\left.\n",
    " e^{p(\\lambda)x_T}\\right.\\right]$$\n",
    " \n",
    " with $p(\\lambda)=1/2 \\pm \\sqrt{1/4 + 2 \\, \\lambda} $.\n",
    "\n",
    "From the option strip [(12)](#eq:powerpayoff) for the power payoff, we then\n",
    "have that\n",
    "\n",
    "<a name=\"eq:powerstrip\"></a>(13)\n",
    "$$\\mathbb{E} \\left[ \\left. e^{\\lambda \\langle x\n",
    "\\rangle_T}\\right.\\right]\n",
    " =1+p(\\lambda)\\,\\left(p(\\lambda)-1\\right)\\,\\left\\{\\int _{-\\infty} ^0 \\, dk \\, \\hat\n",
    " p(k)\\,e^{p(\\lambda)\\,k}+\\int _0 ^\\infty \\, dk \\,\n",
    "  \\hat c(k)\\,e^{p(\\lambda)\\,k}\\right\\}$$"
   ]
  },
  {
   "cell_type": "markdown",
   "metadata": {
    "slideshow": {
     "slide_type": "subslide"
    }
   },
   "source": [
    "or alternatively\n",
    "\n",
    "$$\\mathbb{E}\\left[ \\left. e^{\\lambda \\langle x\n",
    "\\rangle_T}\\right.\\right]\n",
    " =1+2\\,p(\\lambda)\\,(p(\\lambda)-1)\\,\\int _0 ^\\infty \\, dk \\,\n",
    "  e^{k/2}\\,\\hat c(k)\\,\\cosh{(p(\\lambda)-1/2)\\,k}.$$"
   ]
  },
  {
   "cell_type": "markdown",
   "metadata": {
    "slideshow": {
     "slide_type": "slide"
    }
   },
   "source": [
    "### The final result\n",
    "\n",
    "Noting that $p(\\lambda)\\,(p(\\lambda)-1)=2\\,\\lambda$, we may simplify\n",
    "further to obtain\n",
    "\n",
    "<blockquote><div style=\"background-color:#add8e6; color:#FFFFFF; font-style: normal;  \" ><h4>\n",
    " MGF of quadratic variation </h4>\n",
    "</div>\n",
    "<div style=\"background-color:#E8E8E8; color:#000000; font-style: normal; \">\n",
    "<br>\n",
    "<a name=\"eq:qvmgfstrip\"></a>(14)\n",
    "$$\\mathbb{E}\\left[ \\left. e^{\\lambda \\langle x\n",
    "\\rangle_T}\\right.\\right]\n",
    " =1+4\\,\\lambda\\,\\int _0 ^\\infty \\, dk \\,\n",
    "  e^{k/2}\\,\\hat c(k)\\,\\cosh{(p(\\lambda)-1/2)\\,k}.$$\n",
    "\n",
    "<br>\n",
    "\n",
    "</div>\n",
    "\n",
    "</blockquote>\n",
    "\n",
    "The fair value of an exponential quadratic-variation (realized\n",
    "volatility) payoff follows immediately from equation [(14)](#eq:qvmgfstrip)."
   ]
  },
  {
   "cell_type": "markdown",
   "metadata": {
    "slideshow": {
     "slide_type": "slide"
    }
   },
   "source": [
    "### Fair value of powers of quadratic variation\n",
    "\n",
    "By taking derivatives, the fair value of any positive integral power of\n",
    "quadratic variation also follows.\n",
    "\n",
    "For example, the fair value of the first power of quadratic variation –\n",
    "expected realized total variance, is given by\n",
    "\n",
    "$$\\begin{eqnarray*}\n",
    "\\mathbb{E}\\left[\\left.\\langle x \\rangle_T\\right.\\right] &=&\\left.\n",
    "\\frac{\\partial}{\\partial \\lambda}\\,\\mathbb{E}\\left[\\left.\n",
    "e^{\\lambda \\langle x \\rangle_T}\\right.\\right]\\right|_{\\lambda=0}\\\\\n",
    "&=&\\left. \\frac{\\partial}{\\partial\n",
    "\\lambda}\\,\\left\\{1+4\\,\\lambda\\,\\int _0 ^\\infty \\, dk \\,\n",
    "  e^{k/2}\\,\\hat c(k)\\,\\cosh{(p(\\lambda)-1/2)\\,k}\\right\\}\\right|_{\\lambda=0}\\\\\n",
    "&=&4\\,\\int _0 ^\\infty \\, dk \\,\n",
    "  e^{k/2}\\,\\hat c(k)\\,\\cosh{(p(0)-1/2)\\,k}\\\\\n",
    "&=&4\\,\\int _0 ^\\infty \\, dk \\,\n",
    "  e^{k/2}\\,\\hat c(k)\\,\\cosh{{k}/{2}}\\\\\n",
    "&=&2\\,\\int _0 ^\\infty \\, dk \\,\n",
    "  \\hat c(k)\\,\\left\\{1+e^{k}\\right\\}\\\\\n",
    "&=&2\\,\\left\\{\\int _0 ^\\infty \\, dk \\,\\hat c(k)\\,+\\,\\int _{-\\infty}^0\n",
    "\\, dk \\,\\hat p(k)\\right\\} \\end{eqnarray*}$$consistent with [(5)](#eq:varstrip)."
   ]
  },
  {
   "cell_type": "markdown",
   "metadata": {
    "slideshow": {
     "slide_type": "slide"
    }
   },
   "source": [
    "### The fair value of generic claims on quadratic variation\n",
    "\n",
    "* In principle, since we have an explicit expression for the moment generating function (*mgf*) of realized variance, we know its entire terminal (time $T$) pseudo-probability distribution.  \n",
    "\n",
    "    * We may compute the fair value of any European-style claim on realized variance – knowing only market prices of European options!  "
   ]
  },
  {
   "cell_type": "markdown",
   "metadata": {
    "slideshow": {
     "slide_type": "subslide"
    }
   },
   "source": [
    "* Unfortunately, the analogue of the replicating option strip for variance swaps doesn’t exist for generic volatility derivatives.  \n",
    "\n",
    "    * In [Friz and Gatheral]<sup id=\"cite_ref-FrizGatheral:2005\" class=\"reference\"><a href=\"#cite_note-FrizGatheral:2005\"><span>[</span>3<span>]</span></a></sup>, we show that although it’s easy to write down a formal expression, the weights of the options in the strip are undefined.  "
   ]
  },
  {
   "cell_type": "markdown",
   "metadata": {
    "slideshow": {
     "slide_type": "slide"
    }
   },
   "source": [
    "### The fair value of volatility under zero correlation\n",
    "\n",
    "After the variance swap, the next simplest claim to analyze is the\n",
    "volatility swap. Under the zero-correlation assumption (see\n",
    "[Friz and Gatheral]<sup id=\"cite_ref-FrizGatheral:2005\" class=\"reference\"><a href=\"#cite_note-FrizGatheral:2005\"><span>[</span>3<span>]</span></a></sup>),\n",
    "\n",
    "<a name=\"eq:volswap\"></a>(15)\n",
    "$$\\mathbb{E}\\left[\\sqrt{\\langle x \\rangle_T}\\right]=\n",
    "\\sqrt{2\\,\\pi}\\,\\hat\n",
    "c(0)+\\sqrt{\\frac{2}{\\pi}}\\,\\int_0^\\infty\\,dk\\,e^{k/2}\\,I_1\\left(\\frac{k}{2}\\right)$$\n",
    "\n",
    "where $I_n(\\cdot)$ represents a modified Bessel function of the first\n",
    "kind."
   ]
  },
  {
   "cell_type": "markdown",
   "metadata": {
    "slideshow": {
     "slide_type": "subslide"
    }
   },
   "source": [
    "That the at-the-money option should have a delta-function weight should\n",
    "come as no surprise as we are already familiar with the extremely\n",
    "accurate approximation\n",
    "\n",
    "<a name=\"eq:atmfcall\"></a>(16)\n",
    "$$\\hat c(0)\\approx \\frac{\\sigma_{BS}\\,\\sqrt{T}}{\\sqrt{2\\,\\pi}}$$\n",
    "\n",
    "for at-the-money forward European options."
   ]
  },
  {
   "cell_type": "markdown",
   "metadata": {
    "slideshow": {
     "slide_type": "slide"
    }
   },
   "source": [
    "### Remarks on volatility swap valuation\n",
    "\n",
    "To see just how dominant the contribution of the at-the-money forward\n",
    "European option is, consider a one-year flat volatility smile with\n",
    "$\\sigma_{BS}(k,1)=0.2, \\,\\forall k$.\n",
    "\n",
    "* The first term in [(15)](#eq:volswap) evaluates to $0.1997$.  \n",
    "\n",
    "\n",
    "* The continuous strip of options with Bessel function weights to $0.0003$.  \n",
    "\n",
    "\n",
    "* The total must of course give $0.2$ which is the fair value of volatility when the volatility smile is flat (no convexity adjustment).  \n",
    "\n",
    "Formula [(15)](#eq:volswap) can be proved by direct integration. A more\n",
    "financially-based derivation due to Peter Friz is given in [The Volatility Surface]<sup id=\"cite_ref-Gatheral\" class=\"reference\"><a href=\"#cite_note-Gatheral\"><span>[</span>6<span>]</span></a></sup>."
   ]
  },
  {
   "cell_type": "markdown",
   "metadata": {
    "slideshow": {
     "slide_type": "slide"
    }
   },
   "source": [
    "### Replication of volatility swaps\n",
    "\n",
    "* Even though we can express the fair value of volatility as the value of a weighted strip of European options (in the zero correlation case), the volatility replication strategy differs fundamentally from the variance replication strategy.  \n",
    "\n",
    "\n",
    "* In the variance case, we trade a strip of options at inception and thereafter rebalance daily in the underlying only and then only to maintain a constant dollar amount of the underlying in the hedge portfolio.  "
   ]
  },
  {
   "cell_type": "markdown",
   "metadata": {
    "slideshow": {
     "slide_type": "subslide"
    }
   },
   "source": [
    "* In contrast, in the volatility case we have to continuously maintain a position in the at-the-money option:  \n",
    "\n",
    "    * Each day, we sell the entire position (which is no longer at-the-money) and buy a new one.\n",
    "\n",
    "\n",
    "* This strategy is clearly not practical – the option bid-offer would kill the hedger.  "
   ]
  },
  {
   "cell_type": "markdown",
   "metadata": {
    "slideshow": {
     "slide_type": "slide"
    }
   },
   "source": [
    "### Summary\n",
    "\n",
    "* Variance swaps are now very actively traded, not least because from a practical perspective, valuation is well-understood.  \n",
    "\n",
    "\n",
    "* We saw that although the standard variance swap valuation approach assumes diffusion, the existence of reasonably-sized jumps wouldn’t change the valuation by much.  \n",
    "\n",
    "\n",
    "* Various features of the volatility surface may be understood in a model-free way using replicating portfolios of options."
   ]
  },
  {
   "cell_type": "markdown",
   "metadata": {
    "slideshow": {
     "slide_type": "slide"
    }
   },
   "source": [
    "### References\n",
    "<br />\n",
    "\n",
    "<div class=\"reflist\" style=\"list-style-type: decimal;\">\n",
    "\n",
    "<ol>\n",
    "\n",
    "  <li id=\"cite_note-CarrLee:2009\"><span class=\"mw-cite-backlink\"><b><a href=\"#cite_ref-CarrLee:2009\">^</a></b></span> Peter Carr and Roger Lee, Robust replication of\n",
    "volatility derivatives, <span>available at <http://math.uchicago.edu/~rl/rrvd.pdf></span> (2009).</li>\n",
    "\n",
    "  <li id=\"cite_note-CarrMadan\"><span class=\"mw-cite-backlink\"><b><a href=\"#cite_ref-CarrMadan\">^</a></b></span> Peter Carr and Dilip Madan, Towards a theory of volatility trading, in <span>*Volatility: New estimation techniques for pricing derivatives*</span>, Risk Publications, Robert Jarrow, ed., 417–427 (1998).</li>\n",
    "\n",
    "  <li id=\"cite_note-FrizGatheral:2005\"><span class=\"mw-cite-backlink\"><b><a href=\"#cite_ref-FrizGatheral:2005\">^</a></b></span> Peter Friz and Jim Gatheral, Valuation of volatility derivatives as an inverse problem, <span>*Quantitative Finance*</span> <span>**5**</span>(6) 531–542 (2005).</li>\n",
    "\n",
    "  <li id=\"cite_note-Fukasawa\"><span class=\"mw-cite-backlink\"><b><a href=\"#cite_ref-Fukasawa\">^</a></b></span>   Masaaki Fukaswawa, The normalizing transformation of the implied volatility smile, <span>*Mathematical Finance*</span> <span>**22**</span>(4) 753–762 (2012).</li>\n",
    "\n",
    "  <li id=\"cite_note-FukasawaMFIL\"><span class=\"mw-cite-backlink\"><b><a href=\"#cite_ref-FukasawaMFIL\">^</a></b></span>   Masaaki Fukaswawa, Volatility Derivatives and Model-free Implied Leverage, <span>*International Journal of Theoretical and Applied Finance*</span> <span>**17**</span>(1) 1450002 (2014).</li>\n",
    "\n",
    "  <li id=\"cite_note-Gatheral\"><span class=\"mw-cite-backlink\"><b><a href=\"#cite_ref-Gatheral\">^</a></b></span>   Jim Gatheral,  <span>*The Volatility Surface: A Practitioner's Guide*</span>, John Wiley and Sons, Hoboken, NJ (2006).</li>\n",
    "\n",
    "</ol>"
   ]
  }
 ],
 "metadata": {
  "celltoolbar": "Slideshow",
  "kernelspec": {
   "display_name": "R",
   "language": "R",
   "name": "ir"
  },
  "language_info": {
   "codemirror_mode": "r",
   "file_extension": ".r",
   "mimetype": "text/x-r-source",
   "name": "R",
   "pygments_lexer": "r",
   "version": "3.2.2"
  }
 },
 "nbformat": 4,
 "nbformat_minor": 0
}
