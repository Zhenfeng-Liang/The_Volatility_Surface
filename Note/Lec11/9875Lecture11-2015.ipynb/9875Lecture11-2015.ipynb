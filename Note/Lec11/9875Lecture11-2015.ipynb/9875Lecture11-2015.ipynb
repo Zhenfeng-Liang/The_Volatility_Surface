{
 "cells": [
  {
   "cell_type": "markdown",
   "metadata": {
    "slideshow": {
     "slide_type": "slide"
    }
   },
   "source": [
    "# MTH 9875 The Volatility Surface:    Fall 2015 \n",
    "<p>\n",
    "\n",
    "### Lecture 11: Barrier options, lookback options, cliquets and other exotics\n",
    "\n",
    "<p>\n",
    "Guest lecturer: Hippolyte Agkpo, Bank of America Merrill Lynch   \n",
    "  \n",
    "  \n",
    "<h3><img src=\"http://mfe.baruch.cuny.edu/wp-content/uploads/2014/07/BaruchLogo2.png\" align = \"left\" width=160></h3>      <h3><img src=\"http://mfe.baruch.cuny.edu/wp-content/uploads/2014/07/MFElogo.png\" align = \"right\" width=100></h3>"
   ]
  },
  {
   "cell_type": "markdown",
   "metadata": {
    "slideshow": {
     "slide_type": "slide"
    }
   },
   "source": [
    "### Outline of lecture\n",
    "\n",
    "* Barrier options\n",
    "\n",
    "    * Guaranteed stop-loss orders\n",
    "\n",
    "    * European capped calls\n",
    "\n",
    "    * Live-out options\n",
    "\n",
    "    * One-touch options\n",
    "\n",
    "\n",
    "* Lookback options\n",
    "\n",
    "\n",
    "* Cliquets\n",
    "\n",
    "    * Locally Capped Globally Floored Cliquet\n",
    "\n",
    "    * Reverse Cliquet\n",
    "\n",
    "    * Napoleon"
   ]
  },
  {
   "cell_type": "markdown",
   "metadata": {
    "slideshow": {
     "slide_type": "slide"
    }
   },
   "source": [
    "### Barrier options\n",
    "\n",
    "*  Barrier options are important building blocks for structured products but their valuation can be highly model-dependent.\n",
    "\n",
    "\n",
    "* Despite all the existing literature, convincing barrier option solutions are thin on the ground. \n",
    "\n",
    "    * In fact, prices quoted for certain kinds of barrier option can vary so much between dealers that customers can sometimes cross the bid-offer (that is, buy on one dealer’s offer and sell on another dealer’s bid for a profit).\n",
    "\n",
    "\n",
    "* By considering two limiting cases, we will see that barrier option values are not always very model-dependent.\n",
    "\n",
    "    * However, the valuation of certain types of barrier option can be extremely model-dependent.\n",
    "    * Intuition is very important.\n",
    "\n",
    "\n",
    "* In the following, we will attempt to understand the relative pricing of various types of barrier option under stochastic and local volatility dynamics."
   ]
  },
  {
   "cell_type": "markdown",
   "metadata": {
    "slideshow": {
     "slide_type": "slide"
    }
   },
   "source": [
    "### Definitions\n",
    "\n",
    "* A *knock-out* option is an option which becomes worthless when a pre-specified “barrier” level is reached.\n",
    "\n",
    "\n",
    "* A *live-out* option is a special case of a knock-out option which is significantly in-the-money when it knocks out.\n",
    "\n",
    "\n",
    "* A *knock-in* option is an option which can only be exercised if a barrier level is reached prior to exercise. Obviously, a knock-in option is just a portfolio of short a knock-out option and long a European.\n",
    "\n",
    "\n",
    "* An amount of money paid to a barrier option buyer if the barrier is hit is termed a *rebate*. This rebate may be paid when the barrier is hit or at expiration."
   ]
  },
  {
   "cell_type": "markdown",
   "metadata": {
    "slideshow": {
     "slide_type": "slide"
    }
   },
   "source": [
    "### Limiting case: A limit order\n",
    "\n",
    "* Suppose we sell a knock-out call option with barrier $B$ equal to the strike price $K$ below the current stock price $S$. \n",
    "\n",
    "\n",
    "* Suppose further that we hedge this position buy buying one stock per option and we charge $S_0-K$ as the premium.\n",
    "\n",
    "    * If interest rates and dividends are zero, it is clear that this hedge is perfect.\n",
    "\n",
    "    * To see this, suppose first that the barrier is never hit: the buyer of the knock-out call option exercises the option and we deliver the stock. Net proceeds are $-(S_T-K)+(S_0-K)+(S_T-S_0)=0$. \n",
    "\n",
    "    * On the other hand, if the barrier is hit, we lose $S_0-K$ on our purchase of stock which is perfectly offset by the premium we charged.\n",
    "\n",
    "\n",
    "* In this special case, a knock-out option has no optionality at all:\n",
    "\n",
    "    * Delta is one, gamma is zero and vega is zero.\n",
    "\n",
    "    * The result is completely model-independent; the only requirement is to have no carry on the stock for this construction to work."
   ]
  },
  {
   "cell_type": "markdown",
   "metadata": {
    "slideshow": {
     "slide_type": "slide"
    }
   },
   "source": [
    "### Qualitative analysis\n",
    "\n",
    "* So long as the stock price remains above the barrier level, we are net flat. \n",
    "\n",
    "\n",
    "* When the barrier is hit, the option knocks out and we are left long of the stock we bought to hedge. \n",
    "\n",
    "\n",
    "* This is equivalent to a stop-loss order to sell stock at $B$.\n",
    "\n",
    "\n",
    "* There is however a big difference between the two contracts:\n",
    "\n",
    "    * Execution at the barrier level is guaranteed.\n",
    "\n",
    "    * A conventional stop-loss order would get filled at the earliest opportunity after the barrier is hit (usually a bit below the barrier).\n",
    "\n",
    "\n",
    "* If prices were continuous, there would be no difference between the two contracts.\n",
    "\n",
    "\n",
    "* In the real world, a knock-out option needs to be priced more highly than the model price to compensate for the risk of the stock price gapping through the barrier level.\n",
    "\n",
    "    * Practitioners compensate for gap risk when pricing options by moving the barrier by some amount related to the expected gap in the stock price when the barrier is hit."
   ]
  },
  {
   "cell_type": "markdown",
   "metadata": {
    "slideshow": {
     "slide_type": "slide"
    }
   },
   "source": [
    "### Price of a guaranteed stop-loss order\n",
    "\n",
    "* In summary, in this special case when $K=B < S_0$, the price of a knock-out call is given by the difference $S_0-K$ between the current stock price and the strike price plus a bit to compensate for gap risk.\n",
    "\n",
    "<br>\n",
    "\n",
    "\n",
    "* Now, if the strike price $K$ and the barrier level $B$ are not equal but not so far apart with $B \\leq K \\leq S_0$, it is natural to expect that neither gamma nor vega would be very high relative to the European option with the same strike $K$. \n",
    "\n",
    "\n",
    "* Nor would we expect the price of such a knock-out option to be very sensitive to the model used to value it (assuming of course that this model prices consistently with all European options).\n",
    "\n",
    "\n",
    "* Explicit computation shows that this is indeed the case."
   ]
  },
  {
   "cell_type": "markdown",
   "metadata": {
    "slideshow": {
     "slide_type": "slide"
    }
   },
   "source": [
    "### Limiting case: European capped calls\n",
    "\n",
    "* The next limiting case we consider is that of the European capped call.\n",
    "\n",
    "    * This option is a call struck at $K$ with barrier $B>S_0$ such that if the stock price reaches $B$ before expiration, the option expires and pays out intrinsic of $B-K$.\n",
    "\n",
    "\n",
    "* If the barrier is far away from the current stock price $S_0$, the price of such an option cannot be very different from the price of a conventional European option. \n",
    "\n",
    "\n",
    "* To see this, consider a portfolio consisting of long a European option struck at $K$ (not too different from $S_0$) and short the capped call. \n",
    "\n",
    "    * If the barrier is not hit, this portfolio pays nothing. \n",
    "\n",
    "    * If the barrier is hit, the portfolio will be long a European option and short cash in the amount of the intrinsic value $B-K$.\n",
    "\n",
    "    * The time value of this European option must be small; by assumption, $B \\gg S_0$ and moreover, the barrier is most likely to be hit close to expiration."
   ]
  },
  {
   "cell_type": "markdown",
   "metadata": {
    "slideshow": {
     "slide_type": "slide"
    }
   },
   "source": [
    "### Capped call well-approximated by Black-Scholes\n",
    "\n",
    "* Since the value of the capped call must be close to the value of a conventional European call, the value of the capped call cannot be very model-dependent and should be well approximated by a model using Black-Scholes assumptions (no volatility skew) and the implied volatility of the corresponding European option."
   ]
  },
  {
   "cell_type": "markdown",
   "metadata": {
    "slideshow": {
     "slide_type": "slide"
    }
   },
   "source": [
    "### Live out calls\n",
    "\n",
    "Now for intuition for the pricing of live-out calls:\n",
    "\n",
    "\n",
    "* To get a live-out call from a capped call, we need only omit the rebate at the barrier. \n",
    "\n",
    "\n",
    "* This gives a call option struck at $K$ which goes deep-in-the-money as the stock price approaches the barrier $B \\gg K$ and knocks-out when the stock price reaches $B$ (with no rebate).\n",
    "\n",
    "    * So to get intuition for the pricing and hedging of live-out options, we need only study the pricing and hedging of the rebate."
   ]
  },
  {
   "cell_type": "markdown",
   "metadata": {
    "slideshow": {
     "slide_type": "slide"
    }
   },
   "source": [
    "### The Reflection Principle\n",
    "\n",
    "Suppose that the stock price is driven by a constant volatility\n",
    "stochastic process with zero log-drift. That is\n",
    "\n",
    "<a name=\"eq:zerodriftSDE\"></a>(1)\n",
    "$$\n",
    "dx =\\sigma \\,dZ\n",
    "$$\n",
    "\n",
    "with $x := \\log \\left( {S}/{K} \\right )$.\n",
    "\n",
    "In this special case, there is a very simple relationship between the\n",
    "price of a European binary option struck at $B$ and the value of the\n",
    "one-touch option struck at $B$.\n",
    "\n",
    "\n",
    "Consider the realization of the zero log-drift stochastic process [(1)](#eq:zerodriftSDE) given\n",
    "by the solid line in [Figure 1](#fig:reflection).\n",
    "\n",
    "* From the symmetry of the problem, the dashed path has the same probability of being realized as the original solid path.\n",
    "\n",
    "\n",
    "* The probability of hitting the barrier $B$ is exactly twice the probability of ending up below the barrier at expiration. \n",
    "\n",
    "    * Putting this another way, the value of a one-touch option is precisely twice the value of a European binary put.\n",
    "\n",
    "\n",
    "* To see this is plausible, note that an at-the-money barrier has 100% chance of getting hit but there is only 50% chance of ending up below the barrier (at least in the zero drift case)."
   ]
  },
  {
   "cell_type": "markdown",
   "metadata": {
    "slideshow": {
     "slide_type": "slide"
    }
   },
   "source": [
    "### Diagrammatic proof\n",
    "\n",
    "\n",
    "<h3><img src=\"http://mfe.baruch.cuny.edu/wp-content/uploads/2014/10/reflection2.png\" align = \"left\" width=600></h3> \n",
    "\n",
    "<a name=\"fig:reflection\"></a>"
   ]
  },
  {
   "cell_type": "markdown",
   "metadata": {
    "slideshow": {
     "slide_type": "fragment"
    }
   },
   "source": [
    "Figure 1: A realization of the zero log-drift stochastic process and the reected path."
   ]
  },
  {
   "cell_type": "markdown",
   "metadata": {
    "slideshow": {
     "slide_type": "slide"
    }
   },
   "source": [
    "### Generalization conjecture\n",
    "\n",
    "Guessing at a generalization, we might suppose that the ratio of the\n",
    "fair value of a one-touch option should be given by ${B(S_0)}^{-1}$\n",
    "where $B(K)$ represents the value of a European binary put struck at\n",
    "$K$."
   ]
  },
  {
   "cell_type": "markdown",
   "metadata": {},
   "source": [
    "### Example: Heston-Nandi\n",
    "\n",
    "* If this guess were correct, for the Heston-Nandi model and our usual parameters: \n",
    "\n",
    "    $$v= 0.04, \\bar v = 0.04, \\lambda=10, \\eta=1, \\rho=-1$$ \n",
    "    \n",
    "    and ${B(S_0)}=0.54614$, the ratio of the one-touch price to the European binary price should be around ${B(S_0)}^{-1}=1.831$. \n",
    "\n",
    "\n",
    "* [Figure 2](#fig:onetouchbinarycomparison) shows how the ratio is very sensitive to modeling assumptions. Although our guess is pretty accurate for the local volatility case, it is very inaccurate in the stochastic volatility case.\n",
    "\n",
    "    * Forward skews are very different under local volatility and stochastic volatility assumptions."
   ]
  },
  {
   "cell_type": "markdown",
   "metadata": {
    "slideshow": {
     "slide_type": "slide"
    }
   },
   "source": [
    "### Set up R environment"
   ]
  },
  {
   "cell_type": "code",
   "execution_count": 1,
   "metadata": {
    "collapsed": false
   },
   "outputs": [],
   "source": [
    "download.file(url=\"http://mfe.baruch.cuny.edu/wp-content/uploads/2014/09/BlackScholes.R.zip\", destfile=\"BlackScholes.R.zip\")\n",
    "unzip(zipfile=\"BlackScholes.R.zip\")\n",
    "source(\"BlackScholes.R\")\n",
    "source(\"Heston2.R\")"
   ]
  },
  {
   "cell_type": "markdown",
   "metadata": {
    "slideshow": {
     "slide_type": "slide"
    }
   },
   "source": [
    "### Heston quasi-closed form pricing formula "
   ]
  },
  {
   "cell_type": "code",
   "execution_count": 2,
   "metadata": {
    "collapsed": false,
    "slideshow": {
     "slide_type": "fragment"
    }
   },
   "outputs": [
    {
     "data": {
      "text/plain": [
       "[1] 0.07460151"
      ]
     },
     "execution_count": 2,
     "metadata": {},
     "output_type": "execute_result"
    }
   ],
   "source": [
    "# Option pricing from characteristic function\n",
    "# Equation (5.6) of The Volatility Surface\n",
    "\n",
    "callOption <- function(phi, k, t){\n",
    "  integrand <-  function(u){Re(exp(-1i*u*k)*phi(u - 1i/2, t)/(u^2 + 1/4))};\n",
    "  res <- 1 - exp(k/2)/pi*integrate(integrand,lower=0,upper=Inf,rel.tol=0.0000000001,subdivisions=1000)$value;\n",
    "  return(res);\n",
    "}\n",
    "\n",
    "# The Heston model\n",
    "phiHeston <- function(params){\n",
    "  \n",
    "  lambda <- params$lambda;\n",
    "  rho <- params$rho;\n",
    "  eta <- params$eta;\n",
    "  vbar <- params$vbar;\n",
    "  v <- params$v;\n",
    "  \n",
    "  function(u, t){\n",
    "    \n",
    "    al <- -u*u/2 - 1i*u/2;\n",
    "    bet <- lambda - rho*eta*1i*u;\n",
    "    gam <- eta^2/2;\n",
    "    d <- sqrt(bet*bet - 4*al*gam);\n",
    "    rp <- (bet + d)/(2*gam);\n",
    "    rm <- (bet - d)/(2*gam);\n",
    "    g <- rm / rp;\n",
    "    D <- rm * (1 - exp(-d*t))/ (1 - g*exp(-d*t));\n",
    "    C <- lambda * (rm * t - 2/eta^2 * log( (1 - g*exp(-(d*t)))/(1 - g) ) );\n",
    "    return(exp(C*vbar + D*v));\n",
    "  }\n",
    "}\n",
    "\n",
    "# Heston-Nandi parameters\n",
    "\n",
    "paramsCh4 <- list(lambda = 10,rho = -1,eta = 1,vbar = 0.04,v = 0.04)\n",
    "\n",
    "# Example:\n",
    "callOption(phiHeston(paramsCh4), k=0, t=1)"
   ]
  },
  {
   "cell_type": "markdown",
   "metadata": {
    "slideshow": {
     "slide_type": "slide"
    }
   },
   "source": [
    "### Alfonsi (2010) timestep with full truncation"
   ]
  },
  {
   "cell_type": "code",
   "execution_count": 3,
   "metadata": {
    "collapsed": false,
    "slideshow": {
     "slide_type": "fragment"
    }
   },
   "outputs": [],
   "source": [
    "evolveAlfonsiF <- function(v,x,dt,W1,W2,L){\n",
    "  \n",
    "  eldt2 <- exp(-lambda*dt/2);\n",
    "  \n",
    "  #Variance process \n",
    "  vbarp <- vbar - eta^2/(4*lambda);\n",
    "  psi <- (1-eldt2)/lambda;\n",
    "  v1 <- v*eldt2+lambda*vbarp*psi;\n",
    "  v2 <- (v1 > 0) * v1; # Take v2 = 0 if v1<0, else v2=v1\n",
    "  par <- sqrt(v2) + eta/2 * sqrt(dt)*W2;\n",
    "  vf <- eldt2*par*par +lambda*vbarp*psi + v1 - v2;\n",
    "  # Full truncation\n",
    "  \n",
    "  # Log-stock process (Andersen equation (33))\n",
    "  vvf <- (v+vf > 0) * (v+vf);\n",
    "  dw <- vvf/2*dt;\n",
    "  x <- x  - dw/2 + rho2m1*sqrt(dw)*W1 +\n",
    "    rho/eta*(lambda*dw + vf-v -lambda*vbar*dt) ;\n",
    "  # Impose martingale constraint\n",
    "  x <- x - log(mean(exp(x)));\n",
    "  v <- vf;\n",
    "  return(cbind(x,v));\n",
    "}"
   ]
  },
  {
   "cell_type": "markdown",
   "metadata": {
    "slideshow": {
     "slide_type": "slide"
    }
   },
   "source": [
    "### Heston Monte Carlo amended to return vectors x, v and max(x)"
   ]
  },
  {
   "cell_type": "code",
   "execution_count": 4,
   "metadata": {
    "collapsed": false,
    "slideshow": {
     "slide_type": "fragment"
    }
   },
   "outputs": [],
   "source": [
    "HestonMCxmax <- function(params){\n",
    "\n",
    "  is.even <- function(j){as.logical((j+1) %% 2)}\n",
    "  \n",
    "  res <- function(S0, T, AK, N, m, evolve,exactVols=NULL)\n",
    "  {\n",
    "    \n",
    "    lambda <<- params$lambda \n",
    "    rho <<- params$rho \n",
    "    eta <<- params$eta \n",
    "    vbar <<- params$vbar \n",
    "    v0 <<- params$v \n",
    "    \n",
    "    n <- m*2  #n is number of timesteps = 2*m so we can use Romberg extrapolation\n",
    "    sqrt2 <- sqrt(2) \n",
    "    rho2m1 <<- sqrt(1-rho*rho) \n",
    "    vbarp <<- vbar - eta^2/(4*lambda) \n",
    "    \n",
    "    negCount <- 0 \n",
    "    \n",
    "    # We use a vertical array, one element per M.C. path\n",
    "    x <- numeric(N);  v <- rep(1,N)*v0  \n",
    "    xmax <- x \n",
    "    xm <- x  \n",
    "    vm <- v\n",
    "    xmaxm <- xmax \n",
    "    xmin <- numeric(N)  \n",
    "    xminm <- numeric(N) \n",
    "    W1m <- numeric(N) \n",
    "    W2m <- numeric(N)  \n",
    "    \n",
    "    # Loop for bias computation (N small, n big)\n",
    "    for (i in 1:n)\n",
    "    {\n",
    "      # Two sets of correlated normal random vars.\n",
    "      \n",
    "      W1 <- rnorm(N) \n",
    "      W2 <- rnorm(N) \n",
    "      W1 <- W1 - mean(W1)\n",
    "      W1 <- W1/sd(W1) \n",
    "      W2 <- W2 - mean(W2)\n",
    "      W2 <- W2/sd(W2) \n",
    "      # Now W1 and W2 are forced to have mean=0 and sd=1\n",
    "      \n",
    "      W2p <- W2 - cor(W1,W2)*W1  # Eliminate actual correlation\n",
    "      W2p <- W2p - mean(W2p)  \n",
    "      W2 <- W2p/sd(W2p)  \n",
    "      # Now W1 and W2 have mean=0, sd=1 and correlation=0\n",
    "      \n",
    "      L <- rbinom(N, size=1, prob=1/2)  # Bernoulli rv for NV step\n",
    "      \n",
    "      # Add code for subgrid\n",
    "      W1m <- W1m + W1/sqrt2\n",
    "      W2m <- W2m + W2/sqrt2  # N(0,1) rv's for subgrid\n",
    "      \n",
    "      if (is.even(i)) {\n",
    "        #print(c(i,mean(W1m),mean(W2m),sd(W1m),sd(W2m),cor(W1m,W2m))) \n",
    "        resm <- evolve(vm,xm,T/m,W1m,W2m,L) \n",
    "        xnewm <- resm[,1] \n",
    "        xmaxm <- (xnewm>xmaxm)*(xnewm-xmaxm)+xmaxm \n",
    "        xminm <- (xnewm<xminm)*(xnewm-xminm)+xminm \n",
    "        xm <- xnewm \n",
    "        vm <- resm[,2] \n",
    "        W1m <- numeric(N)  \n",
    "        W2m <- numeric(N) \n",
    "      }\n",
    "      \n",
    "      res <- evolve(v,x,T/n,W1,W2,L) \n",
    "      xnew <- res[,1] \n",
    "      xmax <- (xnew>xmax)*(xnew-xmax)+xmax \n",
    "      xmin <- (xnew<xmin)*(xnew-xmin)+xmin \n",
    "      x <- xnew \n",
    "      v <- res[,2] \n",
    "      \n",
    "    }\n",
    "    \n",
    "    return(data.frame(x,xm,v,vm,xmax,xmaxm,xmin,xminm)) \n",
    "    \n",
    "  }\n",
    "  return(res) \n",
    "}"
   ]
  },
  {
   "cell_type": "markdown",
   "metadata": {
    "slideshow": {
     "slide_type": "slide"
    }
   },
   "source": [
    "### Local volatility Monte Carlo"
   ]
  },
  {
   "cell_type": "code",
   "execution_count": 5,
   "metadata": {
    "collapsed": false
   },
   "outputs": [],
   "source": [
    "# Monte Carlo with Richardson extrapolation\n",
    "HestonLvMCxmax <- function(params){\n",
    "\n",
    "  is.even <- function(j){as.logical((j+1) %% 2)}\n",
    "  \n",
    "  res <- function(S0, T, N, m)\n",
    "  {\n",
    "    \n",
    "    lambda <- params$lambda;\n",
    "    rho <- params$rho;\n",
    "    eta <- params$eta;\n",
    "    vbar <- params$vbar;\n",
    "    v0 <- params$v;\n",
    "    \n",
    "    lambdap <- lambda+eta/2;\n",
    "    vbarp <- vbar*lambda/lambdap;\n",
    "    \n",
    "    n <- m*2;\n",
    "    dt <- T/n;\n",
    "    dtm <- dt*2;\n",
    "    \n",
    "    sqrtdt <- sqrt(dt);\n",
    "    sqrtdtm <- sqrt(dtm);\n",
    "    sqrt2 <- sqrt(2);\n",
    "    \n",
    "    # We use a vertical array, one element per M.C. path\n",
    "    x <- numeric(N); vloc <- rep(v0,N); \n",
    "    xm <- numeric(N); vlocm <- rep(v0,N); \n",
    "    xmax <- numeric(N); xmaxm <- numeric(N);\n",
    "    xmin <- numeric(N); xminm <- numeric(N);\n",
    "    W1m <- numeric(N);\n",
    "    \n",
    "    # Loop over timesteps\n",
    "    for (i in 1:n)\n",
    "    {\n",
    "      W1 <- rnorm(N);\n",
    "      W1 <- W1 - mean(W1); W1 <- W1/sd(W1);\n",
    "      # Now W1 is forced to have mean=0 and sd=1  \n",
    "      \n",
    "      # Add code for subgrid\n",
    "      W1m <- W1m + W1/sqrt2; # N(0,1) rv's for subgrid\n",
    "      \n",
    "      # Compute local variance from formula 4.1 of TVS\n",
    "      ti <- i*dt;\n",
    "      elti <- exp(-lambdap*ti);\t\n",
    "      vlocf <- (v0-vbarp)*elti+vbarp-eta*x*(1-elti)/(lambdap*ti);\n",
    "      vlocf <- (vlocf>=0)*vlocf;\n",
    "      \n",
    "      # Approximate integrated variance\n",
    "      w <- (vlocf +vloc)/2*dt;\n",
    "      \n",
    "      xnew <- x - w/2 + sqrt(w)*W1;\n",
    "      xmax <- (xnew>xmax)*(xnew-xmax)+xmax;\n",
    "      xmin <- (xnew<xmin)*(xnew-xmin)+xmin;\n",
    "      x <- xnew;\n",
    "      vloc <- vlocf;\n",
    "      \n",
    "      \n",
    "      if (is.even(i)) {\n",
    "        \n",
    "        vlocfm <- (v0-vbarp)*elti+vbarp-eta*xm*(1-elti)/(lambdap*ti);\n",
    "        vlocfm <- (vlocfm>=0)*vlocfm;\n",
    "        \n",
    "        wm <- (vlocfm+vlocm)/2*dtm;\n",
    "        xnewm <- xm - wm/2 + sqrt(wm)*W1m;\n",
    "        xmaxm <- (xnewm>xmaxm)*(xnewm-xmaxm)+xmaxm;\n",
    "        xminm <- (xnewm<xminm)*(xnewm-xminm)+xminm;\n",
    "        xm <- xnewm;\n",
    "        vlocm <- vlocf;\n",
    "        W1m <- numeric(N);\n",
    "      } \n",
    "      \n",
    "      \n",
    "    }\n",
    "    \n",
    "    return(data.frame(x,xm,vloc,vlocm,xmax,xmaxm,xmin, xminm));\n",
    "    \n",
    "  }\n",
    "  return(res);\n",
    "}"
   ]
  },
  {
   "cell_type": "markdown",
   "metadata": {
    "slideshow": {
     "slide_type": "slide"
    }
   },
   "source": [
    "###Generate Monte Carlo samples"
   ]
  },
  {
   "cell_type": "code",
   "execution_count": 6,
   "metadata": {
    "collapsed": false,
    "slideshow": {
     "slide_type": "fragment"
    }
   },
   "outputs": [],
   "source": [
    "sampleLV <- HestonLvMCxmax(paramsCh4)(S0=1, T=1, N=200000, m=128);\n",
    "sampleSV <- HestonMCxmax(paramsCh4)(S0=1, T=1, N=200000, m=128,evolve=evolveAlfonsiF);"
   ]
  },
  {
   "cell_type": "markdown",
   "metadata": {
    "slideshow": {
     "slide_type": "slide"
    }
   },
   "source": [
    "### Actual one-touch pricing vs our guess"
   ]
  },
  {
   "cell_type": "code",
   "execution_count": 7,
   "metadata": {
    "collapsed": false,
    "slideshow": {
     "slide_type": "fragment"
    }
   },
   "outputs": [
    {
     "data": {
      "image/png": "[encoded data removed]"
     },
     "metadata": {},
     "output_type": "display_data"
    }
   ],
   "source": [
    "euroDigital <- function(data,strike){\n",
    "  \n",
    "  S <- exp(data$x);\n",
    "  Sm <- exp(data$xm);\n",
    "  K <- strike;\n",
    "  V <- (S>K); # Boundary condition for one-touch\n",
    "  Vm <- (Sm>K); # Boundary condition for one-touch\n",
    "  AV <- mean(V);\n",
    "  AVm <- mean(Vm);\n",
    "  AVr <- 2*AV-AVm;\n",
    "  return(list(val=AV, valm = AVm,valRichardson=AVr))\n",
    "  \n",
    "}\n",
    "\n",
    "exactDigital <- function(K){(callOption(phiHeston(paramsCh4),k=log(K-.01),t=1)-callOption(phiHeston(paramsCh4),k=log(K+0.01),t=1))/0.02};\n",
    "\n",
    "ratio0 <- 1/exactDigital(1)\n",
    "\n",
    "oneTouch <- function(data,strike){\n",
    "  \n",
    "  xmax <- data$xmax;\n",
    "  xmaxm <- data$xmaxm;\n",
    "  Smax <- exp(xmax);\n",
    "  Smaxm <- exp(xmaxm);\n",
    "  K <- strike;\n",
    "  V <- (Smax>K); # Boundary condition for one-touch\n",
    "  Vm <- (Smaxm>K); # Boundary condition for one-touch\n",
    "  AV <- mean(V);\n",
    "  AVm <- mean(Vm);\n",
    "  AVr <- 2*AV-AVm;\n",
    "  return(list(val=AV, valm = AVm,valRichardson=AVr));\n",
    "  \n",
    "}\n",
    "\n",
    "strikes <- c(1.00001,seq(1.001,1.3,0.001))\n",
    "\n",
    "ratioSV <- sapply(strikes,function(K){oneTouch(sampleSV,K)$valRichardson/euroDigital(sampleSV,K)$valRichardson})\n",
    "\n",
    "ratioLV <-sapply(strikes,function(K){oneTouch(sampleLV,K)$valRichardson/euroDigital(sampleLV,K)$valRichardson})\n",
    "\n",
    "plot(strikes, ratioSV, col=\"red\",type=\"l\",ylab=\"Ratio\",xlab=\"Strike\",ylim=c(1.5,2))\n",
    "points(strikes, ratioLV, col=\"blue\",type=\"l\", lty=2)"
   ]
  },
  {
   "cell_type": "markdown",
   "metadata": {
    "slideshow": {
     "slide_type": "fragment"
    }
   },
   "source": [
    "<a name=\"fig:onetouchbinarycomparison\"></a> Figure 2: The ratio of the value of a one-touch call to the value of a European binary call under stochastic volatility and local volatility assumptions as a function of strike. The solid line is stochastic volatility and the dashed line is local volatility."
   ]
  },
  {
   "cell_type": "markdown",
   "metadata": {
    "slideshow": {
     "slide_type": "slide"
    }
   },
   "source": [
    "### Model-dependence of European digital"
   ]
  },
  {
   "cell_type": "code",
   "execution_count": 8,
   "metadata": {
    "collapsed": false,
    "slideshow": {
     "slide_type": "fragment"
    }
   },
   "outputs": [
    {
     "data": {
      "image/png": "[encoded data removed]"
     },
     "metadata": {},
     "output_type": "display_data"
    }
   ],
   "source": [
    "edSV <- sapply(strikes,function(K){euroDigital(sampleSV,K)$valRichardson});\n",
    "edLV <-sapply(strikes,function(K){euroDigital(sampleLV,K)$valRichardson});\n",
    "\n",
    "plot(strikes, edSV, col=\"red\",type=\"l\",ylab=\"Value\",xlab=\"Barrier\");\n",
    "points(strikes, edLV, col=\"blue\",type=\"l\", lty=2);"
   ]
  },
  {
   "cell_type": "markdown",
   "metadata": {
    "slideshow": {
     "slide_type": "fragment"
    }
   },
   "source": [
    "<a name=\"fig:binary\"></a> Figure 3: The value of a European binary call under stochastic volatility and local volatility assumptions as a function of strike. The solid line is\n",
    "stochastic volatility and the dashed line is local volatility. The two\n",
    "lines are almost indistinguishable. The price of a European digital\n",
    "depends only on the prices of European options."
   ]
  },
  {
   "cell_type": "markdown",
   "metadata": {
    "slideshow": {
     "slide_type": "slide"
    }
   },
   "source": [
    "### Dependence of one-touch price on barrier level"
   ]
  },
  {
   "cell_type": "code",
   "execution_count": 9,
   "metadata": {
    "collapsed": false,
    "slideshow": {
     "slide_type": "fragment"
    }
   },
   "outputs": [
    {
     "data": {
      "image/png": "[encoded data removed]"
     },
     "metadata": {},
     "output_type": "display_data"
    }
   ],
   "source": [
    "strikes <- c(1.00001,seq(1.02,1.4,0.02))\n",
    "\n",
    "otSV <- sapply(strikes,function(K){oneTouch(sampleSV,K)$valRichardson})\n",
    "otLV <-sapply(strikes,function(K){oneTouch(sampleLV,K)$valRichardson})\n",
    "\n",
    "plot(strikes, otSV, col=\"red\",type=\"l\",ylab=\"Value\",xlab=\"Barrier\")\n",
    "points(strikes, otLV, col=\"blue\",type=\"l\", lty=2)"
   ]
  },
  {
   "cell_type": "markdown",
   "metadata": {
    "slideshow": {
     "slide_type": "fragment"
    }
   },
   "source": [
    "<a name=\"fig:onetouch\"></a> Figure 4: The value of a one-touch call under stochastic volatility and local\n",
    "volatility assumptions as a function of barrier level. The solid line is\n",
    "stochastic volatility and the dashed line is local\n",
    "volatility."
   ]
  },
  {
   "cell_type": "markdown",
   "metadata": {
    "slideshow": {
     "slide_type": "slide"
    }
   },
   "source": [
    "### Intuition from a hedging argument\n",
    "\n",
    "* Consider the case $B>1$.\n",
    "\n",
    "\n",
    "* The obvious quasi-static hedge for (short) a one-touch at $B$ is (long) a strip of European digital options struck at $B$.\n",
    "\n",
    "\n",
    "* If and when the barrier is hit, digital options in the hedge portfolio will need to be unwound.\n",
    "\n",
    "    * Under local volatility the skew at the time of unwinding will be flatter than under stochastic volatility.\n",
    "\n",
    "    * The remaining hedge is then more valuable under stochastic volatility (assuming $\\rho<0$).\n",
    "\n",
    "    * That is, on average the one-touch option costs less to hedge under stochastic volatility than under local volatility.\n",
    "\n",
    "\n",
    "* We conclude that the initial price of the one-touch should be lower under stochastic volatility."
   ]
  },
  {
   "cell_type": "markdown",
   "metadata": {
    "slideshow": {
     "slide_type": "slide"
    }
   },
   "source": [
    "### The lookback hedging argument\n",
    "\n",
    "* A closely-related hedging argument originally given in [Goldman, Sosin and Gatto]<sup id=\"cite_ref-GoldmanSosinGatto:1979\" class=\"reference\"><a href=\"#cite_note-GoldmanSosinGatto:1979\"><span>[</span>4<span>]</span></a></sup>  is used to estimate the price and hedge portfolio of a lookback option.\n",
    "\n",
    "\n",
    "* We define lookback call to be an option that pays $(\\tilde S - K)^+$ at expiration where $\\tilde S$ is the maximum stock price over the life of the option and $K$ is the strike price.\n",
    "\n",
    "\n",
    "* With zero log-drift and constant volatility, suppose we hedge a short position in this lookback call by holding two conventional European options struck at $K$. \n",
    "\n",
    "    * If the stock price never reaches $K$, both the lookback and the European option expire worthless. \n",
    "\n",
    "    * If and when the stock price does reach K and increases by some small increment $\\Delta K$, the value of the lookback option must increase by $\\Delta K$ (since $K+\\Delta K$ is now the new maximum).\n",
    "\n",
    "    * The new lookback option must pay $\\Delta K +( \\tilde S - (K+\\Delta K))^+$ – the payoff of another lookback option with a higher strike price plus a fixed cashflow $\\Delta K$.\n",
    "\n",
    "\n",
    "\n",
    "* By assumption, the new hedge portfolio must be two calls struck at $K+\\Delta K$.\n",
    "\n",
    "\n",
    "* So we must rebalance our hedge portfolio by selling two calls struck at $K$ and buying two calls struck at $K+\\Delta K$.\n",
    "\n",
    "\n",
    "* The profit generated by rebalancing is\n",
    "\n",
    "    $$\\begin{eqnarray}\n",
    "     2\\, C(K+\\Delta K,K)-2\\, C( K+\\Delta K,K+\\Delta K) &\\approx&\n",
    "- 2\\left. \\frac{\\partial C}{\\partial K}\\right|_{S=K} \\Delta K\\\\\n",
    "     &=&2 \\left. N\\left( d_2 \\right)\\right|_{S=K}\\\\ \n",
    "     &=& \\Delta K\\end{eqnarray}$$\n",
    "\n",
    "    using the fact that $\\left. N\\left( d_2 \\right)\\right|_{S=K}= {1}/{2}$ when the log-drift is zero.\n",
    "\n",
    "\n",
    "* The profit generated by rebalancing is exactly what is needed to generate the required payoff of the lookback option and our hedge is perfect."
   ]
  },
  {
   "cell_type": "markdown",
   "metadata": {
    "slideshow": {
     "slide_type": "slide"
    }
   },
   "source": [
    "### Relaxing the assumptions\n",
    "\n",
    "* When the log-drift is zero, and under Black-Scholes assumptions, a lookback call is worth two European calls.\n",
    "\n",
    "\n",
    "* When we relax these assumptions, we expect that lookback calls should still be worth roughly two European calls.\n",
    "\n",
    "    * Intuitively, the number of calls in the hedge portfolio is given by the average of \n",
    "    \n",
    "        $$\\frac{\\Delta K}{\\frac{{\\partial}C}{{\\partial}K}}$$ \n",
    "        \n",
    "        over the life of the lookback option. \n",
    "\n",
    "    * In the Black-Scholes case, when the log-drift is zero this ratio is always $2$."
   ]
  },
  {
   "cell_type": "markdown",
   "metadata": {
    "slideshow": {
     "slide_type": "slide"
    }
   },
   "source": [
    "### One-touch options again\n",
    "\n",
    "* The value of a one-touch call option struck at $B$ is the probability that the maximum stock price is greater than $B$.\n",
    "\n",
    "\n",
    "* We can generate this payoff by taking the limit of a lookback call spread as the difference between the strikes gets very small.\n",
    "\n",
    "\n",
    "* Because a lookback call has the same value as two European calls, a lookback call spread must have the same value as two European call spreads.\n",
    "\n",
    "\n",
    "* Put another way, under Black-Scholes assumptions, a one-touch option is worth two European binary options when the log-drift is zero."
   ]
  },
  {
   "cell_type": "markdown",
   "metadata": {
    "slideshow": {
     "slide_type": "slide"
    }
   },
   "source": [
    "### Put-call symmetry\n",
    "\n",
    "* Now assume zero interest rates and dividends and constant volatility again (as opposed to zero log-drift).\n",
    "\n",
    "\n",
    "* In this case, by inspection of the Black-Scholes formula, we have: \n",
    "\n",
    "    $$C \\left(\\frac{B^2}{S},K \\right)=\\frac{K}{S} \\,P \\left( S,\\frac{B^2}{K} \\right)$$ \n",
    "\n",
    "\n",
    "* From one of the many references containing closed-form formulae for knock-out options, we may deduce that\n",
    "\n",
    "    $$\\begin{eqnarray}\n",
    "     DO \\left({S},K,B \\right)&=&C \\left({S},K\n",
    "     \\right)-\\frac{S}{B}\\, C \\left(\\frac{B^2}{S},K \\right)\\\\\n",
    "     &=& C \\left({S},K \\right)- \\frac{K}{B}\\,P \\left( S,\\frac{B^2}{K} \\right)\\end{eqnarray}$$\n",
    "\n",
    "    where $DO(.)$ represents the value of a down-and-out call."
   ]
  },
  {
   "cell_type": "markdown",
   "metadata": {
    "slideshow": {
     "slide_type": "slide"
    }
   },
   "source": [
    "### Why the static hedge works\n",
    "\n",
    "* By inspection, as $S \\downarrow B$ , we see that $DO \\left(S,K,B \\right) \\downarrow 0$ as we would expect.\n",
    "\n",
    "\n",
    "* When the drift is zero, there is a static hedge for a down-and-out call option which consists of long a European call with the same strike and short ${K}/{B}$ European puts struck at the reflection of the log-strike in the log-barrier ($K'={B^2}/{K}$).\n",
    "\n",
    "\n",
    "* The reason this static hedge works is that the value of the call we are long always exactly offsets the value of the put we are short when the stock price reaches the barrier $B$."
   ]
  },
  {
   "cell_type": "markdown",
   "metadata": {
    "slideshow": {
     "slide_type": "slide"
    }
   },
   "source": [
    "### Guaranteed stop-loss contract again\n",
    "\n",
    "* A special case is when $B=K$.\n",
    "\n",
    "\n",
    "* Then we have \n",
    "\n",
    "    $$DO \\left({S},K,K \\right)\\, =\\, C \\left({S},K \\right)- \\,P \\left( S,{K} \\right)\\,=\\,S-K$$ \n",
    "    \n",
    "    and we see again that there is no optionality\n",
    "\n",
    "    * The down-and-out call option is worth only intrinsic value and has the same payoff as a portfolio of long the stock and short $K$ bonds as we argued before."
   ]
  },
  {
   "cell_type": "markdown",
   "metadata": {
    "slideshow": {
     "slide_type": "slide"
    }
   },
   "source": [
    "### Quasi-static hedging and qualitative valuation\n",
    "\n",
    "* Although there is no exact static hedge in the general case, we can construct a portfolio that has rather small payoffs under all reasonable scenarios.\n",
    "\n",
    "    * Typical optimal hedge portfolios will look like those we already derived in special cases.\n",
    "\n",
    "\n",
    "* A sophisticated version of this procedure known as the Lagrangian Uncertain Volatility Model is described in [Avellaneda, Lévy and Paras]<sup id=\"cite_ref-AvellanedaLevyParas:1995\" class=\"reference\"><a href=\"#cite_note-AvellanedaLevyParas:1995\"><span>[</span>1<span>]</span></a></sup>."
   ]
  },
  {
   "cell_type": "markdown",
   "metadata": {
    "slideshow": {
     "slide_type": "slide"
    }
   },
   "source": [
    "### The Lagrangian Uncertain Volatility (LUV) Model\n",
    "\n",
    "* In the LUV model, volatility is bounded but uncertain\n",
    "\n",
    "    * Volatility is assumed to be high when the portfolio is short gamma and low when the portfolio is long gamma (worst case).\n",
    "\n",
    "    * Thus, different prices are generated depending on whether an option position is long or short (a bid-offer spread is generated).\n",
    "\n",
    "\n",
    "* By minimizing the bid-offer spread of a given portfolio of exotic options (such as barrier options) and European options with respect to the weights of the European options, we can determine an optimal hedge and the minimal bid-offer spread that would be required to guarantee profitability assuming that volatility does indeed remain within the assumed bounds."
   ]
  },
  {
   "cell_type": "markdown",
   "metadata": {
    "slideshow": {
     "slide_type": "slide"
    }
   },
   "source": [
    "### Mental Monte Carlo\n",
    "\n",
    "* As in our previous one-touch example, we can use the quasi-static hedging idea to determine the impact of modeling assumptions on the valuation of any given barrier-like claim. \n",
    "\n",
    "    * First determine what the quasi-static hedge looks like.\n",
    "\n",
    "    * Then figure out how this hedge behaves under various future stock price and volatility scenarios\n",
    "\n",
    "        * a sort of mental Monte Carlo simulation.\n",
    "\n",
    "\n",
    "* We now illustrate this approach with a few more examples."
   ]
  },
  {
   "cell_type": "markdown",
   "metadata": {
    "slideshow": {
     "slide_type": "slide"
    }
   },
   "source": [
    "### Out-of-the-money barrier options\n",
    "\n",
    "* For concreteness, suppose we sell a call with strike $K$ that knocks out at $B < K $.\n",
    "\n",
    "\n",
    "* The quasi-static hedge portfolio is long a European call with strike $K$ and short an out-of-the money European put (with strike $B^2/K$ in the zero log-drift case).\n",
    "\n",
    "    * If the barrier is never hit, the hedge is obviously good.\n",
    "\n",
    "    * On the other hand, if the barrier is hit, the value of the then out-of-the-money European call and out-of-the-money European put in the hedge portfolio will depend on the then volatility skew. \n",
    "\n",
    "\n",
    "* From our discussion of volatility surface dynamics we know that with our Heston-Nandi (HN) parameters the skew will be flatter (less negative) under local volatility than under stochastic volatility (Heston).\n",
    "\n",
    "    * When the barrier is hit, the hedge portfolio will be worth *more* under local volatility than under stochastic volatility."
   ]
  },
  {
   "cell_type": "markdown",
   "metadata": {
    "slideshow": {
     "slide_type": "slide"
    }
   },
   "source": [
    "### Out-of-the-money barrier options\n",
    "\n",
    "* When the barrier is hit, both options will be out-of-the-money so we don’t expect the skew effect to be very big.\n",
    "\n",
    "\n",
    "* We therefore guess that the pricing of a call that knocks out out-of-the-money would be a little lower under local volatility (because the net expected hedging cost is lower) than under stochastic volatility.\n",
    "\n",
    "\n",
    "* This guess is consistent with the graphs in [Figure 5](#fig:k100ko) and [Figure 6](#fig:k90ko)."
   ]
  },
  {
   "cell_type": "markdown",
   "metadata": {
    "slideshow": {
     "slide_type": "slide"
    }
   },
   "source": [
    "###Knock-out options struck at K=1"
   ]
  },
  {
   "cell_type": "code",
   "execution_count": 10,
   "metadata": {
    "collapsed": false,
    "slideshow": {
     "slide_type": "fragment"
    }
   },
   "outputs": [
    {
     "data": {
      "image/png": "[encoded data removed]"
     },
     "metadata": {},
     "output_type": "display_data"
    }
   ],
   "source": [
    "knockOut <- function(data,strike,barrier){\n",
    "  \n",
    "  S <- exp(data$x);\n",
    "  Smin <- exp(data$xmin);\n",
    "  Sm <- exp(data$xm);\n",
    "  Sminm <- exp(data$xminm)\n",
    "  K <- strike;\n",
    "  B <- barrier;\n",
    "  V <- (S>K)*(S-K)*(Smin>B); # Boundary condition for knockout\n",
    "  Vm <- (Sm>K)*(Sm-K)*(Sminm>B); # Boundary condition for knockout\n",
    "  AV <- mean(V);\n",
    "  AVm <- mean(Vm);\n",
    "  AVr <- 2*AV-AVm;\n",
    "  return(list(val=AV, valm = AVm,valRomberg=AVr));\n",
    "  \n",
    "}\n",
    "\n",
    "barriers <- seq(.6,1,0.02);\n",
    "\n",
    "koSV <- sapply(barriers,function(B){knockOut(sampleSV,strike=1,barrier=B)$valRomberg});\n",
    "koLV <-sapply(barriers,function(B){knockOut(sampleLV,strike=1,barrier=B)$valRomberg});\n",
    "\n",
    "plot(barriers, koSV, col=\"red\",type=\"l\",ylab=\"Value\",xlab=\"Barrier\");\n",
    "points(barriers, koLV, col=\"blue\",type=\"l\", lty=2);"
   ]
  },
  {
   "cell_type": "markdown",
   "metadata": {
    "slideshow": {
     "slide_type": "fragment"
    }
   },
   "source": [
    "<a name=\"fig:k100ko\"></a> Figure 5: Values of knockout call options struck at 1 as a function of barrier level. The solid line is stochastic volatility; the dashed line is local volatility."
   ]
  },
  {
   "cell_type": "markdown",
   "metadata": {
    "slideshow": {
     "slide_type": "slide"
    }
   },
   "source": [
    "###Knock-out options struck at K=0.9\n"
   ]
  },
  {
   "cell_type": "code",
   "execution_count": 11,
   "metadata": {
    "collapsed": false,
    "slideshow": {
     "slide_type": "fragment"
    }
   },
   "outputs": [
    {
     "data": {
      "image/png": "[encoded data removed]"
     },
     "metadata": {},
     "output_type": "display_data"
    }
   ],
   "source": [
    "koSV <- sapply(barriers,function(B){knockOut(sampleSV,strike=0.9,barrier=B)$valRomberg})\n",
    "koLV <-sapply(barriers,function(B){knockOut(sampleLV,strike=0.9,barrier=B)$valRomberg})\n",
    "\n",
    "plot(barriers, koSV, col=\"red\",type=\"l\",ylab=\"Value\",xlab=\"Barrier\")\n",
    "points(barriers, koLV, col=\"blue\",type=\"l\", lty=2)\n"
   ]
  },
  {
   "cell_type": "markdown",
   "metadata": {
    "slideshow": {
     "slide_type": "fragment"
    }
   },
   "source": [
    "<a name=\"fig:k90ko\"></a> Figure 6: Values of knockout call options struck at 0.9 as a function of barrier level. The solid line is stochastic volatility; the dashed line is local volatility."
   ]
  },
  {
   "cell_type": "markdown",
   "metadata": {
    "slideshow": {
     "slide_type": "slide"
    }
   },
   "source": [
    "### Live-out options\n",
    "\n",
    "* As before, we model a live-out call as a capped call minus a one-touch.\n",
    "\n",
    "    * Again, we guess that the value of the capped call should be pretty much identical under stochastic and local volatility modeling assumptions. \n",
    "\n",
    "    * On the other hand, based on our earlier argument, we expect the value of the one-touch to be lower under stochastic volatility than under local volatility.\n",
    "\n",
    "\n",
    "* We conclude that with HN parameters, a live-out call should be worth *more* under stochastic volatility than under local volatility.\n",
    "\n",
    "\n",
    "* This guess is consistent with the graph in [Figure 7](#fig:k100lo).\n",
    "\n",
    "\n",
    "* Note that the difference in valuation between the two modeling assumptions can be *very substantial*!"
   ]
  },
  {
   "cell_type": "markdown",
   "metadata": {
    "slideshow": {
     "slide_type": "slide"
    }
   },
   "source": [
    "###Live-out options struck at K=1"
   ]
  },
  {
   "cell_type": "code",
   "execution_count": 12,
   "metadata": {
    "collapsed": false,
    "slideshow": {
     "slide_type": "fragment"
    }
   },
   "outputs": [
    {
     "data": {
      "image/png": "[encoded data removed]"
     },
     "metadata": {},
     "output_type": "display_data"
    }
   ],
   "source": [
    "liveOut <- function(data,strike,barrier){\n",
    "  \n",
    "  S <- exp(data$x)\n",
    "  Smax <- exp(data$xmax)\n",
    "  Sm <- exp(data$xm)\n",
    "  Smaxm <- exp(data$xmaxm)\n",
    "  K <- strike\n",
    "  B <- barrier\n",
    "  V <- (S>K)*(S-K)*(Smax<B) # Boundary condition for knockout\n",
    "  Vm <- (Sm>K)*(Sm-K)*(Smaxm<B) # Boundary condition for knockout\n",
    "  AV <- mean(V)\n",
    "  AVm <- mean(Vm)\n",
    "  AVr <- 2*AV-AVm\n",
    "  return(list(val=AV, valm = AVm,valRichardson=AVr))\n",
    "  \n",
    "}\n",
    "\n",
    "barriers <- seq(1,1.4,0.02)\n",
    "\n",
    "loSV <- sapply(barriers,function(B){liveOut(sampleSV,strike=1,barrier=B)$valRichardson})\n",
    "loLV <-sapply(barriers,function(B){liveOut(sampleLV,strike=1,barrier=B)$valRichardson})\n",
    "\n",
    "plot(barriers, loSV, col=\"red\",type=\"l\",ylab=\"Value\",xlab=\"Barrier\")\n",
    "points(barriers, loLV, col=\"blue\",type=\"l\", lty=2)"
   ]
  },
  {
   "cell_type": "markdown",
   "metadata": {
    "slideshow": {
     "slide_type": "fragment"
    }
   },
   "source": [
    "<a name=\"fig:k100lo\"></a> Figure 7: Values of live-out call options struck at 1 as a function of barrier\n",
    "level. The solid line is stochastic volatility; the dashed line is local\n",
    "volatility."
   ]
  },
  {
   "cell_type": "markdown",
   "metadata": {
    "slideshow": {
     "slide_type": "slide"
    }
   },
   "source": [
    "### Lookback options\n",
    "\n",
    "* Suppose now that we sell a lookback call option struck at $K> S $.\n",
    "\n",
    "\n",
    "* The hedge is roughly two European call options struck at $K$.\n",
    "\n",
    "    * If the stock price never reaches $K$, the hedge is fine.\n",
    "\n",
    "    * If and when the stock price reaches $K$, we need to sell our two European calls with strike $K$ and buy two new calls with strike $K + \\Delta K$. \n",
    "\n",
    "    * Equivalently, we need to sell two call spreads.\n",
    "\n",
    "\n",
    "* With HN parameters, the skew will be more negative under stochastic volatility than under local volatility.\n",
    "\n",
    "\n",
    "* We will therefore earn more for our call spreads under stochastic volatility than under local volatility.\n",
    "\n",
    "\n",
    "* With HN parameters, a lookback call option should be valued lower under stochastic volatility than under local volatility assumptions.\n",
    "\n",
    "\n",
    "* This guess is consistent with [Figure 8](#fig:lookback)."
   ]
  },
  {
   "cell_type": "markdown",
   "metadata": {
    "slideshow": {
     "slide_type": "fragment"
    }
   },
   "source": [
    "<h3><img src=\"http://mfe.baruch.cuny.edu/wp-content/uploads/2014/10/lookback.png\" align = \"left\" width=600></h3> \n",
    "\n",
    "<a name=\"fig:lookback\"></a> "
   ]
  },
  {
   "cell_type": "markdown",
   "metadata": {
    "slideshow": {
     "slide_type": "fragment"
    }
   },
   "source": [
    "Figure 8: Values of lookback call options as a function of strike. The solid line is stochastic volatility; the dashed line is local volatility."
   ]
  },
  {
   "cell_type": "markdown",
   "metadata": {
    "slideshow": {
     "slide_type": "slide"
    }
   },
   "source": [
    "### Adjusting for discrete monitoring\n",
    "\n",
    "* The discreteness effect for barrier options is very significant.\n",
    "\n",
    "\n",
    "* Often barrier option contracts specify that the barrier is only to be monitored at the market close.\n",
    "\n",
    "\n",
    "* How can we estimate the magnitude of the effect of this on the value of a barrier option?\n",
    "\n",
    "    * Use a lookback argument."
   ]
  },
  {
   "cell_type": "markdown",
   "metadata": {
    "slideshow": {
     "slide_type": "slide"
    }
   },
   "source": [
    "### Discreteness adjustment using lookback argument\n",
    "\n",
    "* Suppose a given discrete (up-) barrier option is monitored daily and consider the day on which the discrete maximum is first reached.\n",
    "\n",
    "\n",
    "* It is highly likely that the continuous maximum was reached on the same day.\n",
    "\n",
    "    * At the beginning of that day, the expected difference between the maximum reached and the final stock price is a lookback option that is worth approximately twice a one-day European option or \n",
    "    \n",
    "        $$2\\,\\frac{\\sigma\\,\\sqrt{\\Delta T}}{\\sqrt{2\\pi}}\\approx 0.8\\,\\sigma\\,\\sqrt{\\Delta T}$$ \n",
    "\n",
    "\n",
    "* Then, denoting the fair value of discretely-monitored and continuously-monitored options with up-barrier $B$ by $\\tilde V(B)$ and $V(B)$ respectively, we have \n",
    "\n",
    "    $$\\tilde V\\left(B\\right) \\approx V\\left(B\\,e^{0.8\\,\\sigma\\,\\sqrt{\\Delta T}}\\right)$$"
   ]
  },
  {
   "cell_type": "markdown",
   "metadata": {
    "slideshow": {
     "slide_type": "slide"
    }
   },
   "source": [
    "### Broadie, Glasserman and Kou\n",
    "\n",
    "<font color=\"red\"> **Theorem**\n",
    "\n",
    "<font color=\"red\"> Let $V(B)$ be the price of a continuous barrier option, and $V_m(B)$ be\n",
    "the price of an otherwise identical barrier option with $m$ monitoring\n",
    "points. Then we have the approximation\n",
    "\n",
    "$$V_m(B)=V(B\\,e^{\\pm \\beta\\sigma\\sqrt{T/m}})+o(1/\\sqrt{m})$$ \n",
    "\n",
    "\n",
    "with + for an up option and - for a down option, where the constant\n",
    "\n",
    "$$\\beta=-\\frac{\\zeta{(1/2)}}{\\sqrt{2\\pi}}\\approx 0.5826$$\n",
    "\n",
    "and $\\zeta$ is the Riemann zeta function.\n",
    "\n",
    "<font color=\"black\">\n",
    "#### The idea of the proof\n",
    "\n",
    "* The idea of the proof in [Broadie, Glasserman and Kou]<sup id=\"cite_ref-BroadieGlassermanKou:1999\" class=\"reference\"><a href=\"#cite_note-BroadieGlassermanKou:1999\"><span>[</span>2<span>]</span></a></sup> is to estimate the amount by which the discretely monitored stock price overshoots the barrier level (as it must in general) the first time it exceeds it.\n",
    "\n",
    "    * The amount of overshoot is given approximately by $B\\,e^{\\pm \\beta\\sigma\\sqrt{T/m}}-B$."
   ]
  },
  {
   "cell_type": "markdown",
   "metadata": {
    "slideshow": {
     "slide_type": "slide"
    }
   },
   "source": [
    "### Magnitude of discreteness adjustment in practice\n",
    "\n",
    "* The difference in price between a discretely monitored barrier option and its continuously monitored equivalent is often substantial.\n",
    "\n",
    "\n",
    "* For example, with $\\sigma=0.32$ and daily monitoring ($\\sqrt{\\Delta T} \\approx 1/16$), the adjustment would be around $\\frac{0.32 \\times 0.6} {16} = .012$ ( 1.2% of the barrier level)."
   ]
  },
  {
   "cell_type": "markdown",
   "metadata": {
    "slideshow": {
     "slide_type": "slide"
    }
   },
   "source": [
    "### Discretely monitored lookback options\n",
    "\n",
    "* One might guess from the previous result that the expected difference between the continuous maximum and the discrete maximum might be approximated by the same number.\n",
    "\n",
    "\n",
    "* [Broadie, Glasserman and Kou]<sup id=\"cite_ref-BroadieGlassermanKou:1999\" class=\"reference\"><a href=\"#cite_note-BroadieGlassermanKou:1999\"><span>[</span>2<span>]</span></a></sup> also show that\n",
    "\n",
    "    <a name=\"eq:discretemax\"></a>(2)$$\\mathbb{E}[\\hat S_T]=\\mathbb{E}[\\tilde S_T]\\,e^{-\\beta \\,\\sigma\\sqrt{\\Delta T}}$$\n",
    "\n",
    "    where $\\hat S$ is the discrete maximum, $\\tilde S$ is the continuous maximum and $\\Delta T$ is the monitoring interval."
   ]
  },
  {
   "cell_type": "markdown",
   "metadata": {
    "slideshow": {
     "slide_type": "slide"
    }
   },
   "source": [
    "### The ATM case\n",
    "\n",
    "* An at-the-money lookback (or hindsight) option $\\hat L(S_0,T)$ pays the discrete maximum minus the initial stock price.\n",
    "\n",
    "\n",
    "* Equation [(2)](#eq:discretemax) becomes\n",
    "\n",
    "    $$\\begin{eqnarray}\n",
    "    \\hat L(S_0,T)&=&\\mathbb{E}[\\hat S_T-S_0]\\\\\n",
    "    &=&\\mathbb{E}[\\tilde S_T]\\,e^{-\\beta \\,\\sigma\\sqrt{\\Delta T}}-S_0\\\\\n",
    "    &=&\\tilde L(S_0\\,e^{-\\beta \\,\\sigma\\sqrt{\\Delta T}},T)-S_0\\,\\left(1-e^{-\\beta \\,\\sigma\\sqrt{\\Delta T}}\\right)\\end{eqnarray}$$\n",
    "\n",
    "    where $\\tilde L$ is the equivalent continuously monitored option.\n",
    "\n",
    "\n",
    "* Similar adjustments for other types of lookback option are also given in [Broadie, Glasserman and Kou]<sup id=\"cite_ref-BroadieGlassermanKou:1999\" class=\"reference\"><a href=\"#cite_note-BroadieGlassermanKou:1999\"><span>[</span>2<span>]</span></a></sup>)."
   ]
  },
  {
   "cell_type": "markdown",
   "metadata": {
    "slideshow": {
     "slide_type": "slide"
    }
   },
   "source": [
    "### Parisian Options\n",
    "\n",
    "* As described by [Nassim Taleb]<sup id=\"cite_ref-Taleb\" class=\"reference\"><a href=\"#cite_note-Taleb\"><span>[</span>6<span>]</span></a></sup>, continuously monitored barrier options can tempt either the option buyer or seller to influence the underlying stock price (“barrier wars”).\n",
    "\n",
    "    * Discretely monitored options suffer from similar problems.\n",
    "\n",
    "\n",
    "* One way to retain the benefits of barrier options whilst minimizing the risk of manipulation is to specify that in order for the option to knock-in (or out as the case may be), the underlying stock price must stay outside the barrier for a minimum period of time referred to as a *window*.\n",
    "\n",
    "\n",
    "* In this case, the option is called a *Parisian* option. \n",
    "\n",
    "    * As a further advantage, Parisian options have much less extreme greeks than their non-Parisian counterparts.\n",
    "\n",
    "\n",
    "\n",
    "* Parisian-style features are common in convertible bonds and whenever the size of a derivative is large relative to the liquidity of the underlying stock.\n",
    "\n",
    "\n",
    "* With the usual constant parameter assumptions, Parisian options can be valued in almost-closed form by applying some results on the excursion process of Brownian motion (see for example Chapter 12 of [Revuz and Yor]<sup id=\"cite_ref-RevuzYor\" class=\"reference\"><a href=\"#cite_note-RevuzYor\"><span>[</span>5<span>]</span></a></sup>).\n",
    "\n",
    "\n",
    "* The most natural valuation approach is however numerical PDE as described for example in [Tavella and Randall]<sup id=\"cite_ref-TavellaRandall\" class=\"reference\"><a href=\"#cite_note-TavellaRandall\"><span>[</span>7<span>]</span></a></sup>."
   ]
  },
  {
   "cell_type": "markdown",
   "metadata": {
    "slideshow": {
     "slide_type": "slide"
    }
   },
   "source": [
    "### Application: Ladders\n",
    "\n",
    "* Consider a strip of capped calls with strikes $B_i$ strictly increasing and greater than the initial stock price $S_0$.\n",
    "\n",
    "    * The cap of the option with strike $B_i$ is $B_{i+1}$ so a rebate of $B_{i+1}-B_i$ is paid when the barrier at $B_{i+1}$ is hit. \n",
    "\n",
    "\n",
    "* The buyer of a ladder option locks-in his gain each time a barrier is crossed.\n",
    "\n",
    "    * This gain is not lost if the stock price subsequently falls.\n",
    "\n",
    "\n",
    "* Not surprisingly, this structure is very popular with retail investors. \n",
    "\n",
    "\n",
    "* In the limit where the caps are very close to the strikes, a ladder approximates a lookback option (every time the stock price increases, the gain is locked in) and the value of the ladder would be approximately twice the value of a European option.\n",
    "\n",
    "\n",
    "* Typically though, barriers would be every 10% or so and the value of the ladder would be around 1.5 times the value of the corresponding European option."
   ]
  },
  {
   "cell_type": "markdown",
   "metadata": {
    "slideshow": {
     "slide_type": "slide"
    }
   },
   "source": [
    "### Application: Ranges\n",
    "\n",
    "* Another popular investment is one that pays a high coupon for each day that the stock price remains within a range but ceases paying a coupon as soon as one of the boundaries is hit.\n",
    "\n",
    "    * This is a just a one-touch double barrier construction.\n",
    "\n",
    "\n",
    "* This product is often also called a *Double-No-Touch*."
   ]
  },
  {
   "cell_type": "markdown",
   "metadata": {
    "slideshow": {
     "slide_type": "slide"
    }
   },
   "source": [
    "### Remarks on barrier option pricing\n",
    "\n",
    "* Barrier option values can be very sensitive to modeling assumptions and prices must be adjusted to take this into account.\n",
    "\n",
    "\n",
    "* By understanding limiting cases which are well understood, we can gain a good qualitative understanding of the appropriate valuation and hedge portfolio for any given barrier option. \n",
    "\n",
    "<br>\n",
    "* Market practitioners are often reluctant to quote on any barrier option given the potential valuation uncertainty and the hedging complexity. \n",
    "\n",
    "\n",
    "* What we have shown is that this reluctance is not always justified – sometimes a barrier option is much less risky and easier to price than its European equivalent."
   ]
  },
  {
   "cell_type": "markdown",
   "metadata": {
    "slideshow": {
     "slide_type": "slide"
    }
   },
   "source": [
    "### Cliquets\n",
    "\n",
    "* A cliquet is a sequence of cliquettes, forward-starting options whose terms are set on the reset dates. \n",
    "\n",
    "\n",
    "* The simplest and perhaps most common kind of cliquet is just a strip of forward-starting at-the-money European calls.\n",
    "\n",
    "<br>\n",
    "\n",
    "* We will now look at some examples of exotic cliquet contracts."
   ]
  },
  {
   "cell_type": "markdown",
   "metadata": {
    "slideshow": {
     "slide_type": "slide"
    }
   },
   "source": [
    "### Mediobanca equity-linked bonds\n",
    "\n",
    "* We will study three specific bonds issued by Mediobanca S.p.A.:\n",
    "\n",
    "    * A Locally Capped Globally Floored Cliquet\n",
    "\n",
    "    * A Reverse Cliquet.\n",
    "\n",
    "    * A Napoleon.\n",
    "\n",
    "\n",
    "* Mediobanca issued many different types of structured bond and the Mediobanca website ([http://www.mediobanca.it](http://www.mediobanca.it/en/index.html)) was a virtual treasure trove of well-written documents for the collector of exotic structures.\n",
    "\n",
    "\n",
    "* The three deals listed above have matured so we can also examine their *ex-post* performance."
   ]
  },
  {
   "cell_type": "markdown",
   "metadata": {
    "slideshow": {
     "slide_type": "slide"
    }
   },
   "source": [
    "### Locally Capped Globally Floored Cliquet\n",
    "\n",
    "* The “Mediobanca Bond Protection 2002-2005” (ISIN IT0003391353) has the Dow Jones EURO STOXX 50 index as underlying and offers guaranteed principal redemption plus an annual coupon payable on December 2nd of each year given by \n",
    "\n",
    "    $$\\max\\left[\\left\\{\\sum_{t=1}^{12}\\,\\min\\left(\\max\\left(r_t,-0.01 \\right),+0.01\\right)\\right\\},\\textit{MinCoupon}\\right]$$\n",
    "\n",
    "    where $\\textit{MinCoupon}=0.02$ and each monthly return $r_t$ is given by\n",
    "\n",
    "    $$r_t=\\frac{S_t-S_{t-1}}{S_{t-1}}-1.$$ \n",
    "\n",
    "    where $S_t$ is the level of the EURO STOXX 50 index on the $t$th monthly reset date. \n",
    "\n",
    "\n",
    "* The annual coupon is therefore capped at $12\\%$ and floored at $2\\%$, hence the name *locally capped, globally floored cliquet*."
   ]
  },
  {
   "cell_type": "markdown",
   "metadata": {
    "slideshow": {
     "slide_type": "slide"
    }
   },
   "source": [
    "### Key terms\n",
    "\n",
    "* According to the document, coupons are paid on December 2nd of each year.\n",
    "\n",
    "    * The valuation dates $t$ are the 2nd day of each month except that the final valuation date for each coupon is November 25th, one week before the coupon is paid.\n",
    "\n",
    "\n",
    "* If it weren’t for the guaranteed minimum annual coupon, this particular Mediobanca deal would reduce to a simple strip of 1-month at-the-money call spreads (or equivalently put spreads according to taste). \n",
    "\n",
    "    * The minimum annual coupon acts as the global floor and each monthly return is capped at the local cap of $1\\%$."
   ]
  },
  {
   "cell_type": "markdown",
   "metadata": {
    "slideshow": {
     "slide_type": "slide"
    }
   },
   "source": [
    "### Intuition\n",
    "\n",
    "* Our intuition tells us that despite the global floor, this structure should behave as a strip of call spreads:\n",
    "\n",
    "    * Adding a global floor is roughly equivalent to raising the lower strike of each spread. \n",
    "    \n",
    "\n",
    "* We would guess that the structure should be very sensitive to forward skew assumptions.\n",
    "\n",
    "\n",
    "* A local volatility assumption should substantially underprice the deal because it generates forward skews that are too flat (the more negative the skew, the greater the value of a call spread)."
   ]
  },
  {
   "cell_type": "markdown",
   "metadata": {
    "slideshow": {
     "slide_type": "slide"
    }
   },
   "source": [
    "### Numerical experiment\n",
    "\n",
    "* In order to get a sense for the dependency of the valuation of this cliquet on modeling assumptions, we may generate (for example) Monte Carlo paths under both Heston and local volatility assumptions with HN parameters.\n",
    "\n",
    "\n",
    "* Note that there is no suggestion that HN parameters would have generated option prices remotely close to those obtaining on the issue date of the bond (December 2, 2002).\n",
    "\n",
    "\n",
    "* All we are trying to do is to isolate the effect of modeling assumptions."
   ]
  },
  {
   "cell_type": "markdown",
   "metadata": {
    "slideshow": {
     "slide_type": "slide"
    }
   },
   "source": [
    "### Details of the experiment\n",
    "\n",
    "[Figure 9](#fig:lcgfCliquet) shows the value of this structure for different\n",
    "values of the minimum coupon ($\\textit{MinCoupon}$ in the formula) in\n",
    "the Heston model with HN parameters:\n",
    "\n",
    "$$v =  0.04;\\, \\bar v  =  0.04;\\, \\lambda = 10;\\, \\eta = 1;\\,\\rho = -1$$\n",
    "\n",
    "and under local volatility with the Heston local volatility\n",
    "approximation from Chapter : \n",
    "\n",
    "$$v_{loc}(x_T,T) =\\max\\left[\n",
    "(v-\\bar v') e^{ - \\lambda' T} +\\bar v' \\,-\\,\\eta \\, x_T\n",
    " \\,\\left\\{ \\frac{1-e^{-\\lambda' T}}{\\lambda' T } \\right\\},0\\right]$$\n",
    " \n",
    "with $ \\lambda ' = \\lambda  +{ \\eta}/{2}$, $\\bar v' = \\bar v\\,\n",
    "{\\lambda } / {\\lambda '}$.\n",
    "\n",
    "As usual, we assume zero interest rates and dividends.\n",
    "\n",
    "<h3><img src=\"http://mfe.baruch.cuny.edu/wp-content/uploads/2014/10/lcgfCliquet.png\" align = \"left\" width=600></h3> \n",
    "\n",
    "\n",
    "<a name=\"fig:lcgfCliquet\"></a> "
   ]
  },
  {
   "cell_type": "markdown",
   "metadata": {
    "slideshow": {
     "slide_type": "fragment"
    }
   },
   "source": [
    "Figure 9: Value of the “Mediobanca Bond Protection 2002-2005” locally capped and globally floored cliquet (minus guaranteed redemption) as a function of $\\textit{MinCoupon}$. The solid line is stochastic volatility; the dashed line is local volatility."
   ]
  },
  {
   "cell_type": "markdown",
   "metadata": {
    "slideshow": {
     "slide_type": "slide"
    }
   },
   "source": [
    "### Our intuition worked!\n",
    "\n",
    "* The actual structure has $\\textit{minCoupon}=2\\%$\n",
    "\n",
    "    * At that point on the plot, the expected coupon under Heston is $3.53\\%$ and the expected coupon under local volatility is only $2.55\\%$ which corresponds to an upfront valuation difference of $ 3 \\times 0.98 = 2.94\\%$ with our usual assumption of zero rates and dividends.\n",
    "\n",
    "    * Relative to the profit of the provider of the exotic option component, $3.0\\%$ is a big number: it may well be more than his entire profit! \n",
    "    \n",
    "\n",
    "* The maximum coupon payable is $12\\%$ per year so the local volatility and Heston expected coupons must agree when $\\textit{minCoupon}=12\\%$ and from [Figure 9](#fig:lcgfCliquet), we see that they do.\n",
    "\n",
    "\n",
    "* When $\\textit{minCoupon}=-1\\%$ on the other hand, the structure is just a strip of European call spreads and the sensitivity to forward volatility skew (and so to the difference between Heston and local volatility assumptions) is maximized."
   ]
  },
  {
   "cell_type": "markdown",
   "metadata": {
    "slideshow": {
     "slide_type": "slide"
    }
   },
   "source": [
    "### Historical performance\n",
    "\n",
    "\n",
    "<h3><img src=\"http://mfe.baruch.cuny.edu/wp-content/uploads/2014/10/cliquetExample2.png\" align = \"left\" width=900></h3> \n",
    "\n",
    "\n",
    "<a name=\"fig:LCGFcliquetPerformance\"></a> "
   ]
  },
  {
   "cell_type": "markdown",
   "metadata": {
    "slideshow": {
     "slide_type": "fragment"
    }
   },
   "source": [
    "Figure 10: Historical performance of the “Mediobanca Bond Protection 2002-2005” locally capped and globally floored cliquet. The dashed vertical lines represent reset dates, the solid lines coupon setting dates and the solid horizontal lines represent fixings."
   ]
  },
  {
   "cell_type": "markdown",
   "metadata": {
    "slideshow": {
     "slide_type": "slide"
    }
   },
   "source": [
    "### Historical performance\n",
    "\n",
    "<br><center><a name=\"table:lcgfreturns\"></a> Table 1 : Estimated \"Mediobanca Bond Protection 2002-2005\" coupons</center>\n",
    "\n",
    "Fixing Date$~~~~~~$|$~~~~~~$Est. Coupon|\n",
    ":------|------:|\n",
    "11/25/2003 | 3.91%\n",
    "11/25/2004 | 3.55%\n",
    "11/25/2005 | 4.14%\n",
    "\n",
    "\n",
    "* Performance reflects the effective diversification that comes from averaging over 12 more-or-less independent capped and floored returns.\n",
    "\n",
    "    * Estimated coupons are rather close to the risk-free rate.\n",
    "\n",
    "\n",
    "* In fact, the 3 year Euro annual swap rate on the issue date (2-Dec-2002) was $3.59\\%$.\n",
    "\n",
    "\n",
    "* It’s pretty hard for an investor to make or lose much money in a structure like this."
   ]
  },
  {
   "cell_type": "markdown",
   "metadata": {
    "slideshow": {
     "slide_type": "slide"
    }
   },
   "source": [
    "### Reverse Cliquet\n",
    "\n",
    "The “Mediobanca 2000-2005 Reverse Cliquet Telecommunicazioni” (ISIN\n",
    "IT0001458600) has a basket of telecommunication stocks as underlying and\n",
    "offers guaranteed principal redemption plus a final premium $P$ given by\n",
    "\n",
    "$$P=\\max\\left[0,MaxCoupon+\\sum_{i=1}^{10}{\\min\\left[0,r_i\\right]}\\right]$$\n",
    "\n",
    "where each semi-annual return $r_i$ is given by\n",
    "\n",
    "$$r_i=\\frac{basket_i-basket_{i-1}}{basket_i}$$ and $MaxCoupon=100\\%$.\n",
    "\n",
    "#### Key terms\n",
    "\n",
    "* Principal is guaranteed but the coupons depend on the performance of an underlying index.\n",
    "\n",
    "    * In this case, there is no real periodic coupon.\n",
    "\n",
    "    * Instead (and this is typical), a return is computed periodically and added to the final redemption amount.\n",
    "\n",
    "\n",
    "* The maximum redemption amount achievable is given by \n",
    "\n",
    "    $$\\textit{Principal} + \\textit{MaxCoupon} = 200\\%.$$ "
   ]
  },
  {
   "cell_type": "markdown",
   "metadata": {
    "slideshow": {
     "slide_type": "slide"
    }
   },
   "source": [
    "### Analysis of terms\n",
    "\n",
    "* Without the guaranteed redemption feature, this Mediobanca structure would reduce to a simple strip of 6-month at-the-money puts.\n",
    "\n",
    "    * The investor would be short the strip of puts.\n",
    "\n",
    "\n",
    "* The structure is termed a *reverse cliquet* because only negative returns contribute to the final payoff. \n",
    "\n",
    "    * We would guess that there would be very little skew dependence in the valuation.\n",
    "    \n",
    "\n",
    "* In fact, this is not typical and in general, each cliquette in a reverse cliquet has a local cap and local floor.\n",
    "\n",
    "    * The guaranteed redemption amount acts as a *global floor*."
   ]
  },
  {
   "cell_type": "markdown",
   "metadata": {
    "slideshow": {
     "slide_type": "slide"
    }
   },
   "source": [
    "### Numerical experiment\n",
    "\n",
    "* [Figure 11](#fig:reverseCliquet) shows the value of this structure for different values of the maximum payoff (Coupon in the formula) under Heston and local volatility assumptions with Heston-Nandi parameters exactly as before. \n",
    "\n",
    "\n",
    "* Our intuition is again confirmed.\n",
    "\n",
    "    * There is not a huge difference between a stochastic volatility and a local volatility valuation of the deal.\n",
    "\n",
    "\n",
    "* With $\\textit{MaxCoupon}=100\\%$ as per the deal terms, the expected redemption amount is $43.9\\%$ in the Heston case and $42.0\\%$ in the local volatility case.\n",
    "\n",
    "<h3><img src=\"http://mfe.baruch.cuny.edu/wp-content/uploads/2014/10/reverseCliquet.png\" align = \"left\" width=600></h3> \n",
    "\n",
    "\n",
    "<a name=\"fig:reverseCliquet\"></a> "
   ]
  },
  {
   "cell_type": "markdown",
   "metadata": {
    "slideshow": {
     "slide_type": "fragment"
    }
   },
   "source": [
    "Figure 11: Value of the Mediobanca reverse cliquet (minus guaranteed redemption) as a function of $MaxCoupon$. The solid line is stochastic volatility; the dashed line is local volatility."
   ]
  },
  {
   "cell_type": "markdown",
   "metadata": {
    "slideshow": {
     "slide_type": "fragment"
    }
   },
   "source": [
    "#### Qualitative remarks\n",
    "\n",
    "* On closer examination, we note that the valuation of the deal is consistently higher under stochastic volatility than under local volatility. \n",
    "\n",
    "    * Although the investor is short at-the-money puts, he is also long the global floor which acts like a strip of out-of-the-money puts.\n",
    "    \n",
    "    * This global floor is worth more under stochastic volatility than under local volatility reflecting the flatter forward volatility skews in a local volatility world."
   ]
  },
  {
   "cell_type": "markdown",
   "metadata": {
    "slideshow": {
     "slide_type": "slide"
    }
   },
   "source": [
    "### Historical performance\n",
    "\n",
    "<h3><img src=\"http://mfe.baruch.cuny.edu/wp-content/uploads/2014/10/cliquetExample3.png\" align = \"left\" width=800></h3> \n",
    "\n",
    "\n",
    "<a name=\"fig:reversecliquetPerformance\"></a> "
   ]
  },
  {
   "cell_type": "markdown",
   "metadata": {
    "slideshow": {
     "slide_type": "fragment"
    }
   },
   "source": [
    "Figure 12: Historical performance of the “Mediobanca 2000-2005 Reverse Cliquet Telecommunicazioni” bond. The vertical lines represent reset dates, the solid horizontal lines represent fixings and the vertical grey bars represent negative contributions to the cliquet payoff."
   ]
  },
  {
   "cell_type": "markdown",
   "metadata": {
    "slideshow": {
     "slide_type": "slide"
    }
   },
   "source": [
    "### Analysis of performance\n",
    "\n",
    "* The extra data included in [Figure 12](#fig:reversecliquetPerformance) prior to issuance of the deal in 2000 is to provide historical context. \n",
    "\n",
    "\n",
    "* As of the issue date, global telecommunications stocks had dropped substantially from their peak reached earlier in the year.\n",
    "\n",
    "    * With hindsight, investors should have followed the trader adage: \"don’t try to catch a falling knife\".\n",
    "\n",
    "\n",
    "* Although at maturity the deal paid no more than the guaranteed principal, this is very substantially more than the investor would have got if he had held on to the underlying basket of telecommunications stocks.\n",
    "\n",
    "\n",
    "* Moreover, the deal did have substantial upside unlike the capped floor cliquet that we examined earlier.\n",
    "\n",
    "\n",
    "* Again, for reference the Euro 5-year annual swap rate was $5.73\\%$ on the issue date of May 18, 2000."
   ]
  },
  {
   "cell_type": "markdown",
   "metadata": {
    "slideshow": {
     "slide_type": "slide"
    }
   },
   "source": [
    "### Napoleon\n",
    "\n",
    "The payoff of the “Mediobanca 2002-2005 World Indices Euro Note Serie\n",
    "46” (ISIN IT0003487524) again has guaranteed principal and pays an\n",
    "annual coupon given by\n",
    "\n",
    "$$coupon_i=\\max\\left[0,MaxCoupon+{\\tilde r}_i\\right]$$ \n",
    "\n",
    "where $\\tilde r_i$ is the average of the worst (most negative) monthly returns\n",
    "of three global stock indices – SPX, EURO STOXX 50, and NIKKEI 225 and\n",
    "$MaxCoupon=10\\%$. Specifically,\n",
    "\n",
    "$${\\tilde r}_i:=\\inf_{t_{i-1}< t_j < t_i}{r_j}.$$\n",
    "\n",
    "#### Intuition\n",
    "\n",
    "* Each cliquette has extreme dependence on the skew at the time the strike is set so the whole structure is extremely dependent on forward skew. \n",
    "\n",
    "    * The more negative the volatility skew, the greater the value of downside puts reflecting in turn the greater expected magnitude of downside moves and the lower the value of the structure.\n",
    "    \n",
    "\n",
    "* Our previous intuition would therefore lead us to predict that the Napoleon should be worth substantially less under stochastic volatility (with more negative returns on average) than under local volatility."
   ]
  },
  {
   "cell_type": "markdown",
   "metadata": {
    "slideshow": {
     "slide_type": "slide"
    }
   },
   "source": [
    "### Numerical experiment\n",
    "\n",
    "\n",
    "<h3><img src=\"http://mfe.baruch.cuny.edu/wp-content/uploads/2014/10/napoleon.png\" align = \"left\" width=600></h3> \n",
    "\n",
    "\n",
    "<a name=\"fig:napoleon\"></a> "
   ]
  },
  {
   "cell_type": "markdown",
   "metadata": {
    "slideshow": {
     "slide_type": "fragment"
    }
   },
   "source": [
    "Figure 13: Value of (risk-neutral) expected Napoleon coupon as a function of $MaxCoupon$. The solid line is stochastic volatility; the dashed line is\n",
    "local volatility."
   ]
  },
  {
   "cell_type": "markdown",
   "metadata": {
    "slideshow": {
     "slide_type": "slide"
    }
   },
   "source": [
    "### *Post hoc* intuition\n",
    "\n",
    "* The Napoleon expected coupon is high at low volatility and low at high volatility with a lot of volatility convexity.\n",
    "\n",
    "    * Volatility convexity is underpriced in the local volatility model relative to stochastic volatility and in this case, the underpricing of volatility convexity may be the dominant effect. \n",
    "    \n",
    "\n",
    "* The Napoleon structure also has the feature that as the underlying falls, the expected coupon decreases and vega decreases.\n",
    "\n",
    "    * If the current return is negative enough for the coupon floor to be hit, future volatility can have no further effect.\n",
    "\n",
    "    * Maybe this cross-effect is more highly priced in the stochastic volatility model than in the local volatility model?"
   ]
  },
  {
   "cell_type": "markdown",
   "metadata": {
    "slideshow": {
     "slide_type": "slide"
    }
   },
   "source": [
    "### The moral of the story\n",
    "\n",
    "* The moral of the story is clear: intuition is well and good when the structure is familiar and well understood. \n",
    "\n",
    "\n",
    "* But if a structure is either unfamiliar or not well understood, one should always look at the sensitivity of pricing to modeling assumptions as we have just done here. \n",
    "\n",
    "    * In fact, one should do this regardless.\n",
    "\n",
    "\n",
    "* It’s not enough to just compute sensitivity to model parameters within a given modeling framework: modeling assumptions themselves must be stressed."
   ]
  },
  {
   "cell_type": "markdown",
   "metadata": {
    "slideshow": {
     "slide_type": "slide"
    }
   },
   "source": [
    "### How this Napoleon actually payed off\n",
    "\n",
    "<h3><img src=\"http://mfe.baruch.cuny.edu/wp-content/uploads/2014/10/cliquetExample4.png\" align = \"left\" width=900></h3> \n",
    "\n",
    "\n",
    "<a name=\"fig:NapoleonPerformance\"></a> "
   ]
  },
  {
   "cell_type": "markdown",
   "metadata": {
    "slideshow": {
     "slide_type": "fragment"
    }
   },
   "source": [
    "Figure 14: Historical performance of the STOXX 50 component of the “Mediobanca 2002-2005 World Indices Euro Note Serie 46” Napoleon. The light vertical lines represent reset dates, the heavy vertical lines coupon setting dates, the solid horizontal lines represent fixings and the thick grey bars represent the minimum monthly return of each coupon period."
   ]
  },
  {
   "cell_type": "markdown",
   "metadata": {
    "slideshow": {
     "slide_type": "slide"
    }
   },
   "source": [
    "### Worst monthly returns and estimated Napoleon coupons\n",
    "\n",
    "**Date**$~~~~~~$|$~~~~~~\\mathbf{\\tilde r_{STOXX50}}$|$~~~~~~\\mathbf{\\tilde r_{SPX}}$|$~~~~~~\\mathbf{\\tilde r_{NIKKEI225}}$|$~~~~~~$**Est. Coupon**\n",
    ":------|------:|--------:|------:|------:\n",
    "12/20/2003 | $ -7.61 \\%$ | $   -5.69   \\%$ | $   -11.61  \\%$ | $   1.70    \\%$\n",
    "12/20/2004 | $ -6.62 \\%$ | $   -4.26   \\%$ | $   -9.12   \\%$ | $   3.33    \\%$\n",
    "12/20/2005 | $ -3.09 \\%$ | $   -3.91   \\%$ | $   -6.36   \\%$ | $   5.55    \\%$\n",
    "\n",
    "\n",
    "* The estimated bond coupons are actually rather close to the 3 year Euro annual swap rate of $3.26\\%$ as of the issue date (12/20/2002).\n",
    "\n",
    "\n",
    "* Although the Napoleon structure appears to offer the investor the possibility of a very high coupon, the investor would have to be very lucky not to have one large negative monthly return out of twelve during a given coupon period.\n",
    "\n",
    "\n",
    "* On the other hand, principal is guaranteed.\n",
    "\n",
    "    * All of these complex cliquet structures are basically conservative for the investor."
   ]
  },
  {
   "cell_type": "markdown",
   "metadata": {
    "slideshow": {
     "slide_type": "slide"
    }
   },
   "source": [
    "### Investor motivation\n",
    "\n",
    "* Why would an investor buy an exotic cliquet structure?\n",
    "\n",
    "\n",
    "* Cliquet deals were targeted at European retail investors who were accustomed to investing in high-yielding government bonds.\n",
    "\n",
    "\n",
    "* With the advent of the Euro and the global decline in yields, government bonds are no longer high yielding.\n",
    "\n",
    "\n",
    "* These essentially conservative principal-guaranteed deals offer investors the same security as a bond with the possibility of a high coupon.\n",
    "\n",
    "    * Although they are complex from the valuation and hedging perspective, they are not so hard to explain to a retail investor."
   ]
  },
  {
   "cell_type": "markdown",
   "metadata": {
    "slideshow": {
     "slide_type": "slide"
    }
   },
   "source": [
    "### Difficulty of hedging cliquets\n",
    "\n",
    "* Although cliquet bonds are in general conservative deals for investors, they can be very hard to manage for the ultimate hedgers of the exotic option component. \n",
    "\n",
    "\n",
    "* In the cases of locally capped globally floored and reverse cliquets, at least the hedger can roughly visualize what the structure is in terms of strips of forward-starting options. \n",
    "\n",
    "    * On the other hand, there doesn’t seem to be any such neat (even approximate) decomposition of a Napoleon into conventional options."
   ]
  },
  {
   "cell_type": "markdown",
   "metadata": {
    "slideshow": {
     "slide_type": "slide"
    }
   },
   "source": [
    "### What happened to Napoleon dealers\n",
    "\n",
    "* Exotic option traders were smart enough to realize that local volatility models were inappropriate because, as we keep noting, forward skews are too flat. \n",
    "\n",
    "\n",
    "* However, the most common valuation technique wasn’t stochastic volatility; it was the so-called independent increment technique.\n",
    "\n",
    "    * Returns must be certainly be uncorrelated, but this technique effectively assumes that returns are independent of each other – even squared returns!\n",
    "\n",
    "    * Forward skews are roughly correct because 1 month returns are drawn (in Monte Carlo for example) from the 1 month risk-neutral distribution.\n",
    "\n",
    "    * However, forward volatility levels are deterministic and volatility convexity is underpriced.\n",
    "\n",
    "\n",
    "* It follows that the independent increment technique substantially underprices the Napoleon\n",
    "\n",
    "    * Since the lowest price wins, precisely those dealers that were using the wrong model got the business."
   ]
  },
  {
   "cell_type": "markdown",
   "metadata": {
    "slideshow": {
     "slide_type": "slide"
    }
   },
   "source": [
    "### The moral of the story again\n",
    "\n",
    "<font color=\"red\"> The importance of trying out different modeling assumptions cannot be overemphasized. Intuition is always fallible!"
   ]
  },
  {
   "cell_type": "markdown",
   "metadata": {
    "slideshow": {
     "slide_type": "slide"
    }
   },
   "source": [
    "### References\n",
    "\n",
    "<br />\n",
    "\n",
    "<div class=\"reflist\" style=\"list-style-type: decimal;\">\n",
    "\n",
    "<ol>\n",
    "\n",
    "  <li id=\"cite_note-AvellanedaLevyParas:1995\"><span class=\"mw-cite-backlink\"><b><a href=\"#cite_ref-AvellanedaLevyParas:1995\">^</a></b></span> Marco Avellaneda, A. Lévy and Antonio Parás, Pricing and hedging derivative securities in markets with uncertain volatilities, <span>*Applied Mathematical Finance*</span> <span>**2**</span> 73–88 (1995).</li>\n",
    "\n",
    "  <li id=\"cite_note-BroadieGlassermanKou:1999\"><span class=\"mw-cite-backlink\"><b><a href=\"#cite_ref-BroadieGlassermanKou:1999\">^</a></b></span> Mark Broadie, Paul Glasserman, and Steven G. Kou, On pricing of discrete barrier options, <span>*Finance and Stochastics*</span> <span>**3**</span> 55–82 (1999).</li>\n",
    "\n",
    "  <li id=\"cite_note-Gatheral\"><span class=\"mw-cite-backlink\"><b><a href=\"#cite_ref-Gatheral\">^</a></b></span>   Jim Gatheral,  <span>*The Volatility Surface: A Practitioner's Guide*</span>, John Wiley and Sons, Hoboken, NJ (2006).</li>\n",
    "\n",
    "  <li id=\"cite_note-GoldmanSosinGatto:1979\"><span class=\"mw-cite-backlink\"><b><a href=\"#cite_ref-GoldmanSosinGatto:1979\">^</a></b></span> Barry Goldman, Howard Sosin, and Mary-Ann Gatto, Path dependent options: ‘buy at the low, sell at the high’, <span>*The Journal of Finance*</span> <span>**34**</span> 1111–1127 (1979).</li>\n",
    "\n",
    "  <li id=\"cite_note-RevuzYor\"><span class=\"mw-cite-backlink\"><b><a href=\"#cite_ref-RevuzYor\">^</a></b></span>   Daniel Revuz and Marc Yor, <span>*Continuous Martingales and Brownian Motion*</span>, Springer-Verlag: Berlin, Heidelberg, New York (1999).</li>\n",
    "\n",
    "  <li id=\"cite_note-Taleb\"><span class=\"mw-cite-backlink\"><b><a href=\"#cite_ref-Taleb\">^</a></b></span>   Nassim Taleb, <span>*Dynamic Hedging: Managing Vanilla and Exotic Options*</span>, John Wiley & Sons, Inc.: New York (1996).</li> \n",
    "\n",
    "  <li id=\"cite_note-TavellaRandall\"><span class=\"mw-cite-backlink\"><b><a href=\"#cite_ref-TavellaRandall\">^</a></b></span>  Domingo Tavella, and Curt Randall, 2000, <span>*Pricing Financial Instruments: The Finite Difference Method*</span>, John Wiley & Sons, Inc.: New York (2000).</li> \n",
    "\n",
    "</ol>"
   ]
  }
 ],
 "metadata": {
  "celltoolbar": "Slideshow",
  "kernelspec": {
   "display_name": "R",
   "language": "R",
   "name": "ir"
  },
  "language_info": {
   "codemirror_mode": "r",
   "file_extension": ".r",
   "mimetype": "text/x-r-source",
   "name": "R",
   "pygments_lexer": "r",
   "version": "3.2.3"
  }
 },
 "nbformat": 4,
 "nbformat_minor": 0
}
