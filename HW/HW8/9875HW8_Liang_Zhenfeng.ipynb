{
 "cells": [
  {
   "cell_type": "markdown",
   "metadata": {},
   "source": [
    "# Liang Zhenfeng"
   ]
  },
  {
   "cell_type": "markdown",
   "metadata": {},
   "source": [
    "# MTH9875 Homework 8\n",
    "\n",
    "Assigned: October 22, 2015.\n",
    "Due: November 5, 2015 by 6pm.\n",
    "\n",
    "Late homework **will not be accepted**."
   ]
  },
  {
   "cell_type": "markdown",
   "metadata": {},
   "source": [
    "<font color = \"red\">Homework is to be done by each student individually.  To receive full credit, you must email a completed copy of this iPython notebook to Tai-Ho Wang and Jim Gatheral by the due date and time.  All R-code must run correctly and solutions must be written up neatly in Markdown/LaTeX format."
   ]
  },
  {
   "cell_type": "markdown",
   "metadata": {},
   "source": [
    "### 0. (0 points) \n",
    "\n",
    "Read Chapters 7 and 8 of The Volatility Surface."
   ]
  },
  {
   "cell_type": "markdown",
   "metadata": {},
   "source": [
    "## Internal politics"
   ]
  },
  {
   "cell_type": "markdown",
   "metadata": {},
   "source": [
    "### 1. (10 points) \n",
    "\n",
    "Pretend that you are a quantitative analyst at an investment bank\n",
    "(Banque Prix Bas) and your boss passes you the following email\n",
    "asking you to draft a (careful) reply quickly:\n",
    "\n",
    ">From: The Head of Marketing\n",
    "\n",
    ">To: Your Boss and the Head of Trading\n",
    "\n",
    ">Subject: **We are Uncompetitive in Digital Cliquets**\n",
    "\n",
    ">Over the last two weeks, we have lost no fewer than four digital\n",
    "cliquet deals by substantial margins.  Our pricing of these\n",
    "transactions is so uncompetitive that we end up embarrassing ourselves\n",
    "in front of clients.  We are in serious danger of losing\n",
    "clients.\n",
    "\n",
    ">I have spoken with contacts at two of our most sophisticated\n",
    "competitors (Banca Sbagliata and Deutsche FehlerBank). They insist\n",
    "that they are pricing digital cliquets perfectly consistently with\n",
    "the volatility skew using the latest financial modeling techniques.\n",
    "Our illustrious traders tell me that these banks are incorrectly\n",
    "projecting the volatility skew. Why is it always the competition\n",
    "that is getting it wrong? Could it be that we are being stupid?\n",
    "\n",
    ">I will need to see some pretty convincing arguments very soon or I shall\n",
    "be forced to take this issue to the next level.\n",
    "\n",
    ">Regards,\n",
    "\n",
    ">Very Unhappy Head of Marketing\n",
    "\n",
    "\n",
    "When drafting your reply, remember that the Head of Marketing is not\n",
    "a mathematician -- so no math!  Also, if it really is the case that\n",
    "your bank is losing deals by a huge margin, consider how you might\n",
    "be able to make money out of the situation."
   ]
  },
  {
   "cell_type": "markdown",
   "metadata": {},
   "source": [
    "### Reply\n",
    "\n",
    "Dear Sir,\n",
    "\n",
    "Thank you for your email.\n",
    "\n",
    "\n",
    "First of all, pricing of this kind of thing is tricky stuff. People out there might use different models to price. People usually get it wrong. It's not unnormal all our competitor are wrong. If we are the only one who gets this right, we will lose some clients in the short term definitely. \n",
    "\n",
    "If our price is uncompetitive(higher than the market), we can then just go to the market to long our competitors deals. If it turns out we are right, we would be able to arbitrage here, reverse we will lose and win nothing. This is how the results would be if we stick to our claims. Either arbitrage to make some money or lose nothing but a couple of deals.\n",
    "\n",
    "\n",
    "If we follow our competitor(market) price and they turns out to be right, of course we lose nothing but also win nothing, because everyone out there is doing the same thing, no more extra profit but we may or may not lose the deals. Since we are following the market price, its hard to say about the deals, the clients might choose different  firms to get the deals because we have the same price anyway. HOWEVER, what if we are originally right in this case. The difference between market price and our price might be a certain percent of the deal's price, let's say 10%, when the market goes right, we will lose 10% of our capital invested in this kind of deals. So if we change to be the market price, the result would either win/lose nothing or lose 10% of our capital.\n",
    "\n",
    "\n",
    "Sir, it's your call now. Please feel free to take it to the next level. We are glad and open to have deeper discussion with other people. \n",
    "\n",
    "\n",
    "Best regards,\n",
    "\n",
    "Zhenfeng"
   ]
  },
  {
   "cell_type": "markdown",
   "metadata": {},
   "source": [
    "## The Bergomi-Guyon expansion"
   ]
  },
  {
   "cell_type": "markdown",
   "metadata": {},
   "source": [
    "### 2. (10 points) \n",
    "$$\n",
    "\\newcommand{\\bea}{\\begin{eqnarray}}\n",
    "\\newcommand{\\eea}{\\end{eqnarray}}\n",
    "\\newcommand{\\beas}{\\begin{eqnarray*}}\n",
    "\\newcommand{\\eeas}{\\end{eqnarray*}}\n",
    "\\newcommand{\\supp}{\\mathrm{supp}}\n",
    "\\newcommand{\\E}{\\mathbb{E} }\n",
    "\\def\\Cov{{ \\mbox{Cov} }}\n",
    "\\def\\Var{{ \\mbox{Var} }}\n",
    "\\newcommand{\\1}{\\mathbf{1} }\n",
    "\\newcommand{\\cF}{\\mathcal{F} }\n",
    "\\newcommand{\\PP}{\\mathbb{P} }\n",
    "\\newcommand{\\QQ}{\\mathbb{Q} }\n",
    "\\newcommand{\\RR}{\\mathbb{R} }\n",
    "\\newcommand{\\DD}{\\mathbb{D} }\n",
    "\\newcommand{\\HH}{\\mathbb{H} }\n",
    "\\newcommand{\\spn}{\\mathrm{span} }\n",
    "\\newcommand{\\cov}{\\mathrm{cov} }\n",
    "\\newcommand{\\HS}{\\mathcal{L}_{\\mathrm{HS}} }\n",
    "\\newcommand{\\trace}{\\mathrm{trace} }\n",
    "\\newcommand{\\LL}{\\mathcal{L} }\n",
    "\\newcommand{\\s}{\\mathcal{S} }\n",
    "\\newcommand{\\ee}{\\mathcal{E} }\n",
    "\\newcommand{\\ff}{\\mathcal{F} }\n",
    "\\newcommand{\\hh}{\\mathcal{H} }\n",
    "\\newcommand{\\bb}{\\mathcal{B} }\n",
    "\\newcommand{\\dd}{\\mathcal{D} }\n",
    "\\newcommand{\\g}{\\mathcal{G} }\n",
    "\\newcommand{\\half}{\\frac{1}{2} }\n",
    "\\newcommand{\\T}{\\mathcal{T} }\n",
    "\\newcommand{\\bi}{\\begin{itemize}}\n",
    "\\newcommand{\\ei}{\\end{itemize}}\n",
    "\\newcommand{\\beq}{\\begin{equation}}\n",
    "\\newcommand{\\eeq}{\\end{equation}}\n",
    "\\newcommand{\\eef}[1]{\\mathbb{E}\\left[\\left.{#1}\\right|\\cF_t\\right]}\n",
    "$$\n",
    "\n",
    "Consider the following stochastic volatility dynamics (known variously as Hull-White, GARCH or lognormal):\n",
    "\n",
    "$$\n",
    "\\begin{eqnarray*}\n",
    "\\frac{dS_t}{S_t} &=& \\sqrt{v_t}\\,dZ_t\\\\\n",
    "dv_t &=&  - \\kappa \\,(v_t - \\bar v)\\,dt + \\alpha \\,v_t \\,dW_t\n",
    "\\end{eqnarray*}\n",
    "$$\n",
    "\n",
    "with $\n",
    "\\left\\langle {dZ_t \\,{dW_t} } \\right\\rangle = \\rho \\, dt\n",
    "$ and where $\\kappa$ is the speed of reversion of $v_t$ to its long term\n",
    "mean $\\bar v$.\n",
    "\n",
    "(a)\n",
    "Compute the forward variance curve $\\xi_t(u)$ for $ u \\geq t$.  Deduce that $d\\xi_t(u) = dv_t\\,e^{-\\kappa\\,(u-t)}$.\n",
    "\n",
    "\n",
    "(b)\n",
    "Assuming $v_t = \\bar v$ for simplicity, compute the spot-vol autocorrelation functional $C^{x\\ \\xi}$. (Hint: Use that $\\E \\left[v_t^{3/2}\\right]=\\xi_0(t)^{3/2}+O(\\eta^2)$.)\n",
    "\n",
    "(c) \n",
    "Using the Bergomi-Guyon expansion (12) from Lecture 8, assuming $v_t = \\bar v$, deduce the term structure function $\\psi_L(T)$ of ATM volatility skew under the above lognormal dynamics to order $\\alpha^2$.\n",
    "\n",
    "(d) \n",
    "Recall that the Heston term structure of ATM skew is given (again with $v_t = \\bar v$) by\n",
    "\n",
    "$$\n",
    "\\psi_H(T) =\n",
    "\\frac {\\rho\\,\\eta}{2\\,\\sqrt{\\bar v}}\\,\\frac{1}{\\kappa\\,T}\\,\\left\\{1-\\frac{1-e^{-\\kappa\\,T}}{\\kappa\\,T}\\right\\}.\n",
    "$$\n",
    "\n",
    "Given a time series of volatility smiles, how would you distinguish between Heston and lognormal dynamics empirically?"
   ]
  },
  {
   "cell_type": "markdown",
   "metadata": {},
   "source": [
    "## Solution"
   ]
  },
  {
   "cell_type": "markdown",
   "metadata": {},
   "source": [
    "### (a)"
   ]
  },
  {
   "cell_type": "markdown",
   "metadata": {},
   "source": [
    "This is an Ornstein-Uhlenbeck process, we let, $f = e^{\\kappa t}v_t$\n",
    "\n",
    "Applying Ito lemma, we have,\n",
    "\n",
    "\\begin{eqnarray}\n",
    "df &=& \\kappa\\,f\\,dt + e^{\\kappa t}\\,dv_t \\\\\n",
    "&=& \\kappa\\,e^{\\kappa\\,t}\\,v_t + e^{\\kappa t}(-\\kappa(v_t - \\bar v)dt + \\alpha\\,v_t\\,dW_t) \\\\\n",
    "&=& \\kappa\\,e^{\\kappa t} \\bar v dt + \\alpha e^{\\kappa t}\\,v_t\\,dW_t\n",
    "\\end{eqnarray}\n",
    "\n",
    "Integrate from $t$ to $u$, we have\n",
    "\n",
    "\\begin{eqnarray}\n",
    "e^{\\kappa u}v_u - e^{\\kappa t}v_t = \\kappa\\,\\bar v\\,(e^{\\kappa\\,u} - e^{\\kappa\\,t}) + BMTerm\n",
    "\\end{eqnarray}\n",
    "\n",
    "Therefore, \n",
    "$$v_u = e^{\\kappa\\,(t-u)}v_t +  \\kappa\\,\\bar v\\,(1 - e^{\\kappa\\,(t-u)}) + BMTerm$$ \n",
    "\n",
    "\n",
    "By definition, we have, $\\xi_t(u) = \\E[v_u\\,|\\,\\mathscr{F}_t]$\n",
    "\n",
    "By taking expectation, we will have,\n",
    "\n",
    "$$\n",
    "\\xi_t(u) = \\E[v_u\\,|\\,\\mathscr{F}_t] = e^{\\kappa\\,(t-u)}v_t +  \\kappa\\,\\bar v\\,(1 - e^{\\kappa\\,(t-u)})\n",
    "$$\n",
    "\n",
    "\n",
    "Take derivative w.r.t $v_t$, we have,\n",
    "$$\n",
    "d\\xi_t(u) = e^{-\\kappa\\,(u-t)}\\,dv_t \n",
    "$$"
   ]
  },
  {
   "cell_type": "markdown",
   "metadata": {
    "collapsed": true
   },
   "source": [
    "### (b)"
   ]
  },
  {
   "cell_type": "markdown",
   "metadata": {},
   "source": [
    "To get the log strike, apply Ito lemma to $logS_t$, we have,\n",
    "\n",
    "$$dx_t = -\\frac12\\,v_t\\,dt + \\sqrt{v_t}\\,dZ_t$$\n",
    "\n",
    "Assuming $v_t = \\bar v$, we have,\n",
    "\n",
    "$$\n",
    "\\E[dx_t\\,d\\xi_t] = \\rho\\,\\alpha\\,\\bar v^{\\frac32}\\,e^{-\\kappa(u-t)}\n",
    "$$\n",
    "\n",
    "We have,\n",
    "\\begin{eqnarray}\n",
    "C^{x\\,\\xi} &=& \\int_0^T\\,dt\\,\\int_t^T\\,du\\,\\frac{\\E \\left[dx_t\\,d\\xi_t(u)\\right]}{dt} \\\\\n",
    "&=& \\rho\\,\\alpha\\,\\bar v^{\\frac32}\\,\\int_0^T\\,dt\\,\\int_t^T\\,e^{-\\kappa(u-t)}\\,du \\\\\n",
    "&=& \\frac{\\rho\\,\\alpha\\,\\bar v^{\\frac32}}{\\kappa}\\,(T - \\frac{1-e^{-\\kappa\\,T}}{\\kappa})\n",
    "\\end{eqnarray}\n",
    "\n",
    "Note: $\\E \\left[v_t^{3/2}\\right]=\\xi_0(t)^{3/2}+O(\\alpha^2)$\n",
    "\n",
    "Therefore, $\\E[dx_t\\,d\\xi_t]$ is to the order $\\alpha^2$, so as $C^{x\\,\\xi}$"
   ]
  },
  {
   "cell_type": "markdown",
   "metadata": {},
   "source": [
    "### (c)"
   ]
  },
  {
   "cell_type": "markdown",
   "metadata": {},
   "source": [
    "Recall, the Bergomi-Guyon expansion of implied volatility takes the form\n",
    "\n",
    "<a name=\"eq:BGexpansion\"></a>(12)\n",
    "$$\n",
    "\\sigma_\\text{BS}(k,t)=\\hat\\sigma_T + \\mathcal{S}_T\\,k + \\mathcal{C}_T\\,k^2 +O(\\epsilon^3)\n",
    "$$ \n",
    "\n",
    "where,\n",
    "$$\n",
    "\\mathcal{S}_T =  \\sqrt{\\frac w T} \\,\\left\\{\\frac{1}{2\\,w^2}\\,C^{x\\,\\xi} + \\frac{1}{8\\,w^3}\\,\n",
    "\\left(4\\,w\\,C^\\mu - 3 (C^{x \\xi})^2\\right)\\right\\}\n",
    "$$\n",
    "\n",
    "We have,\n",
    "\n",
    "$$\n",
    "\\psi(T) = \\left.\\partial_k  \\sigma_{BS}(k,T)\\right|_{k=0} = \\mathcal{S}_T\n",
    "$$\n",
    "\n",
    "We know $C^{x\\,\\xi}$ is to the second order of $\\alpha$. We need to approximate to the second order of $\\alpha$\n",
    "\n",
    "Therefore, we have,\n",
    "\n",
    "$$\n",
    "\\psi(T) = \\mathcal{S}_T \\approx \\sqrt{\\frac w T} \\,\\left\\{\\frac{1}{2\\,w^2}\\,C^{x\\,\\xi}\\,\\right\\}\n",
    "$$\n",
    "\n",
    "where, $$C^{x\\,\\xi}=\\frac{\\rho\\,\\alpha\\,\\bar v^{\\frac32}}{\\kappa}\\,(T - \\frac{1-e^{-\\kappa\\,T}}{\\kappa})$$\n",
    "\n",
    "Plug into the above formula, we have,\n",
    "\n",
    "$$\n",
    "\\psi(T) =\n",
    "\\frac {\\rho\\,\\eta}{2}\\,\\frac{1}{\\kappa\\,T}\\,\\left\\{1-\\frac{1-e^{-\\kappa\\,T}}{\\kappa\\,T}\\right\\}.\n",
    "$$"
   ]
  },
  {
   "cell_type": "markdown",
   "metadata": {},
   "source": [
    "### (d)"
   ]
  },
  {
   "cell_type": "markdown",
   "metadata": {},
   "source": [
    "Heston skew is following,\n",
    "\n",
    "$$\n",
    "\\psi_H(T) =\n",
    "\\frac {\\rho\\,\\eta}{2\\,\\sqrt{\\bar v}}\\,\\frac{1}{\\kappa\\,T}\\,\\left\\{1-\\frac{1-e^{-\\kappa\\,T}}{\\kappa\\,T}\\right\\}.\n",
    "$$\n",
    "\n",
    "### Comments:\n",
    "Compared the two vol skew, the only difference is Heston skew is a function of $\\bar v$ while the lognormal dynamic is independent of $\\bar v$. Given the time series of the vol smiles, we should extract the ATM skew first. Then try to regress the ATM skew with the variance level. If the they are not really correlated, we can say it is a Lognormal dynamics. Otherwise, if decreaasing as the variance level goes up, it should be Heston."
   ]
  },
  {
   "cell_type": "code",
   "execution_count": null,
   "metadata": {
    "collapsed": true
   },
   "outputs": [],
   "source": []
  }
 ],
 "metadata": {
  "kernelspec": {
   "display_name": "R",
   "language": "R",
   "name": "ir"
  },
  "language_info": {
   "codemirror_mode": "r",
   "file_extension": ".r",
   "mimetype": "text/x-r-source",
   "name": "R",
   "pygments_lexer": "r",
   "version": "3.2.2"
  }
 },
 "nbformat": 4,
 "nbformat_minor": 0
}
