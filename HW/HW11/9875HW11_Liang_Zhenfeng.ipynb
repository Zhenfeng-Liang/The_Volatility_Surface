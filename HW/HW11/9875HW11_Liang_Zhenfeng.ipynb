{
 "cells": [
  {
   "cell_type": "markdown",
   "metadata": {},
   "source": [
    "# Zhenfeng Liang"
   ]
  },
  {
   "cell_type": "markdown",
   "metadata": {},
   "source": [
    "# MTH9875 Homework 11\n",
    "\n",
    "Assigned: November 12, 2015.\n",
    "Due: November 26, 2015 by 6pm. (Yes I know it's Thanksgiving!)\n",
    "\n",
    "Late homework **will not be accepted**."
   ]
  },
  {
   "cell_type": "markdown",
   "metadata": {},
   "source": [
    "<font color = \"red\">Homework is to be done by each student individually.  To receive full credit, you must email a completed copy of this iPython notebook to Tai-Ho Wang and Jim Gatheral by the due date and time.  All R-code must run correctly and solutions must be written up neatly in Markdown/LaTeX format.\n",
    "\n"
   ]
  },
  {
   "cell_type": "markdown",
   "metadata": {},
   "source": [
    "### 0. (0 points)\n",
    "\n",
    "Read Chapters 9 and 10 of The Volatility Surface"
   ]
  },
  {
   "cell_type": "markdown",
   "metadata": {},
   "source": [
    "## Comparing stochastic and local volatility pricing of lookback options"
   ]
  },
  {
   "cell_type": "markdown",
   "metadata": {},
   "source": [
    "\n",
    "$$\n",
    "\\newcommand{\\supp}{\\mathrm{supp}}\n",
    "\\newcommand{\\E}{\\mathbb{E} }\n",
    "\\def\\Cov{{ \\mbox{Cov} }}\n",
    "\\def\\Var{{ \\mbox{Var} }}\n",
    "\\newcommand{\\1}{\\mathbf{1} }\n",
    "\\newcommand{\\PP}{\\mathbb{P} }\n",
    "%\\newcommand{\\Pr}{\\mathrm{Pr} }\n",
    "\\newcommand{\\QQ}{\\mathbb{Q} }\n",
    "\\newcommand{\\RR}{\\mathbb{R} }\n",
    "\\newcommand{\\DD}{\\mathbb{D} }\n",
    "\\newcommand{\\HH}{\\mathbb{H} }\n",
    "\\newcommand{\\spn}{\\mathrm{span} }\n",
    "\\newcommand{\\cov}{\\mathrm{cov} }\n",
    "\\newcommand{\\sgn}{\\mathrm{sgn} }\n",
    "\\newcommand{\\HS}{\\mathcal{L}_{\\mathrm{HS}} }\n",
    "%\\newcommand{\\HS}{\\mathrm{HS} }\n",
    "\\newcommand{\\trace}{\\mathrm{trace} }\n",
    "\\newcommand{\\LL}{\\mathcal{L} }\n",
    "%\\newcommand{\\LL}{\\mathrm{L} }\n",
    "\\newcommand{\\s}{\\mathcal{S} }\n",
    "\\newcommand{\\ee}{\\mathcal{E} }\n",
    "\\newcommand{\\ff}{\\mathcal{F} }\n",
    "\\newcommand{\\hh}{\\mathcal{H} }\n",
    "\\newcommand{\\bb}{\\mathcal{B} }\n",
    "\\newcommand{\\dd}{\\mathcal{D} }\n",
    "\\newcommand{\\g}{\\mathcal{G} }\n",
    "\\newcommand{\\p}{\\partial}\n",
    "\\newcommand{\\half}{\\frac{1}{2} }\n",
    "\\newcommand{\\T}{\\mathcal{T} }\n",
    "\\newcommand{\\bi}{\\begin{itemize}}\n",
    "\\newcommand{\\ei}{\\end{itemize}}\n",
    "\\newcommand{\\beq}{\\begin{equation}}\n",
    "\\newcommand{\\eeq}{\\end{equation}}\n",
    "\\newcommand{\\beas}{\\begin{eqnarray*}}\n",
    "\\newcommand{\\eeas}{\\end{eqnarray*}}\n",
    "\\newcommand{\\cO}{\\mathcal{O}}\n",
    "\\newcommand{\\cF}{\\mathcal{F}}\n",
    "\\newcommand{\\cL}{\\mathcal{L}}\n",
    "$$\n",
    "\n",
    "\n",
    "In the following, a lookback call is defined to pay\n",
    "\n",
    "$$\n",
    "\\left(S_{\\text{max}}-K\\right)^+\n",
    "$$\n",
    "where $S_{\\text{max}}$ is the maximum and $K$ is the strike price."
   ]
  },
  {
   "cell_type": "markdown",
   "metadata": {},
   "source": [
    "### 1. (8 points)\n",
    "\n",
    "Use (for example) the stochastic volatility and local volatility Monte Carlo codes (`HestonMCxmax` and `HestonLvMCxmax` respectively) from Lecture 11 to price a one year at-the-money lookback call\n",
    "that is monitored once a day (assume 252 working days in a year).\n",
    "\n",
    "Use the usual HN parameters  - namely:\n",
    "\n",
    "$$\n",
    "\\begin{eqnarray*}\n",
    "v&=& 0.04\\\\ \\bar v &=& 0.04\\\\ \\lambda&=&10\\\\ \\eta&=&1\\\\\\rho&=&-1.\n",
    "\\end{eqnarray*}\n",
    "$$\n",
    "\n",
    "Use 252 time steps and 20,000 paths.  Do not use Richardson extrapolation."
   ]
  },
  {
   "cell_type": "markdown",
   "metadata": {},
   "source": [
    "### Solution 1"
   ]
  },
  {
   "cell_type": "code",
   "execution_count": 1,
   "metadata": {
    "collapsed": true
   },
   "outputs": [],
   "source": [
    "evolveAlfonsiF <- function(v,x,dt,W1,W2,L){\n",
    "  \n",
    "  eldt2 <- exp(-lambda*dt/2);\n",
    "  \n",
    "  #Variance process \n",
    "  vbarp <- vbar - eta^2/(4*lambda);\n",
    "  psi <- (1-eldt2)/lambda;\n",
    "  v1 <- v*eldt2+lambda*vbarp*psi;\n",
    "  v2 <- (v1 > 0) * v1; # Take v2 = 0 if v1<0, else v2=v1\n",
    "  par <- sqrt(v2) + eta/2 * sqrt(dt)*W2;\n",
    "  vf <- eldt2*par*par +lambda*vbarp*psi + v1 - v2;\n",
    "  # Full truncation\n",
    "  \n",
    "  # Log-stock process (Andersen equation (33))\n",
    "  vvf <- (v+vf > 0) * (v+vf);\n",
    "  dw <- vvf/2*dt;\n",
    "  x <- x  - dw/2 + rho2m1*sqrt(dw)*W1 +\n",
    "    rho/eta*(lambda*dw + vf-v -lambda*vbar*dt) ;\n",
    "  # Impose martingale constraint\n",
    "  x <- x - log(mean(exp(x)));\n",
    "  v <- vf;\n",
    "  return(cbind(x,v));\n",
    "}"
   ]
  },
  {
   "cell_type": "markdown",
   "metadata": {},
   "source": [
    "### Heston Monte Carlo amended to return vectors x, v and max(x)"
   ]
  },
  {
   "cell_type": "code",
   "execution_count": 2,
   "metadata": {
    "collapsed": true
   },
   "outputs": [],
   "source": [
    "HestonMCxmax <- function(params){\n",
    "\n",
    "  is.even <- function(j){as.logical((j+1) %% 2)}\n",
    "  \n",
    "  res <- function(S0, T, AK, N, m, evolve,exactVols=NULL)\n",
    "  {\n",
    "    \n",
    "    lambda <<- params$lambda \n",
    "    rho <<- params$rho \n",
    "    eta <<- params$eta \n",
    "    vbar <<- params$vbar \n",
    "    v0 <<- params$v \n",
    "    \n",
    "    n <- m*2  #n is number of timesteps = 2*m so we can use Romberg extrapolation\n",
    "    sqrt2 <- sqrt(2) \n",
    "    rho2m1 <<- sqrt(1-rho*rho) \n",
    "    vbarp <<- vbar - eta^2/(4*lambda) \n",
    "    \n",
    "    negCount <- 0 \n",
    "    \n",
    "    # We use a vertical array, one element per M.C. path\n",
    "    x <- numeric(N);  v <- rep(1,N)*v0  \n",
    "    xmax <- x \n",
    "    xm <- x  \n",
    "    vm <- v\n",
    "    xmaxm <- xmax \n",
    "    xmin <- numeric(N)  \n",
    "    xminm <- numeric(N) \n",
    "    W1m <- numeric(N) \n",
    "    W2m <- numeric(N)  \n",
    "    \n",
    "    # Loop for bias computation (N small, n big)\n",
    "    for (i in 1:n)\n",
    "    {\n",
    "      # Two sets of correlated normal random vars.\n",
    "      \n",
    "      W1 <- rnorm(N) \n",
    "      W2 <- rnorm(N) \n",
    "      W1 <- W1 - mean(W1)\n",
    "      W1 <- W1/sd(W1) \n",
    "      W2 <- W2 - mean(W2)\n",
    "      W2 <- W2/sd(W2) \n",
    "      # Now W1 and W2 are forced to have mean=0 and sd=1\n",
    "      \n",
    "      W2p <- W2 - cor(W1,W2)*W1  # Eliminate actual correlation\n",
    "      W2p <- W2p - mean(W2p)  \n",
    "      W2 <- W2p/sd(W2p)  \n",
    "      # Now W1 and W2 have mean=0, sd=1 and correlation=0\n",
    "      \n",
    "      L <- rbinom(N, size=1, prob=1/2)  # Bernoulli rv for NV step\n",
    "      \n",
    "      # Add code for subgrid\n",
    "      W1m <- W1m + W1/sqrt2\n",
    "      W2m <- W2m + W2/sqrt2  # N(0,1) rv's for subgrid\n",
    "      \n",
    "      if (is.even(i)) {\n",
    "        #print(c(i,mean(W1m),mean(W2m),sd(W1m),sd(W2m),cor(W1m,W2m))) \n",
    "        resm <- evolve(vm,xm,T/m,W1m,W2m,L) \n",
    "        xnewm <- resm[,1] \n",
    "        xmaxm <- (xnewm>xmaxm)*(xnewm-xmaxm)+xmaxm \n",
    "        xminm <- (xnewm<xminm)*(xnewm-xminm)+xminm \n",
    "        xm <- xnewm \n",
    "        vm <- resm[,2] \n",
    "        W1m <- numeric(N)  \n",
    "        W2m <- numeric(N) \n",
    "      }\n",
    "      \n",
    "      res <- evolve(v,x,T/n,W1,W2,L) \n",
    "      xnew <- res[,1] \n",
    "      xmax <- (xnew>xmax)*(xnew-xmax)+xmax \n",
    "      xmin <- (xnew<xmin)*(xnew-xmin)+xmin \n",
    "      x <- xnew \n",
    "      v <- res[,2] \n",
    "      \n",
    "    }\n",
    "    \n",
    "    return(data.frame(x,xm,v,vm,xmax,xmaxm,xmin,xminm)) \n",
    "    \n",
    "  }\n",
    "  return(res) \n",
    "}"
   ]
  },
  {
   "cell_type": "markdown",
   "metadata": {},
   "source": [
    "### Local volatility Monte Carlo"
   ]
  },
  {
   "cell_type": "code",
   "execution_count": 3,
   "metadata": {
    "collapsed": true
   },
   "outputs": [],
   "source": [
    "# Monte Carlo with Richardson extrapolation\n",
    "HestonLvMCxmax <- function(params){\n",
    "\n",
    "  is.even <- function(j){as.logical((j+1) %% 2)}\n",
    "  \n",
    "  res <- function(S0, T, N, m)\n",
    "  {\n",
    "    \n",
    "    lambda <- params$lambda;\n",
    "    rho <- params$rho;\n",
    "    eta <- params$eta;\n",
    "    vbar <- params$vbar;\n",
    "    v0 <- params$v;\n",
    "    \n",
    "    lambdap <- lambda+eta/2;\n",
    "    vbarp <- vbar*lambda/lambdap;\n",
    "    \n",
    "    n <- m*2;\n",
    "    dt <- T/n;\n",
    "    dtm <- dt*2;\n",
    "    \n",
    "    sqrtdt <- sqrt(dt);\n",
    "    sqrtdtm <- sqrt(dtm);\n",
    "    sqrt2 <- sqrt(2);\n",
    "    \n",
    "    # We use a vertical array, one element per M.C. path\n",
    "    x <- numeric(N); vloc <- rep(v0,N); \n",
    "    xm <- numeric(N); vlocm <- rep(v0,N); \n",
    "    xmax <- numeric(N); xmaxm <- numeric(N);\n",
    "    xmin <- numeric(N); xminm <- numeric(N);\n",
    "    W1m <- numeric(N);\n",
    "    \n",
    "    # Loop over timesteps\n",
    "    for (i in 1:n)\n",
    "    {\n",
    "      W1 <- rnorm(N);\n",
    "      W1 <- W1 - mean(W1); W1 <- W1/sd(W1);\n",
    "      # Now W1 is forced to have mean=0 and sd=1  \n",
    "      \n",
    "      # Add code for subgrid\n",
    "      W1m <- W1m + W1/sqrt2; # N(0,1) rv's for subgrid\n",
    "      \n",
    "      # Compute local variance from formula 4.1 of TVS\n",
    "      ti <- i*dt;\n",
    "      elti <- exp(-lambdap*ti);\t\n",
    "      vlocf <- (v0-vbarp)*elti+vbarp-eta*x*(1-elti)/(lambdap*ti);\n",
    "      vlocf <- (vlocf>=0)*vlocf;\n",
    "      \n",
    "      # Approximate integrated variance\n",
    "      w <- (vlocf +vloc)/2*dt;\n",
    "      \n",
    "      xnew <- x - w/2 + sqrt(w)*W1;\n",
    "      xmax <- (xnew>xmax)*(xnew-xmax)+xmax;\n",
    "      xmin <- (xnew<xmin)*(xnew-xmin)+xmin;\n",
    "      x <- xnew;\n",
    "      vloc <- vlocf;\n",
    "      \n",
    "      \n",
    "      if (is.even(i)) {\n",
    "        \n",
    "        vlocfm <- (v0-vbarp)*elti+vbarp-eta*xm*(1-elti)/(lambdap*ti);\n",
    "        vlocfm <- (vlocfm>=0)*vlocfm;\n",
    "        \n",
    "        wm <- (vlocfm+vlocm)/2*dtm;\n",
    "        xnewm <- xm - wm/2 + sqrt(wm)*W1m;\n",
    "        xmaxm <- (xnewm>xmaxm)*(xnewm-xmaxm)+xmaxm;\n",
    "        xminm <- (xnewm<xminm)*(xnewm-xminm)+xminm;\n",
    "        xm <- xnewm;\n",
    "        vlocm <- vlocf;\n",
    "        W1m <- numeric(N);\n",
    "      } \n",
    "      \n",
    "      \n",
    "    }\n",
    "    \n",
    "    return(data.frame(x,xm,vloc,vlocm,xmax,xmaxm,xmin, xminm));\n",
    "    \n",
    "  }\n",
    "  return(res);\n",
    "}"
   ]
  },
  {
   "cell_type": "code",
   "execution_count": 4,
   "metadata": {
    "collapsed": true
   },
   "outputs": [],
   "source": [
    "priceLookback <- function(data, K)\n",
    "{\n",
    "    Smax <- exp(data$xmax)\n",
    "   \n",
    "    # Payoff for lookback  \n",
    "    V <- (Smax>K) * (Smax - K);\n",
    "\n",
    "    AV <- mean(V);\n",
    "    \n",
    "    return(AV);\n",
    "}"
   ]
  },
  {
   "cell_type": "code",
   "execution_count": 5,
   "metadata": {
    "collapsed": true
   },
   "outputs": [],
   "source": [
    "# Heston-Nandi parameters\n",
    "paramsCh4 <- list(lambda = 10,rho = -1,eta = 1,vbar = 0.04,v = 0.04)\n",
    "\n",
    "N <- 20000\n",
    "\n",
    "m <- 252 / 2\n",
    "\n",
    "S0 <- 1\n",
    "\n",
    "T <- 1"
   ]
  },
  {
   "cell_type": "code",
   "execution_count": 6,
   "metadata": {
    "collapsed": true
   },
   "outputs": [],
   "source": [
    "sampleLV <- HestonLvMCxmax(paramsCh4)(S0=S0, T=T, N=N, m=m);\n",
    "sampleSV <- HestonMCxmax(paramsCh4)(S0=S0, T=T, N=N, m=m,evolve=evolveAlfonsiF);"
   ]
  },
  {
   "cell_type": "code",
   "execution_count": 7,
   "metadata": {
    "collapsed": false
   },
   "outputs": [
    {
     "data": {
      "text/html": [
       "'The price of the one year ATM lookback option under stochastic volatility model is 0.126354234438661'"
      ],
      "text/latex": [
       "'The price of the one year ATM lookback option under stochastic volatility model is 0.126354234438661'"
      ],
      "text/markdown": [
       "'The price of the one year ATM lookback option under stochastic volatility model is 0.126354234438661'"
      ],
      "text/plain": [
       "[1] \"The price of the one year ATM lookback option under stochastic volatility model is 0.126354234438661\""
      ]
     },
     "execution_count": 7,
     "metadata": {},
     "output_type": "execute_result"
    },
    {
     "data": {
      "text/html": [
       "'The price of the one year ATM lookback option under local volatility model is 0.134252833920337'"
      ],
      "text/latex": [
       "'The price of the one year ATM lookback option under local volatility model is 0.134252833920337'"
      ],
      "text/markdown": [
       "'The price of the one year ATM lookback option under local volatility model is 0.134252833920337'"
      ],
      "text/plain": [
       "[1] \"The price of the one year ATM lookback option under local volatility model is 0.134252833920337\""
      ]
     },
     "execution_count": 7,
     "metadata": {},
     "output_type": "execute_result"
    }
   ],
   "source": [
    "lookBackSV <- priceLookback(sampleSV, S0)\n",
    "lookBackLV <- priceLookback(sampleLV, S0)\n",
    "\n",
    "paste('The price of the one year ATM lookback option under stochastic volatility model is', lookBackSV)\n",
    "paste('The price of the one year ATM lookback option under local volatility model is', lookBackLV)"
   ]
  },
  {
   "cell_type": "markdown",
   "metadata": {},
   "source": [
    "### 2. (4 points) \n",
    "\n",
    "Plot local volatility and stochastic volatility prices of lookback options for a range of strikes from $1.0$ to $1.4$, reproducing Figure 8 of Lecture 11."
   ]
  },
  {
   "cell_type": "code",
   "execution_count": 8,
   "metadata": {
    "collapsed": false
   },
   "outputs": [
    {
     "data": {
      "application/pdf": "[encoded data removed]",
      "image/jpeg": "[encoded data removed]",
      "image/png": "[encoded data removed]",
      "image/svg+xml": [
       "<?xml version=\"1.0\" encoding=\"UTF-8\"?>\n",
       "<svg xmlns=\"http://www.w3.org/2000/svg\" xmlns:xlink=\"http://www.w3.org/1999/xlink\" width=\"504pt\" height=\"504pt\" viewBox=\"0 0 504 504\" version=\"1.1\">\n",
       "<defs>\n",
       "<g>\n",
       "<symbol overflow=\"visible\" id=\"glyph0-0\">\n",
       "<path style=\"stroke:none;\" d=\"\"/>\n",
       "</symbol>\n",
       "<symbol overflow=\"visible\" id=\"glyph0-1\">\n",
       "<path style=\"stroke:none;\" d=\"M 4.296875 -0.125 L 4.296875 -8.765625 L 3.359375 -8.765625 C 2.953125 -7.328125 2.859375 -7.28125 1.078125 -7.0625 L 1.078125 -6.0625 L 2.96875 -6.0625 L 2.96875 0 L 4.296875 0 Z M 4.296875 -0.125 \"/>\n",
       "</symbol>\n",
       "<symbol overflow=\"visible\" id=\"glyph0-2\">\n",
       "<path style=\"stroke:none;\" d=\"M 2.421875 -0.125 L 2.421875 -1.515625 L 0.90625 -1.515625 L 0.90625 0 L 2.421875 0 Z M 2.421875 -0.125 \"/>\n",
       "</symbol>\n",
       "<symbol overflow=\"visible\" id=\"glyph0-3\">\n",
       "<path style=\"stroke:none;\" d=\"M 6.21875 -4.21875 C 6.21875 -7.171875 5.140625 -8.765625 3.296875 -8.765625 C 1.46875 -8.765625 0.375 -7.15625 0.375 -4.296875 C 0.375 -1.421875 1.46875 0.1875 3.296875 0.1875 C 5.09375 0.1875 6.21875 -1.421875 6.21875 -4.21875 Z M 4.859375 -4.3125 C 4.859375 -1.90625 4.453125 -0.953125 3.28125 -0.953125 C 2.15625 -0.953125 1.734375 -1.953125 1.734375 -4.28125 C 1.734375 -6.609375 2.15625 -7.578125 3.296875 -7.578125 C 4.4375 -7.578125 4.859375 -6.59375 4.859375 -4.3125 Z M 4.859375 -4.3125 \"/>\n",
       "</symbol>\n",
       "<symbol overflow=\"visible\" id=\"glyph0-4\">\n",
       "<path style=\"stroke:none;\" d=\"M 6.265625 -6.140625 C 6.265625 -7.578125 5.015625 -8.765625 3.40625 -8.765625 C 1.671875 -8.765625 0.515625 -7.75 0.453125 -5.5625 L 1.78125 -5.5625 C 1.875 -7.109375 2.328125 -7.578125 3.375 -7.578125 C 4.328125 -7.578125 4.90625 -7.03125 4.90625 -6.125 C 4.90625 -5.453125 4.546875 -4.96875 3.796875 -4.53125 L 2.6875 -3.90625 C 0.90625 -2.90625 0.359375 -2 0.25 0 L 6.203125 0 L 6.203125 -1.3125 L 1.75 -1.3125 C 1.84375 -1.875 2.1875 -2.21875 3.234375 -2.828125 L 4.421875 -3.484375 C 5.609375 -4.109375 6.265625 -5.09375 6.265625 -6.140625 Z M 6.265625 -6.140625 \"/>\n",
       "</symbol>\n",
       "<symbol overflow=\"visible\" id=\"glyph0-5\">\n",
       "<path style=\"stroke:none;\" d=\"M 6.203125 -2.609375 C 6.203125 -3.640625 5.65625 -4.375 4.625 -4.71875 L 4.625 -4.453125 C 5.421875 -4.765625 5.953125 -5.453125 5.953125 -6.296875 C 5.953125 -7.765625 4.84375 -8.765625 3.234375 -8.765625 C 1.515625 -8.765625 0.453125 -7.703125 0.421875 -5.765625 L 1.75 -5.765625 C 1.78125 -7.15625 2.15625 -7.578125 3.234375 -7.578125 C 4.171875 -7.578125 4.59375 -7.15625 4.59375 -6.265625 C 4.59375 -5.359375 4.34375 -5.109375 2.515625 -5.109375 L 2.515625 -3.953125 L 3.234375 -3.953125 C 4.390625 -3.953125 4.84375 -3.546875 4.84375 -2.59375 C 4.84375 -1.53125 4.328125 -1.015625 3.234375 -1.015625 C 2.078125 -1.015625 1.640625 -1.46875 1.5625 -2.828125 L 0.234375 -2.828125 C 0.375 -0.796875 1.453125 0.1875 3.1875 0.1875 C 4.9375 0.1875 6.203125 -1 6.203125 -2.609375 Z M 6.203125 -2.609375 \"/>\n",
       "</symbol>\n",
       "<symbol overflow=\"visible\" id=\"glyph0-6\">\n",
       "<path style=\"stroke:none;\" d=\"M 6.375 -2.171875 L 6.375 -3.25 L 5.109375 -3.25 L 5.109375 -8.765625 L 4.125 -8.765625 L 0.1875 -3.328125 L 0.1875 -2.046875 L 3.78125 -2.046875 L 3.78125 0 L 5.109375 0 L 5.109375 -2.046875 L 6.375 -2.046875 Z M 3.921875 -3.25 L 1.515625 -3.25 L 4.015625 -6.75 L 3.78125 -6.84375 L 3.78125 -3.25 Z M 3.921875 -3.25 \"/>\n",
       "</symbol>\n",
       "<symbol overflow=\"visible\" id=\"glyph0-7\">\n",
       "<path style=\"stroke:none;\" d=\"M 7.578125 -2.53125 C 7.578125 -3.609375 6.78125 -4.53125 5.59375 -4.859375 L 3.390625 -5.453125 C 2.34375 -5.71875 2.09375 -5.9375 2.09375 -6.609375 C 2.09375 -7.5 2.734375 -8.03125 3.90625 -8.03125 C 5.296875 -8.03125 5.953125 -7.53125 5.953125 -6.25 L 7.28125 -6.25 C 7.28125 -8.09375 5.96875 -9.234375 3.953125 -9.234375 C 2.03125 -9.234375 0.703125 -8.046875 0.703125 -6.453125 C 0.703125 -5.390625 1.40625 -4.578125 2.5625 -4.28125 L 4.734375 -3.703125 C 5.828125 -3.421875 6.1875 -3.109375 6.1875 -2.421875 C 6.1875 -1.46875 5.609375 -1.03125 4.109375 -1.03125 C 2.453125 -1.03125 1.765625 -1.734375 1.765625 -3.109375 L 0.4375 -3.109375 C 0.4375 -0.90625 1.96875 0.21875 4.03125 0.21875 C 6.25 0.21875 7.578125 -0.96875 7.578125 -2.53125 Z M 7.578125 -2.53125 \"/>\n",
       "</symbol>\n",
       "<symbol overflow=\"visible\" id=\"glyph0-8\">\n",
       "<path style=\"stroke:none;\" d=\"M 3.1875 -0.125 L 3.1875 -1.15625 C 2.921875 -1.0625 2.765625 -1.0625 2.5625 -1.0625 C 2.140625 -1.0625 2.140625 -1.046875 2.140625 -1.484375 L 2.140625 -5.46875 L 3.1875 -5.46875 L 3.1875 -6.546875 L 2.140625 -6.546875 L 2.140625 -8.28125 L 0.875 -8.28125 L 0.875 -6.546875 L 0.03125 -6.546875 L 0.03125 -5.46875 L 0.875 -5.46875 L 0.875 -1.046875 C 0.875 -0.40625 1.453125 0.078125 2.234375 0.078125 C 2.46875 0.078125 2.71875 0.0625 3.1875 -0.03125 Z M 3.1875 -0.125 \"/>\n",
       "</symbol>\n",
       "<symbol overflow=\"visible\" id=\"glyph0-9\">\n",
       "<path style=\"stroke:none;\" d=\"M 3.984375 -5.546875 L 3.984375 -6.6875 C 3.6875 -6.71875 3.59375 -6.734375 3.46875 -6.734375 C 2.8125 -6.734375 2.21875 -6.3125 1.640625 -5.375 L 1.890625 -5.28125 L 1.890625 -6.546875 L 0.703125 -6.546875 L 0.703125 0 L 1.96875 0 L 1.96875 -3.390625 C 1.96875 -4.8125 2.296875 -5.390625 3.984375 -5.40625 Z M 3.984375 -5.546875 \"/>\n",
       "</symbol>\n",
       "<symbol overflow=\"visible\" id=\"glyph0-10\">\n",
       "<path style=\"stroke:none;\" d=\"M 1.96875 -0.125 L 1.96875 -6.546875 L 0.703125 -6.546875 L 0.703125 0 L 1.96875 0 Z M 2.09375 -7.375 L 2.09375 -8.75 L 0.578125 -8.75 L 0.578125 -7.234375 L 2.09375 -7.234375 Z M 2.09375 -7.375 \"/>\n",
       "</symbol>\n",
       "<symbol overflow=\"visible\" id=\"glyph0-11\">\n",
       "<path style=\"stroke:none;\" d=\"M 6.125 -0.234375 L 3.625 -4.21875 L 5.734375 -6.328125 L 5.640625 -6.546875 L 4.296875 -6.546875 L 1.578125 -3.859375 L 1.828125 -3.75 L 1.828125 -9.015625 L 0.546875 -9.015625 L 0.546875 0 L 1.828125 0 L 1.828125 -2.515625 L 2.640625 -3.328125 L 4.71875 0 L 6.265625 0 Z M 6.125 -0.234375 \"/>\n",
       "</symbol>\n",
       "<symbol overflow=\"visible\" id=\"glyph0-12\">\n",
       "<path style=\"stroke:none;\" d=\"M 6.28125 -2.984375 C 6.28125 -3.90625 6.21875 -4.46875 6.03125 -4.9375 C 5.625 -5.96875 4.53125 -6.734375 3.359375 -6.734375 C 1.609375 -6.734375 0.34375 -5.296875 0.34375 -3.234375 C 0.34375 -1.171875 1.578125 0.1875 3.34375 0.1875 C 4.78125 0.1875 5.90625 -0.765625 6.1875 -2.171875 L 4.921875 -2.171875 C 4.59375 -1.21875 4.171875 -1.015625 3.375 -1.015625 C 2.328125 -1.015625 1.6875 -1.546875 1.65625 -2.859375 L 6.28125 -2.859375 Z M 5.1875 -3.78125 C 5.1875 -3.78125 4.984375 -3.921875 4.984375 -3.9375 L 1.6875 -3.9375 C 1.765625 -4.921875 2.34375 -5.546875 3.34375 -5.546875 C 4.328125 -5.546875 4.9375 -4.859375 4.9375 -3.875 Z M 5.1875 -3.78125 \"/>\n",
       "</symbol>\n",
       "<symbol overflow=\"visible\" id=\"glyph0-13\">\n",
       "<path style=\"stroke:none;\" d=\"M 5.640625 -1.890625 C 5.640625 -2.828125 4.984375 -3.4375 3.734375 -3.734375 L 2.765625 -3.953125 C 1.953125 -4.15625 1.734375 -4.28125 1.734375 -4.734375 C 1.734375 -5.296875 2.125 -5.546875 2.9375 -5.546875 C 3.75 -5.546875 4.03125 -5.328125 4.0625 -4.53125 L 5.390625 -4.53125 C 5.375 -5.90625 4.421875 -6.734375 2.96875 -6.734375 C 1.515625 -6.734375 0.421875 -5.84375 0.421875 -4.6875 C 0.421875 -3.703125 1.0625 -3.09375 2.5625 -2.734375 L 3.484375 -2.515625 C 4.1875 -2.34375 4.3125 -2.265625 4.3125 -1.8125 C 4.3125 -1.21875 3.875 -1.015625 3 -1.015625 C 2.09375 -1.015625 1.734375 -1.09375 1.578125 -2.1875 L 0.265625 -2.1875 C 0.3125 -0.59375 1.265625 0.1875 2.921875 0.1875 C 4.5 0.1875 5.640625 -0.6875 5.640625 -1.890625 Z M 5.640625 -1.890625 \"/>\n",
       "</symbol>\n",
       "<symbol overflow=\"visible\" id=\"glyph1-0\">\n",
       "<path style=\"stroke:none;\" d=\"\"/>\n",
       "</symbol>\n",
       "<symbol overflow=\"visible\" id=\"glyph1-1\">\n",
       "<path style=\"stroke:none;\" d=\"M -4.21875 -6.21875 C -7.171875 -6.21875 -8.765625 -5.140625 -8.765625 -3.296875 C -8.765625 -1.46875 -7.15625 -0.375 -4.296875 -0.375 C -1.421875 -0.375 0.1875 -1.46875 0.1875 -3.296875 C 0.1875 -5.09375 -1.421875 -6.21875 -4.21875 -6.21875 Z M -4.3125 -4.859375 C -1.90625 -4.859375 -0.953125 -4.453125 -0.953125 -3.28125 C -0.953125 -2.15625 -1.953125 -1.734375 -4.28125 -1.734375 C -6.609375 -1.734375 -7.578125 -2.15625 -7.578125 -3.296875 C -7.578125 -4.4375 -6.59375 -4.859375 -4.3125 -4.859375 Z M -4.3125 -4.859375 \"/>\n",
       "</symbol>\n",
       "<symbol overflow=\"visible\" id=\"glyph1-2\">\n",
       "<path style=\"stroke:none;\" d=\"M -0.125 -2.421875 L -1.515625 -2.421875 L -1.515625 -0.90625 L 0 -0.90625 L 0 -2.421875 Z M -0.125 -2.421875 \"/>\n",
       "</symbol>\n",
       "<symbol overflow=\"visible\" id=\"glyph1-3\">\n",
       "<path style=\"stroke:none;\" d=\"M -6.140625 -6.265625 C -7.578125 -6.265625 -8.765625 -5.015625 -8.765625 -3.40625 C -8.765625 -1.671875 -7.75 -0.515625 -5.5625 -0.453125 L -5.5625 -1.78125 C -7.109375 -1.875 -7.578125 -2.328125 -7.578125 -3.375 C -7.578125 -4.328125 -7.03125 -4.90625 -6.125 -4.90625 C -5.453125 -4.90625 -4.96875 -4.546875 -4.53125 -3.796875 L -3.90625 -2.6875 C -2.90625 -0.90625 -2 -0.359375 0 -0.25 L 0 -6.203125 L -1.3125 -6.203125 L -1.3125 -1.75 C -1.875 -1.84375 -2.21875 -2.1875 -2.828125 -3.234375 L -3.484375 -4.421875 C -4.109375 -5.609375 -5.09375 -6.265625 -6.140625 -6.265625 Z M -6.140625 -6.265625 \"/>\n",
       "</symbol>\n",
       "<symbol overflow=\"visible\" id=\"glyph1-4\">\n",
       "<path style=\"stroke:none;\" d=\"M -2.171875 -6.375 L -3.25 -6.375 L -3.25 -5.109375 L -8.765625 -5.109375 L -8.765625 -4.125 L -3.328125 -0.1875 L -2.046875 -0.1875 L -2.046875 -3.78125 L 0 -3.78125 L 0 -5.109375 L -2.046875 -5.109375 L -2.046875 -6.375 Z M -3.25 -3.921875 L -3.25 -1.515625 L -6.75 -4.015625 L -6.84375 -3.78125 L -3.25 -3.78125 Z M -3.25 -3.921875 \"/>\n",
       "</symbol>\n",
       "<symbol overflow=\"visible\" id=\"glyph1-5\">\n",
       "<path style=\"stroke:none;\" d=\"M -2.765625 -6.28125 C -4.359375 -6.28125 -5.5625 -5.078125 -5.5625 -3.546875 C -5.5625 -2.71875 -5.203125 -1.9375 -4.578125 -1.484375 L -4.46875 -1.734375 C -6.546875 -1.734375 -7.578125 -2.28125 -7.578125 -3.484375 C -7.578125 -4.234375 -7.234375 -4.609375 -6.28125 -4.796875 L -6.28125 -6.125 C -7.8125 -5.90625 -8.765625 -4.859375 -8.765625 -3.5625 C -8.765625 -1.578125 -6.96875 -0.375 -4.015625 -0.375 C -1.359375 -0.375 0.1875 -1.421875 0.1875 -3.375 C 0.1875 -4.984375 -1.109375 -6.28125 -2.765625 -6.28125 Z M -2.6875 -4.9375 C -1.625 -4.9375 -1.015625 -4.359375 -1.015625 -3.390625 C -1.015625 -2.40625 -1.65625 -1.78125 -2.75 -1.78125 C -3.796875 -1.78125 -4.359375 -2.375 -4.359375 -3.421875 C -4.359375 -4.4375 -3.828125 -4.9375 -2.6875 -4.9375 Z M -2.6875 -4.9375 \"/>\n",
       "</symbol>\n",
       "<symbol overflow=\"visible\" id=\"glyph1-6\">\n",
       "<path style=\"stroke:none;\" d=\"M -2.53125 -6.28125 C -3.484375 -6.28125 -4.265625 -5.671875 -4.625 -4.953125 C -5.046875 -5.65625 -5.5625 -5.984375 -6.375 -5.984375 C -7.703125 -5.984375 -8.765625 -4.8125 -8.765625 -3.296875 C -8.765625 -1.796875 -7.703125 -0.59375 -6.375 -0.59375 C -5.578125 -0.59375 -5.046875 -0.921875 -4.625 -1.625 C -4.265625 -0.921875 -3.484375 -0.296875 -2.546875 -0.296875 C -0.984375 -0.296875 0.1875 -1.625 0.1875 -3.296875 C 0.1875 -4.984375 -0.984375 -6.28125 -2.53125 -6.28125 Z M -6.34375 -4.625 C -5.5625 -4.625 -5.15625 -4.1875 -5.15625 -3.296875 C -5.15625 -2.40625 -5.5625 -1.953125 -6.359375 -1.953125 C -7.171875 -1.953125 -7.578125 -2.40625 -7.578125 -3.296875 C -7.578125 -4.203125 -7.171875 -4.625 -6.34375 -4.625 Z M -2.515625 -4.9375 C -1.515625 -4.9375 -1.015625 -4.359375 -1.015625 -3.28125 C -1.015625 -2.25 -1.53125 -1.65625 -2.515625 -1.65625 C -3.515625 -1.65625 -4.015625 -2.25 -4.015625 -3.296875 C -4.015625 -4.359375 -3.515625 -4.9375 -2.515625 -4.9375 Z M -2.515625 -4.9375 \"/>\n",
       "</symbol>\n",
       "<symbol overflow=\"visible\" id=\"glyph1-7\">\n",
       "<path style=\"stroke:none;\" d=\"M -0.125 -4.296875 L -8.765625 -4.296875 L -8.765625 -3.359375 C -7.328125 -2.953125 -7.28125 -2.859375 -7.0625 -1.078125 L -6.0625 -1.078125 L -6.0625 -2.96875 L 0 -2.96875 L 0 -4.296875 Z M -0.125 -4.296875 \"/>\n",
       "</symbol>\n",
       "<symbol overflow=\"visible\" id=\"glyph1-8\">\n",
       "<path style=\"stroke:none;\" d=\"M -9.015625 -7.734375 L -9.015625 -6.453125 L -1.46875 -3.984375 L -1.46875 -4.265625 L -9.015625 -1.640625 L -9.015625 -0.171875 L 0 -3.40625 L 0 -4.78125 L -9.015625 -7.921875 Z M -9.015625 -7.734375 \"/>\n",
       "</symbol>\n",
       "<symbol overflow=\"visible\" id=\"glyph1-9\">\n",
       "<path style=\"stroke:none;\" d=\"M -0.15625 -6.546875 L -1.078125 -6.546875 C -1.015625 -6.3125 -1.015625 -6.265625 -1.015625 -6.203125 C -1.015625 -5.859375 -1.0625 -5.796875 -1.375 -5.796875 L -4.890625 -5.796875 C -6 -5.796875 -6.734375 -4.84375 -6.734375 -3.296875 C -6.734375 -1.78125 -6.015625 -0.703125 -4.421875 -0.640625 L -4.421875 -1.90625 C -5.328125 -2 -5.546875 -2.328125 -5.546875 -3.265625 C -5.546875 -4.15625 -5.34375 -4.53125 -4.734375 -4.53125 L -4.46875 -4.53125 C -4.0625 -4.53125 -4.015625 -4.421875 -3.90625 -3.625 C -3.734375 -2.203125 -3.6875 -1.984375 -3.53125 -1.609375 C -3.234375 -0.875 -2.53125 -0.359375 -1.765625 -0.359375 C -0.625 -0.359375 0.1875 -1.296875 0.1875 -2.5625 C 0.1875 -3.375 -0.1875 -4.25 -0.59375 -4.625 C -0.390625 -4.671875 0.078125 -5.25 0.078125 -5.734375 C 0.078125 -5.9375 0.0625 -6.09375 -0.046875 -6.546875 Z M -2.296875 -4.53125 C -1.40625 -4.53125 -0.953125 -3.75 -0.953125 -2.78125 C -0.953125 -2 -1.109375 -1.6875 -1.78125 -1.6875 C -2.453125 -1.6875 -2.609375 -1.984375 -2.765625 -3.0625 C -2.90625 -4.109375 -2.953125 -4.328125 -3.03125 -4.53125 Z M -2.296875 -4.53125 \"/>\n",
       "</symbol>\n",
       "<symbol overflow=\"visible\" id=\"glyph1-10\">\n",
       "<path style=\"stroke:none;\" d=\"M -0.125 -1.9375 L -9.015625 -1.9375 L -9.015625 -0.671875 L 0 -0.671875 L 0 -1.9375 Z M -0.125 -1.9375 \"/>\n",
       "</symbol>\n",
       "<symbol overflow=\"visible\" id=\"glyph1-11\">\n",
       "<path style=\"stroke:none;\" d=\"M -0.125 -5.921875 L -6.546875 -5.921875 L -6.546875 -4.640625 L -2.953125 -4.640625 C -1.671875 -4.640625 -0.953125 -4.109375 -0.953125 -3.078125 C -0.953125 -2.28125 -1.3125 -1.90625 -2.0625 -1.90625 L -6.546875 -1.90625 L -6.546875 -0.640625 L -1.671875 -0.640625 C -0.625 -0.640625 0.1875 -1.5625 0.1875 -2.78125 C 0.1875 -3.703125 -0.1875 -4.390625 -1.015625 -4.984375 L -1.109375 -4.734375 L 0 -4.734375 L 0 -5.921875 Z M -0.125 -5.921875 \"/>\n",
       "</symbol>\n",
       "<symbol overflow=\"visible\" id=\"glyph1-12\">\n",
       "<path style=\"stroke:none;\" d=\"M -2.984375 -6.28125 C -3.90625 -6.28125 -4.46875 -6.21875 -4.9375 -6.03125 C -5.96875 -5.625 -6.734375 -4.53125 -6.734375 -3.359375 C -6.734375 -1.609375 -5.296875 -0.34375 -3.234375 -0.34375 C -1.171875 -0.34375 0.1875 -1.578125 0.1875 -3.34375 C 0.1875 -4.78125 -0.765625 -5.90625 -2.171875 -6.1875 L -2.171875 -4.921875 C -1.21875 -4.59375 -1.015625 -4.171875 -1.015625 -3.375 C -1.015625 -2.328125 -1.546875 -1.6875 -2.859375 -1.65625 L -2.859375 -6.28125 Z M -3.78125 -5.1875 C -3.78125 -5.1875 -3.921875 -4.984375 -3.9375 -4.984375 L -3.9375 -1.6875 C -4.921875 -1.765625 -5.546875 -2.34375 -5.546875 -3.34375 C -5.546875 -4.328125 -4.859375 -4.9375 -3.875 -4.9375 Z M -3.78125 -5.1875 \"/>\n",
       "</symbol>\n",
       "<symbol overflow=\"visible\" id=\"glyph2-0\">\n",
       "<path style=\"stroke:none;\" d=\"\"/>\n",
       "</symbol>\n",
       "<symbol overflow=\"visible\" id=\"glyph2-1\">\n",
       "<path style=\"stroke:none;\" d=\"M 5.734375 -1.9375 C 5.734375 -2.75 5.078125 -3.46875 4.1875 -3.71875 L 2.546875 -4.15625 C 1.75 -4.359375 1.625 -4.484375 1.625 -5 C 1.625 -5.65625 2.046875 -6.015625 2.9375 -6.015625 C 3.984375 -6.015625 4.40625 -5.671875 4.40625 -4.6875 L 5.515625 -4.6875 C 5.515625 -6.109375 4.46875 -7 2.96875 -7 C 1.515625 -7 0.46875 -6.0625 0.46875 -4.875 C 0.46875 -4.078125 1.046875 -3.4375 1.921875 -3.21875 L 3.546875 -2.78125 C 4.375 -2.5625 4.59375 -2.359375 4.59375 -1.859375 C 4.59375 -1.140625 4.21875 -0.84375 3.078125 -0.84375 C 1.84375 -0.84375 1.375 -1.328125 1.375 -2.40625 L 0.265625 -2.40625 C 0.265625 -0.71875 1.46875 0.15625 3.03125 0.15625 C 4.6875 0.15625 5.734375 -0.765625 5.734375 -1.9375 Z M 5.734375 -1.9375 \"/>\n",
       "</symbol>\n",
       "<symbol overflow=\"visible\" id=\"glyph2-2\">\n",
       "<path style=\"stroke:none;\" d=\"M 2.4375 -0.140625 L 2.4375 -0.9375 C 2.1875 -0.875 2.0625 -0.859375 1.921875 -0.859375 C 1.609375 -0.859375 1.671875 -0.8125 1.671875 -1.15625 L 1.671875 -4.109375 L 2.4375 -4.109375 L 2.4375 -4.984375 L 1.671875 -4.984375 L 1.671875 -6.28125 L 0.609375 -6.28125 L 0.609375 -4.984375 L -0.03125 -4.984375 L -0.03125 -4.109375 L 0.609375 -4.109375 L 0.609375 -0.8125 C 0.609375 -0.34375 1.09375 0.0625 1.671875 0.0625 C 1.859375 0.0625 2.03125 0.046875 2.4375 -0.03125 Z M 2.4375 -0.140625 \"/>\n",
       "</symbol>\n",
       "<symbol overflow=\"visible\" id=\"glyph2-3\">\n",
       "<path style=\"stroke:none;\" d=\"M 4.75 -2.453125 C 4.75 -4.09375 3.8125 -5.125 2.453125 -5.125 C 1.125 -5.125 0.15625 -4.078125 0.15625 -2.5 C 0.15625 -0.90625 1.109375 0.140625 2.453125 0.140625 C 3.78125 0.140625 4.75 -0.90625 4.75 -2.453125 Z M 3.640625 -2.46875 C 3.640625 -1.359375 3.28125 -0.828125 2.453125 -0.828125 C 1.625 -0.828125 1.265625 -1.34375 1.265625 -2.5 C 1.265625 -3.625 1.625 -4.15625 2.453125 -4.15625 C 3.296875 -4.15625 3.640625 -3.640625 3.640625 -2.46875 Z M 3.640625 -2.46875 \"/>\n",
       "</symbol>\n",
       "<symbol overflow=\"visible\" id=\"glyph2-4\">\n",
       "<path style=\"stroke:none;\" d=\"\"/>\n",
       "</symbol>\n",
       "<symbol overflow=\"visible\" id=\"glyph2-5\">\n",
       "<path style=\"stroke:none;\" d=\"M 5.8125 -6.828125 L 4.78125 -6.828125 L 2.9375 -1.15625 L 3.25 -1.140625 L 1.28125 -6.828125 L 0.046875 -6.828125 L 2.515625 0 L 3.640625 0 L 6 -6.828125 Z M 5.8125 -6.828125 \"/>\n",
       "</symbol>\n",
       "<symbol overflow=\"visible\" id=\"glyph2-6\">\n",
       "<path style=\"stroke:none;\" d=\"M 1.515625 -0.140625 L 1.515625 -6.828125 L 0.453125 -6.828125 L 0.453125 0 L 1.515625 0 Z M 1.515625 -0.140625 \"/>\n",
       "</symbol>\n",
       "<symbol overflow=\"visible\" id=\"glyph2-7\">\n",
       "<path style=\"stroke:none;\" d=\"M 4.953125 -0.140625 L 4.953125 -1.015625 L 1.703125 -1.015625 L 1.703125 -6.828125 L 0.5625 -6.828125 L 0.5625 0 L 4.953125 0 Z M 4.953125 -0.140625 \"/>\n",
       "</symbol>\n",
       "<symbol overflow=\"visible\" id=\"glyph2-8\">\n",
       "<path style=\"stroke:none;\" d=\"M 4.296875 -1.890625 L 3.390625 -1.890625 C 3.25 -1.015625 3.03125 -0.828125 2.390625 -0.828125 C 1.5625 -0.828125 1.21875 -1.328125 1.21875 -2.453125 C 1.21875 -3.625 1.546875 -4.15625 2.359375 -4.15625 C 3 -4.15625 3.234375 -3.921875 3.34375 -3.125 L 4.40625 -3.125 C 4.296875 -4.421875 3.421875 -5.125 2.375 -5.125 C 1.109375 -5.125 0.109375 -4.015625 0.109375 -2.453125 C 0.109375 -0.921875 1.09375 0.140625 2.359375 0.140625 C 3.484375 0.140625 4.359375 -0.671875 4.453125 -1.890625 Z M 4.296875 -1.890625 \"/>\n",
       "</symbol>\n",
       "<symbol overflow=\"visible\" id=\"glyph2-9\">\n",
       "<path style=\"stroke:none;\" d=\"M 4.96875 -0.15625 L 4.96875 -0.890625 C 4.734375 -0.84375 4.703125 -0.84375 4.65625 -0.84375 C 4.390625 -0.84375 4.40625 -0.84375 4.40625 -1.078125 L 4.40625 -3.703125 C 4.40625 -4.53125 3.640625 -5.125 2.46875 -5.125 C 1.328125 -5.125 0.46875 -4.5625 0.40625 -3.328125 L 1.46875 -3.328125 C 1.5625 -4.03125 1.75 -4.15625 2.453125 -4.15625 C 3.125 -4.15625 3.34375 -4.046875 3.34375 -3.59375 L 3.34375 -3.390625 C 3.34375 -3.078125 3.3125 -3.078125 2.71875 -3 C 1.65625 -2.875 1.5 -2.828125 1.203125 -2.71875 C 0.65625 -2.5 0.21875 -1.9375 0.21875 -1.359375 C 0.21875 -0.5 0.96875 0.140625 1.921875 0.140625 C 2.53125 0.140625 3.21875 -0.15625 3.4375 -0.390625 C 3.453125 -0.328125 3.9375 0.0625 4.296875 0.0625 C 4.453125 0.0625 4.578125 0.046875 4.96875 -0.046875 Z M 3.34375 -1.765625 C 3.34375 -1.09375 2.8125 -0.796875 2.09375 -0.796875 C 1.5 -0.796875 1.3125 -0.859375 1.3125 -1.375 C 1.3125 -1.875 1.5 -1.953125 2.296875 -2.0625 C 3.09375 -2.171875 3.25 -2.21875 3.34375 -2.25 Z M 3.34375 -1.765625 \"/>\n",
       "</symbol>\n",
       "</g>\n",
       "<clipPath id=\"clip1\">\n",
       "  <path d=\"M 74 59.039062 L 459 59.039062 L 459 418 L 74 418 Z M 74 59.039062 \"/>\n",
       "</clipPath>\n",
       "</defs>\n",
       "<g id=\"surface74\">\n",
       "<rect x=\"0\" y=\"0\" width=\"504\" height=\"504\" style=\"fill:rgb(100%,100%,100%);fill-opacity:1;stroke:none;\"/>\n",
       "<path style=\"fill:none;stroke-width:0.75;stroke-linecap:round;stroke-linejoin:round;stroke:rgb(100%,0%,0%);stroke-opacity:1;stroke-miterlimit:10;\" d=\"M 74.398438 72.800781 L 93.601562 123.46875 L 112.800781 169.910156 L 132 211.914062 L 151.199219 249.179688 L 170.398438 281.898438 L 189.601562 310.25 L 208.800781 334.425781 L 228 354.640625 L 247.199219 371.121094 L 266.398438 384.253906 L 285.601562 394.550781 L 304.800781 402.234375 L 324 407.746094 L 343.199219 411.558594 L 362.398438 413.96875 L 381.601562 415.390625 L 400.800781 416.203125 L 420 416.578125 L 439.199219 416.734375 L 458.398438 416.800781 \"/>\n",
       "<path style=\"fill:none;stroke-width:0.75;stroke-linecap:round;stroke-linejoin:round;stroke:rgb(0%,0%,0%);stroke-opacity:1;stroke-miterlimit:10;\" d=\"M 74.398438 430.558594 L 458.398438 430.558594 \"/>\n",
       "<path style=\"fill:none;stroke-width:0.75;stroke-linecap:round;stroke-linejoin:round;stroke:rgb(0%,0%,0%);stroke-opacity:1;stroke-miterlimit:10;\" d=\"M 74.398438 430.558594 L 74.398438 437.761719 \"/>\n",
       "<path style=\"fill:none;stroke-width:0.75;stroke-linecap:round;stroke-linejoin:round;stroke:rgb(0%,0%,0%);stroke-opacity:1;stroke-miterlimit:10;\" d=\"M 170.398438 430.558594 L 170.398438 437.761719 \"/>\n",
       "<path style=\"fill:none;stroke-width:0.75;stroke-linecap:round;stroke-linejoin:round;stroke:rgb(0%,0%,0%);stroke-opacity:1;stroke-miterlimit:10;\" d=\"M 266.398438 430.558594 L 266.398438 437.761719 \"/>\n",
       "<path style=\"fill:none;stroke-width:0.75;stroke-linecap:round;stroke-linejoin:round;stroke:rgb(0%,0%,0%);stroke-opacity:1;stroke-miterlimit:10;\" d=\"M 362.398438 430.558594 L 362.398438 437.761719 \"/>\n",
       "<path style=\"fill:none;stroke-width:0.75;stroke-linecap:round;stroke-linejoin:round;stroke:rgb(0%,0%,0%);stroke-opacity:1;stroke-miterlimit:10;\" d=\"M 458.398438 430.558594 L 458.398438 437.761719 \"/>\n",
       "<g style=\"fill:rgb(0%,0%,0%);fill-opacity:1;\">\n",
       "  <use xlink:href=\"#glyph0-1\" x=\"65.898438\" y=\"456.256836\"/>\n",
       "  <use xlink:href=\"#glyph0-2\" x=\"72.570312\" y=\"456.256836\"/>\n",
       "  <use xlink:href=\"#glyph0-3\" x=\"75.90625\" y=\"456.256836\"/>\n",
       "</g>\n",
       "<g style=\"fill:rgb(0%,0%,0%);fill-opacity:1;\">\n",
       "  <use xlink:href=\"#glyph0-1\" x=\"161.898438\" y=\"456.256836\"/>\n",
       "  <use xlink:href=\"#glyph0-2\" x=\"168.570312\" y=\"456.256836\"/>\n",
       "  <use xlink:href=\"#glyph0-1\" x=\"171.90625\" y=\"456.256836\"/>\n",
       "</g>\n",
       "<g style=\"fill:rgb(0%,0%,0%);fill-opacity:1;\">\n",
       "  <use xlink:href=\"#glyph0-1\" x=\"257.898438\" y=\"456.256836\"/>\n",
       "  <use xlink:href=\"#glyph0-2\" x=\"264.570312\" y=\"456.256836\"/>\n",
       "  <use xlink:href=\"#glyph0-4\" x=\"267.90625\" y=\"456.256836\"/>\n",
       "</g>\n",
       "<g style=\"fill:rgb(0%,0%,0%);fill-opacity:1;\">\n",
       "  <use xlink:href=\"#glyph0-1\" x=\"353.898438\" y=\"456.256836\"/>\n",
       "  <use xlink:href=\"#glyph0-2\" x=\"360.570312\" y=\"456.256836\"/>\n",
       "  <use xlink:href=\"#glyph0-5\" x=\"363.90625\" y=\"456.256836\"/>\n",
       "</g>\n",
       "<g style=\"fill:rgb(0%,0%,0%);fill-opacity:1;\">\n",
       "  <use xlink:href=\"#glyph0-1\" x=\"449.898438\" y=\"456.256836\"/>\n",
       "  <use xlink:href=\"#glyph0-2\" x=\"456.570312\" y=\"456.256836\"/>\n",
       "  <use xlink:href=\"#glyph0-6\" x=\"459.90625\" y=\"456.256836\"/>\n",
       "</g>\n",
       "<path style=\"fill:none;stroke-width:0.75;stroke-linecap:round;stroke-linejoin:round;stroke:rgb(0%,0%,0%);stroke-opacity:1;stroke-miterlimit:10;\" d=\"M 59.039062 416.8125 L 59.039062 90.101562 \"/>\n",
       "<path style=\"fill:none;stroke-width:0.75;stroke-linecap:round;stroke-linejoin:round;stroke:rgb(0%,0%,0%);stroke-opacity:1;stroke-miterlimit:10;\" d=\"M 59.039062 416.8125 L 51.839844 416.8125 \"/>\n",
       "<path style=\"fill:none;stroke-width:0.75;stroke-linecap:round;stroke-linejoin:round;stroke:rgb(0%,0%,0%);stroke-opacity:1;stroke-miterlimit:10;\" d=\"M 59.039062 362.359375 L 51.839844 362.359375 \"/>\n",
       "<path style=\"fill:none;stroke-width:0.75;stroke-linecap:round;stroke-linejoin:round;stroke:rgb(0%,0%,0%);stroke-opacity:1;stroke-miterlimit:10;\" d=\"M 59.039062 307.910156 L 51.839844 307.910156 \"/>\n",
       "<path style=\"fill:none;stroke-width:0.75;stroke-linecap:round;stroke-linejoin:round;stroke:rgb(0%,0%,0%);stroke-opacity:1;stroke-miterlimit:10;\" d=\"M 59.039062 253.457031 L 51.839844 253.457031 \"/>\n",
       "<path style=\"fill:none;stroke-width:0.75;stroke-linecap:round;stroke-linejoin:round;stroke:rgb(0%,0%,0%);stroke-opacity:1;stroke-miterlimit:10;\" d=\"M 59.039062 199.003906 L 51.839844 199.003906 \"/>\n",
       "<path style=\"fill:none;stroke-width:0.75;stroke-linecap:round;stroke-linejoin:round;stroke:rgb(0%,0%,0%);stroke-opacity:1;stroke-miterlimit:10;\" d=\"M 59.039062 144.550781 L 51.839844 144.550781 \"/>\n",
       "<path style=\"fill:none;stroke-width:0.75;stroke-linecap:round;stroke-linejoin:round;stroke:rgb(0%,0%,0%);stroke-opacity:1;stroke-miterlimit:10;\" d=\"M 59.039062 90.101562 L 51.839844 90.101562 \"/>\n",
       "<g style=\"fill:rgb(0%,0%,0%);fill-opacity:1;\">\n",
       "  <use xlink:href=\"#glyph1-1\" x=\"41.538086\" y=\"428.8125\"/>\n",
       "  <use xlink:href=\"#glyph1-2\" x=\"41.538086\" y=\"422.140625\"/>\n",
       "  <use xlink:href=\"#glyph1-1\" x=\"41.538086\" y=\"418.804688\"/>\n",
       "  <use xlink:href=\"#glyph1-1\" x=\"41.538086\" y=\"412.132812\"/>\n",
       "</g>\n",
       "<g style=\"fill:rgb(0%,0%,0%);fill-opacity:1;\">\n",
       "  <use xlink:href=\"#glyph1-1\" x=\"41.538086\" y=\"374.359375\"/>\n",
       "  <use xlink:href=\"#glyph1-2\" x=\"41.538086\" y=\"367.6875\"/>\n",
       "  <use xlink:href=\"#glyph1-1\" x=\"41.538086\" y=\"364.351562\"/>\n",
       "  <use xlink:href=\"#glyph1-3\" x=\"41.538086\" y=\"357.679688\"/>\n",
       "</g>\n",
       "<g style=\"fill:rgb(0%,0%,0%);fill-opacity:1;\">\n",
       "  <use xlink:href=\"#glyph1-1\" x=\"41.538086\" y=\"319.910156\"/>\n",
       "  <use xlink:href=\"#glyph1-2\" x=\"41.538086\" y=\"313.238281\"/>\n",
       "  <use xlink:href=\"#glyph1-1\" x=\"41.538086\" y=\"309.902344\"/>\n",
       "  <use xlink:href=\"#glyph1-4\" x=\"41.538086\" y=\"303.230469\"/>\n",
       "</g>\n",
       "<g style=\"fill:rgb(0%,0%,0%);fill-opacity:1;\">\n",
       "  <use xlink:href=\"#glyph1-1\" x=\"41.538086\" y=\"265.457031\"/>\n",
       "  <use xlink:href=\"#glyph1-2\" x=\"41.538086\" y=\"258.785156\"/>\n",
       "  <use xlink:href=\"#glyph1-1\" x=\"41.538086\" y=\"255.449219\"/>\n",
       "  <use xlink:href=\"#glyph1-5\" x=\"41.538086\" y=\"248.777344\"/>\n",
       "</g>\n",
       "<g style=\"fill:rgb(0%,0%,0%);fill-opacity:1;\">\n",
       "  <use xlink:href=\"#glyph1-1\" x=\"41.538086\" y=\"211.003906\"/>\n",
       "  <use xlink:href=\"#glyph1-2\" x=\"41.538086\" y=\"204.332031\"/>\n",
       "  <use xlink:href=\"#glyph1-1\" x=\"41.538086\" y=\"200.996094\"/>\n",
       "  <use xlink:href=\"#glyph1-6\" x=\"41.538086\" y=\"194.324219\"/>\n",
       "</g>\n",
       "<g style=\"fill:rgb(0%,0%,0%);fill-opacity:1;\">\n",
       "  <use xlink:href=\"#glyph1-1\" x=\"41.538086\" y=\"156.550781\"/>\n",
       "  <use xlink:href=\"#glyph1-2\" x=\"41.538086\" y=\"149.878906\"/>\n",
       "  <use xlink:href=\"#glyph1-7\" x=\"41.538086\" y=\"146.542969\"/>\n",
       "  <use xlink:href=\"#glyph1-1\" x=\"41.538086\" y=\"139.871094\"/>\n",
       "</g>\n",
       "<g style=\"fill:rgb(0%,0%,0%);fill-opacity:1;\">\n",
       "  <use xlink:href=\"#glyph1-1\" x=\"41.538086\" y=\"102.101562\"/>\n",
       "  <use xlink:href=\"#glyph1-2\" x=\"41.538086\" y=\"95.429688\"/>\n",
       "  <use xlink:href=\"#glyph1-7\" x=\"41.538086\" y=\"92.09375\"/>\n",
       "  <use xlink:href=\"#glyph1-3\" x=\"41.538086\" y=\"85.421875\"/>\n",
       "</g>\n",
       "<path style=\"fill:none;stroke-width:0.75;stroke-linecap:round;stroke-linejoin:round;stroke:rgb(0%,0%,0%);stroke-opacity:1;stroke-miterlimit:10;\" d=\"M 59.039062 430.558594 L 473.761719 430.558594 L 473.761719 59.039062 L 59.039062 59.039062 L 59.039062 430.558594 \"/>\n",
       "<g style=\"fill:rgb(0%,0%,0%);fill-opacity:1;\">\n",
       "  <use xlink:href=\"#glyph0-7\" x=\"247.898438\" y=\"485.057617\"/>\n",
       "  <use xlink:href=\"#glyph0-8\" x=\"255.842773\" y=\"485.057617\"/>\n",
       "  <use xlink:href=\"#glyph0-9\" x=\"259.178711\" y=\"485.057617\"/>\n",
       "  <use xlink:href=\"#glyph0-10\" x=\"263.174805\" y=\"485.057617\"/>\n",
       "  <use xlink:href=\"#glyph0-11\" x=\"265.838867\" y=\"485.057617\"/>\n",
       "  <use xlink:href=\"#glyph0-12\" x=\"271.599609\" y=\"485.057617\"/>\n",
       "  <use xlink:href=\"#glyph0-13\" x=\"278.271484\" y=\"485.057617\"/>\n",
       "</g>\n",
       "<g style=\"fill:rgb(0%,0%,0%);fill-opacity:1;\">\n",
       "  <use xlink:href=\"#glyph1-8\" x=\"12.737305\" y=\"259.800781\"/>\n",
       "  <use xlink:href=\"#glyph1-9\" x=\"12.737305\" y=\"252.516602\"/>\n",
       "  <use xlink:href=\"#glyph1-10\" x=\"12.737305\" y=\"245.844727\"/>\n",
       "  <use xlink:href=\"#glyph1-11\" x=\"12.737305\" y=\"243.180664\"/>\n",
       "  <use xlink:href=\"#glyph1-12\" x=\"12.737305\" y=\"236.508789\"/>\n",
       "</g>\n",
       "<g clip-path=\"url(#clip1)\" clip-rule=\"nonzero\">\n",
       "<path style=\"fill:none;stroke-width:0.75;stroke-linecap:round;stroke-linejoin:round;stroke:rgb(0%,0%,100%);stroke-opacity:1;stroke-dasharray:3,3;stroke-miterlimit:10;\" d=\"M 74.398438 51.296875 L 93.601562 102.304688 L 112.800781 149.632812 L 132 193.082031 L 151.199219 232.285156 L 170.398438 267.082031 L 189.601562 297.632812 L 208.800781 323.957031 L 228 346.085938 L 247.199219 364.359375 L 266.398438 379.160156 L 285.601562 390.726562 L 304.800781 399.390625 L 324 405.679688 L 343.199219 410.050781 L 362.398438 412.972656 L 381.601562 414.8125 L 400.800781 415.878906 L 420 416.453125 L 439.199219 416.699219 L 458.398438 416.78125 \"/>\n",
       "</g>\n",
       "<path style=\"fill:none;stroke-width:0.75;stroke-linecap:round;stroke-linejoin:round;stroke:rgb(100%,0%,0%);stroke-opacity:1;stroke-miterlimit:10;\" d=\"M 409.113281 69.839844 L 425.3125 69.839844 \"/>\n",
       "<path style=\"fill:none;stroke-width:0.75;stroke-linecap:round;stroke-linejoin:round;stroke:rgb(0%,0%,100%);stroke-opacity:1;stroke-dasharray:0.75,2.25;stroke-miterlimit:10;\" d=\"M 409.113281 80.640625 L 425.3125 80.640625 \"/>\n",
       "<g style=\"fill:rgb(0%,0%,0%);fill-opacity:1;\">\n",
       "  <use xlink:href=\"#glyph2-1\" x=\"433.414062\" y=\"72.671875\"/>\n",
       "  <use xlink:href=\"#glyph2-2\" x=\"439.37207\" y=\"72.671875\"/>\n",
       "  <use xlink:href=\"#glyph2-3\" x=\"441.78418\" y=\"72.671875\"/>\n",
       "  <use xlink:href=\"#glyph2-4\" x=\"446.788086\" y=\"72.671875\"/>\n",
       "  <use xlink:href=\"#glyph2-5\" x=\"449.290039\" y=\"72.671875\"/>\n",
       "  <use xlink:href=\"#glyph2-3\" x=\"454.798828\" y=\"72.671875\"/>\n",
       "  <use xlink:href=\"#glyph2-6\" x=\"459.802734\" y=\"72.671875\"/>\n",
       "</g>\n",
       "<g style=\"fill:rgb(0%,0%,0%);fill-opacity:1;\">\n",
       "  <use xlink:href=\"#glyph2-7\" x=\"433.414062\" y=\"83.472656\"/>\n",
       "  <use xlink:href=\"#glyph2-3\" x=\"438.417969\" y=\"83.472656\"/>\n",
       "  <use xlink:href=\"#glyph2-8\" x=\"443.421875\" y=\"83.472656\"/>\n",
       "  <use xlink:href=\"#glyph2-9\" x=\"447.921875\" y=\"83.472656\"/>\n",
       "  <use xlink:href=\"#glyph2-6\" x=\"452.925781\" y=\"83.472656\"/>\n",
       "  <use xlink:href=\"#glyph2-4\" x=\"454.923828\" y=\"83.472656\"/>\n",
       "  <use xlink:href=\"#glyph2-5\" x=\"457.425781\" y=\"83.472656\"/>\n",
       "  <use xlink:href=\"#glyph2-3\" x=\"462.93457\" y=\"83.472656\"/>\n",
       "  <use xlink:href=\"#glyph2-6\" x=\"467.938477\" y=\"83.472656\"/>\n",
       "</g>\n",
       "</g>\n",
       "</svg>\n"
      ],
      "text/plain": [
       "plot without title"
      ]
     },
     "metadata": {
      "image/svg+xml": {
       "isolated": true
      }
     },
     "output_type": "display_data"
    }
   ],
   "source": [
    "strikes <- seq(1,1.4,0.02)\n",
    "\n",
    "lbSV <- sapply(strikes,function(K){priceLookback(sampleSV,K)})\n",
    "lbLV <-sapply(strikes,function(K){priceLookback(sampleLV,K)})\n",
    "\n",
    "plot(strikes, lbSV, col=\"red\",type=\"l\",ylab=\"Value\",xlab=\"Strikes\")\n",
    "points(strikes, lbLV, col=\"blue\",type=\"l\", lty=2)\n",
    "\n",
    "# add legend to the plot\n",
    "legend('topright', c(\"Sto Vol\",\"Local Vol\"), lty=c(\"solid\", \"dotted\"),\n",
    "       col=c(\"red\", \"blue\"), bty='n', cex=.75)"
   ]
  },
  {
   "cell_type": "markdown",
   "metadata": {},
   "source": [
    "### 3. (6 points) \n",
    "\n",
    "What is the intuition behind the difference in price under stochastic volatility and local volatility assumptions respectively?  Appeal to the dynamics of the implied volatility skew in\n",
    "your answer. "
   ]
  },
  {
   "cell_type": "markdown",
   "metadata": {},
   "source": [
    "We can look at this from the hedging argument. How do we hedge a lookback call option? If the spot never goes above the strike price, we don't need to do anything. Once the spot hit the strike, we sell a call strike at $K$ and by a call strike at $K + \\Delta K$. We will make some money from each rebablance due to the negative skew. One of the difference between stochastic vol and local vol models is stochastic vol have a steeper skew than the local vol, which means we could make more money from each rebalance under stochastic vol than the local vol model. So, from basic no arbitrage argument, the value calculated from the stochastic vol model must be less than the value from the local vol model.'"
   ]
  },
  {
   "cell_type": "markdown",
   "metadata": {},
   "source": [
    "## The effect of discreteness"
   ]
  },
  {
   "cell_type": "markdown",
   "metadata": {},
   "source": [
    "### 4. (6 points) \n",
    "\n",
    "Repeat Problem 1 with weekly monitoring (assume 52 weeks).  Estimate the difference in price using the Broadie, Glasserman and Kou adjustment.  Compare with your Monte Carlo results and comment."
   ]
  },
  {
   "cell_type": "code",
   "execution_count": 9,
   "metadata": {
    "collapsed": true
   },
   "outputs": [],
   "source": [
    "# Weekly monitors\n",
    "mW <- 52 / 2\n",
    "\n",
    "# Run the simulation with weekly monitoring\n",
    "sampleLV_W <- HestonLvMCxmax(paramsCh4)(S0=S0, T=T, N=N, m=mW);\n",
    "sampleSV_W <- HestonMCxmax(paramsCh4)(S0=S0, T=T, N=N, m=mW,evolve=evolveAlfonsiF);"
   ]
  },
  {
   "cell_type": "code",
   "execution_count": 10,
   "metadata": {
    "collapsed": false
   },
   "outputs": [
    {
     "data": {
      "text/html": [
       "'The price of the one year ATM lookback option under stochastic volatility model is 0.122220361308426'"
      ],
      "text/latex": [
       "'The price of the one year ATM lookback option under stochastic volatility model is 0.122220361308426'"
      ],
      "text/markdown": [
       "'The price of the one year ATM lookback option under stochastic volatility model is 0.122220361308426'"
      ],
      "text/plain": [
       "[1] \"The price of the one year ATM lookback option under stochastic volatility model is 0.122220361308426\""
      ]
     },
     "execution_count": 10,
     "metadata": {},
     "output_type": "execute_result"
    },
    {
     "data": {
      "text/html": [
       "'The price of the one year ATM lookback option under local volatility model is 0.128897856944569'"
      ],
      "text/latex": [
       "'The price of the one year ATM lookback option under local volatility model is 0.128897856944569'"
      ],
      "text/markdown": [
       "'The price of the one year ATM lookback option under local volatility model is 0.128897856944569'"
      ],
      "text/plain": [
       "[1] \"The price of the one year ATM lookback option under local volatility model is 0.128897856944569\""
      ]
     },
     "execution_count": 10,
     "metadata": {},
     "output_type": "execute_result"
    }
   ],
   "source": [
    "lookBackSV_W <- priceLookback(sampleSV_W, S0)\n",
    "lookBackLV_W <- priceLookback(sampleLV_W, S0)\n",
    "\n",
    "paste('The price of the one year ATM lookback option under stochastic volatility model is', lookBackSV_W)\n",
    "paste('The price of the one year ATM lookback option under local volatility model is', lookBackLV_W)"
   ]
  },
  {
   "cell_type": "code",
   "execution_count": 11,
   "metadata": {
    "collapsed": true
   },
   "outputs": [],
   "source": [
    "# Implement the lookback option adjustment function\n",
    "lookBackDiff <- function(sample, sample_W, lookBackPrice){\n",
    "    # function to return the price difference between dialy monitoring and weekly monitoring\n",
    "    \n",
    "    sm <- mean(exp(sample$xmax))\n",
    "\n",
    "    sm_W <- mean(exp(sample_W$xmax))\n",
    "\n",
    "    eb <- sm_W / sm\n",
    "\n",
    "    diff <- lookBackPrice * (1 - eb) + (1 - eb)\n",
    "\n",
    "    return(diff)\n",
    "}"
   ]
  },
  {
   "cell_type": "markdown",
   "metadata": {},
   "source": [
    "### Sto vol difference"
   ]
  },
  {
   "cell_type": "code",
   "execution_count": 12,
   "metadata": {
    "collapsed": false
   },
   "outputs": [
    {
     "data": {
      "text/html": [
       "'The estimated price difference using Broadie, Glasserman and Kou adjustment is 0.00413387313023521'"
      ],
      "text/latex": [
       "'The estimated price difference using Broadie, Glasserman and Kou adjustment is 0.00413387313023521'"
      ],
      "text/markdown": [
       "'The estimated price difference using Broadie, Glasserman and Kou adjustment is 0.00413387313023521'"
      ],
      "text/plain": [
       "[1] \"The estimated price difference using Broadie, Glasserman and Kou adjustment is 0.00413387313023521\""
      ]
     },
     "execution_count": 12,
     "metadata": {},
     "output_type": "execute_result"
    },
    {
     "data": {
      "text/html": [
       "'The price difference from Monte Carlo results is 0.00413387313023511'"
      ],
      "text/latex": [
       "'The price difference from Monte Carlo results is 0.00413387313023511'"
      ],
      "text/markdown": [
       "'The price difference from Monte Carlo results is 0.00413387313023511'"
      ],
      "text/plain": [
       "[1] \"The price difference from Monte Carlo results is 0.00413387313023511\""
      ]
     },
     "execution_count": 12,
     "metadata": {},
     "output_type": "execute_result"
    }
   ],
   "source": [
    "paste('The estimated price difference using Broadie, Glasserman and Kou adjustment is', \n",
    "      lookBackDiff(sampleSV, sampleSV_W, lookBackSV))\n",
    "\n",
    "paste('The price difference from Monte Carlo results is', lookBackSV - lookBackSV_W)"
   ]
  },
  {
   "cell_type": "markdown",
   "metadata": {},
   "source": [
    "### Local vol difference"
   ]
  },
  {
   "cell_type": "code",
   "execution_count": 13,
   "metadata": {
    "collapsed": false
   },
   "outputs": [
    {
     "data": {
      "text/html": [
       "'The estimated price difference using Broadie, Glasserman and Kou adjustment is 0.00535497697576812'"
      ],
      "text/latex": [
       "'The estimated price difference using Broadie, Glasserman and Kou adjustment is 0.00535497697576812'"
      ],
      "text/markdown": [
       "'The estimated price difference using Broadie, Glasserman and Kou adjustment is 0.00535497697576812'"
      ],
      "text/plain": [
       "[1] \"The estimated price difference using Broadie, Glasserman and Kou adjustment is 0.00535497697576812\""
      ]
     },
     "execution_count": 13,
     "metadata": {},
     "output_type": "execute_result"
    },
    {
     "data": {
      "text/html": [
       "'The price difference from Monte Carlo results is 0.00535497697576806'"
      ],
      "text/latex": [
       "'The price difference from Monte Carlo results is 0.00535497697576806'"
      ],
      "text/markdown": [
       "'The price difference from Monte Carlo results is 0.00535497697576806'"
      ],
      "text/plain": [
       "[1] \"The price difference from Monte Carlo results is 0.00535497697576806\""
      ]
     },
     "execution_count": 13,
     "metadata": {},
     "output_type": "execute_result"
    }
   ],
   "source": [
    "paste('The estimated price difference using Broadie, Glasserman and Kou adjustment is', \n",
    "      lookBackDiff(sampleLV, sampleLV_W, lookBackLV))\n",
    "\n",
    "paste('The price difference from Monte Carlo results is', lookBackLV - lookBackLV_W)"
   ]
  },
  {
   "cell_type": "markdown",
   "metadata": {},
   "source": [
    "### Comments"
   ]
  },
  {
   "cell_type": "markdown",
   "metadata": {},
   "source": [
    "From the result above, we can see under stochastic vol and local vol, the Broadie, Glasserman and Kou adjustment to estimate the discreteness difference is very accurate."
   ]
  }
 ],
 "metadata": {
  "kernelspec": {
   "display_name": "R",
   "language": "R",
   "name": "ir"
  },
  "language_info": {
   "codemirror_mode": "r",
   "file_extension": ".r",
   "mimetype": "text/x-r-source",
   "name": "R",
   "pygments_lexer": "r",
   "version": "3.2.2"
  }
 },
 "nbformat": 4,
 "nbformat_minor": 0
}
